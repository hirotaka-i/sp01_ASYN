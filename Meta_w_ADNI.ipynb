{
 "cells": [
  {
   "cell_type": "markdown",
   "metadata": {},
   "source": [
    "# CSF ANALYSIS FOR PPMI data\n",
    "\n",
    "<span style=\"color:green\">\n",
    "Created: 2018-08-14     \n",
    "By: Hirotaka Iwaki    \n",
    "This document is a branched version of [prior analysis](https://github.com/hirotaka-i/sp01_ASYN/blob/master/CSF_ASync.ipynb)     \n",
    "Instead of using raw csf $\\alpha$-synuclein concentrations, here we used log tranformed concentrations.    \n",
    "The main reason of dosing so is to combine the results with [prvious study on ADNI](https://www.ncbi.nlm.nih.gov/pubmed/29959729)    \n",
    "**Analysis summary**    \n",
    "Among 51 significant/sub-significant variants in ADNI study, we had 4 variants imputed with sufficient quality (Rsq>0.8) in PPMI dataset. In the analysis within PPMI dataset, only one had p < 0.05 for the association with the outcome. This association was mainly derived from controls rather than cases. The direction was opposite from the ADNI study.     \n",
    "I also evaluated some variants in interest, including meta5 risk variants. But cannot find signals. either\n",
    "</span>\n"
   ]
  },
  {
   "cell_type": "markdown",
   "metadata": {},
   "source": [
    "## Variants in interest from ADNI study\n",
    "\n",
    "#### The study used different reference for variants' positions. Get GRCh37 positions from rsIDs."
   ]
  },
  {
   "cell_type": "code",
   "execution_count": 2,
   "metadata": {},
   "outputs": [],
   "source": [
    "%%bash\n",
    "mkdir -p t\n",
    "sed 's/,/\\t/g' data/sigADNI.csv | awk 'NR==1{print $0; next}{print $0 | \"LANG=C sort\"}' > t/signADNI_IDsorted.tab\n",
    "LANG=C join --header  /home/$USER/tools/rs_37_IDsorted.txt t/signADNI_IDsorted.tab > t/signANDI_IDsorted_pos.tab"
   ]
  },
  {
   "cell_type": "markdown",
   "metadata": {},
   "source": [
    "####  Convert betas from ADNI study to go with the alternative alleles in PPMI dataset"
   ]
  },
  {
   "cell_type": "code",
   "execution_count": 3,
   "metadata": {},
   "outputs": [
    {
     "data": {
      "text/html": [
       "<div>\n",
       "<style scoped>\n",
       "    .dataframe tbody tr th:only-of-type {\n",
       "        vertical-align: middle;\n",
       "    }\n",
       "\n",
       "    .dataframe tbody tr th {\n",
       "        vertical-align: top;\n",
       "    }\n",
       "\n",
       "    .dataframe thead th {\n",
       "        text-align: right;\n",
       "    }\n",
       "</style>\n",
       "<table border=\"1\" class=\"dataframe\">\n",
       "  <thead>\n",
       "    <tr style=\"text-align: right;\">\n",
       "      <th></th>\n",
       "      <th>ID</th>\n",
       "      <th>POS</th>\n",
       "      <th>REF</th>\n",
       "      <th>ALT</th>\n",
       "      <th>MAF</th>\n",
       "      <th>A1</th>\n",
       "      <th>BeTA</th>\n",
       "      <th>P</th>\n",
       "      <th>NearestG</th>\n",
       "      <th>convBETA</th>\n",
       "    </tr>\n",
       "  </thead>\n",
       "  <tbody>\n",
       "    <tr>\n",
       "      <th>0</th>\n",
       "      <td>rs10119993</td>\n",
       "      <td>9:132139969</td>\n",
       "      <td>T</td>\n",
       "      <td>C</td>\n",
       "      <td>0.05364</td>\n",
       "      <td>T</td>\n",
       "      <td>0.2877</td>\n",
       "      <td>2.740000e-06</td>\n",
       "      <td>Unknown</td>\n",
       "      <td>-0.2877</td>\n",
       "    </tr>\n",
       "    <tr>\n",
       "      <th>1</th>\n",
       "      <td>rs1041915</td>\n",
       "      <td>6:130014253</td>\n",
       "      <td>A</td>\n",
       "      <td>G</td>\n",
       "      <td>0.09987</td>\n",
       "      <td>C</td>\n",
       "      <td>0.2461</td>\n",
       "      <td>2.160000e-06</td>\n",
       "      <td>ARHGAP18</td>\n",
       "      <td>0.2461</td>\n",
       "    </tr>\n",
       "    <tr>\n",
       "      <th>2</th>\n",
       "      <td>rs10489390</td>\n",
       "      <td>1:210507809</td>\n",
       "      <td>A</td>\n",
       "      <td>G</td>\n",
       "      <td>0.08520</td>\n",
       "      <td>C</td>\n",
       "      <td>0.2736</td>\n",
       "      <td>3.740000e-06</td>\n",
       "      <td>HHAT</td>\n",
       "      <td>0.2736</td>\n",
       "    </tr>\n",
       "    <tr>\n",
       "      <th>3</th>\n",
       "      <td>rs10762004</td>\n",
       "      <td>10:67479447</td>\n",
       "      <td>G</td>\n",
       "      <td>T</td>\n",
       "      <td>0.05812</td>\n",
       "      <td>T</td>\n",
       "      <td>0.4406</td>\n",
       "      <td>1.910000e-08</td>\n",
       "      <td>LINC01515</td>\n",
       "      <td>0.4406</td>\n",
       "    </tr>\n",
       "    <tr>\n",
       "      <th>4</th>\n",
       "      <td>rs10762011</td>\n",
       "      <td>10:67525572</td>\n",
       "      <td>T</td>\n",
       "      <td>C</td>\n",
       "      <td>0.06424</td>\n",
       "      <td>C</td>\n",
       "      <td>0.3394</td>\n",
       "      <td>1.960000e-06</td>\n",
       "      <td>LINC01515</td>\n",
       "      <td>0.3394</td>\n",
       "    </tr>\n",
       "  </tbody>\n",
       "</table>\n",
       "</div>"
      ],
      "text/plain": [
       "           ID          POS REF ALT      MAF A1    BeTA             P  \\\n",
       "0  rs10119993  9:132139969   T   C  0.05364  T  0.2877  2.740000e-06   \n",
       "1   rs1041915  6:130014253   A   G  0.09987  C  0.2461  2.160000e-06   \n",
       "2  rs10489390  1:210507809   A   G  0.08520  C  0.2736  3.740000e-06   \n",
       "3  rs10762004  10:67479447   G   T  0.05812  T  0.4406  1.910000e-08   \n",
       "4  rs10762011  10:67525572   T   C  0.06424  C  0.3394  1.960000e-06   \n",
       "\n",
       "    NearestG  convBETA  \n",
       "0    Unknown   -0.2877  \n",
       "1   ARHGAP18    0.2461  \n",
       "2       HHAT    0.2736  \n",
       "3  LINC01515    0.4406  \n",
       "4  LINC01515    0.3394  "
      ]
     },
     "execution_count": 3,
     "metadata": {},
     "output_type": "execute_result"
    }
   ],
   "source": [
    "import pandas as pd\n",
    "df = pd.read_csv(\"t/signANDI_IDsorted_pos.tab\", sep = \" \")\n",
    "def ConvGenotype(x):\n",
    "    if x == \"A\":\n",
    "        return 1\n",
    "    if x == \"T\":\n",
    "        return -1\n",
    "    if x == \"G\":\n",
    "        return 10\n",
    "    if x == \"C\":\n",
    "        return -10   \n",
    "def CheckFlip(x):\n",
    "    if ConvGenotype(x.REF) + ConvGenotype(x.ALT) == 0:\n",
    "        return None # palindrome\n",
    "    elif abs(ConvGenotype(x.ALT)) == abs(ConvGenotype(x.A1)) :\n",
    "        return x.BeTA # not flipped\n",
    "    else:\n",
    "        return -x.BeTA # flipped\n",
    "df['convBETA'] = df.apply(CheckFlip, axis=1)\n",
    "df.iloc[:,[1,0,8,2,3,4,6,7,8]].to_csv('t/ADNIsnps.txt', index=False, sep=\" \")\n",
    "df.head()"
   ]
  },
  {
   "cell_type": "code",
   "execution_count": 4,
   "metadata": {},
   "outputs": [],
   "source": [
    "%%bash\n",
    "awk 'NR==1{print $0; next}{print $0 | \"LANG=C sort\"}' t/ADNIsnps.txt > data/_snpADNI.txt"
   ]
  },
  {
   "cell_type": "markdown",
   "metadata": {},
   "source": [
    "## List of another variants in interest\n",
    "<span style=\"color:green\">\n",
    "    92 risk variants recently identified + variants in interests (GBA, LRRK, APOE..)\n",
    "</span> "
   ]
  },
  {
   "cell_type": "code",
   "execution_count": 5,
   "metadata": {},
   "outputs": [],
   "source": [
    "%%bash\n",
    "awk  '{print $1,$48,$34,$26,$27,$28,$29,$30,$31}' data/Meta5.tab | sed 's/chr//' |\\\n",
    "    awk 'NR==1{print;next}{print;\"LANG=C sort\"}'> data/_snpMETA5.txt\n",
    "awk -F',' '{print $4\":\"$5,$2,$1}' data/ProgressionPlus.csv |\\\n",
    "    awk '\":\"{print;next}{print;\"LANG=C sort\"}'> data/_snpPLUS.txt\n",
    "awk -F' ' '/rs/{print $1,$2,$3}' data/_snp* | LANG=C sort | sed '1 iPOS ID NearGene' | sed 's/ /\\t/g' > data/snpAll.txt"
   ]
  },
  {
   "cell_type": "code",
   "execution_count": 9,
   "metadata": {},
   "outputs": [],
   "source": [
    "%%bash\n",
    "cut -d' ' -f2 t/signANDI_IDsorted_pos.tab | tail -n +2 | LANG=C sort > posADNI.txt\n",
    "cut -f1 data/Meta5.tab | tail -n +2 | sed 's/chr//g' | LANG=C sort > posMETA5.txt\n",
    "cut -d',' -f 4,5 data/ProgressionPlus.csv | sed 's/,/:/g' | tail -n +2 | LANG=C sort | head > posPLUS.txt\n",
    "cat posADNI.txt posMETA5.txt posPLUS.txt | LANG=C sort | uniq |sed '1 iPOS'> posAll.txt\n",
    "LANG=C join -t$'\\t' -a 1 --header posAll.txt ../dataset/PPMI/maf001rsq3.info > posAll_freq.txt"
   ]
  },
  {
   "cell_type": "code",
   "execution_count": 191,
   "metadata": {},
   "outputs": [
    {
     "name": "stdout",
     "output_type": "stream",
     "text": [
      "PLINK v1.90b4.4 64-bit (21 May 2017)           www.cog-genomics.org/plink/1.9/\n",
      "(C) 2005-2017 Shaun Purcell, Christopher Chang   GNU General Public License v3\n",
      "Note: --recodeA flag deprecated.  Use 'recode A ...'.\n",
      "Logging to t/PPMI_extract.log.\n",
      "Options in effect:\n",
      "  --bfile /data/LNG/CORNELIS_TEMP/progression_GWAS/PPMI/plink_files_hard/PPMI.HARDCALLS\n",
      "  --extract posAll.txt\n",
      "  --out t/PPMI_extract\n",
      "  --recode A include-alt\n",
      "\n",
      "257653 MB RAM detected; reserving 128826 MB for main workspace.\n",
      "1073549 variants loaded from .bim file.\n",
      "580 people (0 males, 0 females, 580 ambiguous) loaded from .fam.\n",
      "Ambiguous sex IDs written to t/PPMI_extract.nosex .\n",
      "--extract: 82 variants remaining.\n",
      "Using 1 thread (no multithreaded calculations invoked).\n",
      "Before main variant filters, 580 founders and 0 nonfounders present.\n",
      "Calculating allele frequencies... 0%\b\b1%\b\b2%\b\b3%\b\b4%\b\b5%\b\b6%\b\b7%\b\b8%\b\b9%\b\b10%\b\b\b11%\b\b\b12%\b\b\b13%\b\b\b14%\b\b\b15%\b\b\b16%\b\b\b17%\b\b\b18%\b\b\b19%\b\b\b20%\b\b\b21%\b\b\b22%\b\b\b23%\b\b\b24%\b\b\b25%\b\b\b26%\b\b\b27%\b\b\b28%\b\b\b29%\b\b\b30%\b\b\b31%\b\b\b32%\b\b\b33%\b\b\b34%\b\b\b35%\b\b\b36%\b\b\b37%\b\b\b38%\b\b\b39%\b\b\b40%\b\b\b41%\b\b\b42%\b\b\b43%\b\b\b44%\b\b\b45%\b\b\b46%\b\b\b47%\b\b\b48%\b\b\b49%\b\b\b50%\b\b\b51%\b\b\b52%\b\b\b53%\b\b\b54%\b\b\b55%\b\b\b56%\b\b\b57%\b\b\b58%\b\b\b59%\b\b\b60%\b\b\b61%\b\b\b62%\b\b\b63%\b\b\b64%\b\b\b65%\b\b\b66%\b\b\b67%\b\b\b68%\b\b\b69%\b\b\b70%\b\b\b71%\b\b\b72%\b\b\b73%\b\b\b74%\b\b\b75%\b\b\b76%\b\b\b77%\b\b\b78%\b\b\b79%\b\b\b80%\b\b\b81%\b\b\b82%\b\b\b83%\b\b\b84%\b\b\b85%\b\b\b86%\b\b\b87%\b\b\b88%\b\b\b89%\b\b\b90%\b\b\b91%\b\b\b92%\b\b\b93%\b\b\b94%\b\b\b95%\b\b\b96%\b\b\b97%\b\b\b98%\b\b\b99%\b\b\b\b done.\n",
      "82 variants and 580 people pass filters and QC.\n",
      "Note: No phenotypes present.\n",
      "--recode A to t/PPMI_extract.raw ... 0%\b\b1%\b\b2%\b\b3%\b\b4%\b\b5%\b\b6%\b\b7%\b\b8%\b\b9%\b\b10%\b\b\b11%\b\b\b12%\b\b\b13%\b\b\b14%\b\b\b15%\b\b\b16%\b\b\b17%\b\b\b18%\b\b\b19%\b\b\b20%\b\b\b21%\b\b\b22%\b\b\b23%\b\b\b24%\b\b\b25%\b\b\b26%\b\b\b27%\b\b\b28%\b\b\b29%\b\b\b30%\b\b\b31%\b\b\b32%\b\b\b33%\b\b\b34%\b\b\b35%\b\b\b36%\b\b\b37%\b\b\b38%\b\b\b39%\b\b\b40%\b\b\b41%\b\b\b42%\b\b\b43%\b\b\b44%\b\b\b45%\b\b\b46%\b\b\b47%\b\b\b48%\b\b\b49%\b\b\b50%\b\b\b51%\b\b\b52%\b\b\b53%\b\b\b54%\b\b\b55%\b\b\b56%\b\b\b57%\b\b\b58%\b\b\b59%\b\b\b60%\b\b\b61%\b\b\b62%\b\b\b63%\b\b\b64%\b\b\b65%\b\b\b66%\b\b\b67%\b\b\b68%\b\b\b69%\b\b\b70%\b\b\b71%\b\b\b72%\b\b\b73%\b\b\b74%\b\b\b75%\b\b\b76%\b\b\b77%\b\b\b78%\b\b\b79%\b\b\b80%\b\b\b81%\b\b\b82%\b\b\b83%\b\b\b84%\b\b\b85%\b\b\b86%\b\b\b87%\b\b\b88%\b\b\b89%\b\b\b90%\b\b\b91%\b\b\b92%\b\b\b93%\b\b\b94%\b\b\b95%\b\b\b96%\b\b\b97%\b\b\b98%\b\b\b99%\b\b\bdone.\n"
     ]
    },
    {
     "name": "stderr",
     "output_type": "stream",
     "text": [
      "[+] Loading plink  1.9.0-beta4.4  on cn3297 \n",
      "Warning: At least 4 duplicate IDs in --extract file.\n"
     ]
    }
   ],
   "source": [
    "%%bash\n",
    "# extract from plink bfile which filter imputation quality of Rsq >0.8\n",
    "module load plink\n",
    "DATASET=PPMI\n",
    "plink --bfile /data/LNG/CORNELIS_TEMP/progression_GWAS/$DATASET/plink_files_hard/$DATASET.HARDCALLS \\\n",
    "    --extract posAll.txt --recodeA include-alt --out t/\"$DATASET\"_extract"
   ]
  },
  {
   "cell_type": "markdown",
   "metadata": {},
   "source": [
    "### Analysis\n",
    "<span style=\"color:green\">\n",
    "    Analysis will be done by R.    \n",
    "    _analysis.R will process the variants per every 20K. (This is for later step. Not relevant to the analysis here)    \n",
    "    Analysis will be done by case-only, control-only, and all\n",
    "</span>"
   ]
  },
  {
   "cell_type": "code",
   "execution_count": 192,
   "metadata": {},
   "outputs": [
    {
     "name": "stdout",
     "output_type": "stream",
     "text": [
      "PPMI N_COL_88 N_SNP_82 N_ITER_0\n"
     ]
    }
   ],
   "source": [
    "%%bash\n",
    "mkdir -p PPMI/cut20_extract\n",
    "FOLDER=PPMI/cut20_extract\n",
    "DATASET=PPMI\n",
    "N_COL=$(head -n1 t/\"$DATASET\"_extract.raw | sed 's/ /\\n/g' | wc -l)\n",
    "N_SNP=$(expr $N_COL - 6) # first 6 columns (FID IID PAT MAT SEX PHENOTYPE)\n",
    "N_ITER=$(expr $(expr $N_SNP - 1) / 20000)  # number of iteration (couting up from 0)\n",
    "echo $DATASET N_COL_$N_COL N_SNP_$N_SNP N_ITER_$N_ITER\n",
    "for i in $(seq 0 $N_ITER);do\n",
    "    START=$(expr 20000 \\* $i + 7)\n",
    "    if [ $i == $N_ITER ];then\n",
    "        STOP=$N_COL\n",
    "        cut -d\" \" -f2,\"$START\"-\"$STOP\" t/\"$DATASET\"_extract.raw | sed 's/ /\\t/g' > $FOLDER/tp\"$i\".txt\n",
    "    else\n",
    "        STOP=$(expr 20000 \\* $(expr $i + 1) + 6)\n",
    "        cut -d\" \" -f2,\"$START\"-\"$STOP\" t/\"$DATASET\"_extract.raw | sed 's/ /\\t/g' > $FOLDER/tp\"$i\".txt\n",
    "    fi\n",
    "done"
   ]
  },
  {
   "cell_type": "markdown",
   "metadata": {},
   "source": [
    "#### Separate analysis for case and controls"
   ]
  },
  {
   "cell_type": "code",
   "execution_count": 231,
   "metadata": {},
   "outputs": [
    {
     "name": "stdout",
     "output_type": "stream",
     "text": [
      "[1] \"PPMI 0 logASYN 0\"\n",
      "[1] \"complete\"\n",
      "[1] \"PPMI 0 logASYN 1\"\n",
      "[1] \"complete\"\n"
     ]
    },
    {
     "name": "stderr",
     "output_type": "stream",
     "text": [
      "[+] Loading gcc  7.2.0  ... \n",
      "[+] Loading GSL 2.4 for GCC 7.2.0 ... \n",
      "[+] Loading openmpi 3.0.0  for GCC 7.2.0 \n",
      "[+] Loading R 3.5.0_build2 \n",
      "\n",
      "Attaching package: ‘dplyr’\n",
      "\n",
      "The following objects are masked from ‘package:data.table’:\n",
      "\n",
      "    between, first, last\n",
      "\n",
      "The following objects are masked from ‘package:stats’:\n",
      "\n",
      "    filter, lag\n",
      "\n",
      "The following objects are masked from ‘package:base’:\n",
      "\n",
      "    intersect, setdiff, setequal, union\n",
      "\n",
      "Loading required package: Matrix\n",
      "fixed-effect model matrix is rank deficient so dropping 1 column / coefficient\n",
      "\n",
      "Attaching package: ‘dplyr’\n",
      "\n",
      "The following objects are masked from ‘package:data.table’:\n",
      "\n",
      "    between, first, last\n",
      "\n",
      "The following objects are masked from ‘package:stats’:\n",
      "\n",
      "    filter, lag\n",
      "\n",
      "The following objects are masked from ‘package:base’:\n",
      "\n",
      "    intersect, setdiff, setequal, union\n",
      "\n",
      "Loading required package: Matrix\n"
     ]
    }
   ],
   "source": [
    "%%bash\n",
    "# Rscript _analysis.R  FILE  logASYN  CASECODE\n",
    "echo  '\n",
    "library(data.table);library(dplyr);library(lme4)\n",
    "args <- commandArgs(trailingOnly = TRUE)\n",
    "FILE = args[1]\n",
    "DATASET=strsplit(FILE, \"/\")[[1]][1]\n",
    "ITER=strsplit(FILE, \"/\")[[1]][3] %>% gsub(\"^tp|.txt$\",\"\" , .)\n",
    "OUTCOME=args[2]\n",
    "CASECODE = as.numeric(args[3])\n",
    "print(paste(DATASET,ITER, OUTCOME, CASECODE))\n",
    "# Read pheno.txt and set COV (PC1 and PC2)\n",
    "cohort=fread(\"data/pheno_PC5.txt\") %>% filter(CASE==CASECODE) # Only limiting to CASE/CONTROL\n",
    "COVs = names(cohort)[c(-(1:3),-9, -10, -11)] # eliminate ID, OUTCOME, CASE, PC3-5 from covariates\n",
    "cohort = cohort %>% mutate(logASYN=log(ASYN))\n",
    "# Read genotyping data\n",
    "SNPset = fread(FILE)\n",
    "SNPs = names(SNPset)[-1] # 1 ID, SNP name starts from 2nd col\n",
    "## Merge\n",
    "cohort_snp = left_join(cohort, SNPset, by = \"IID\")\n",
    "# Set function for analysis\n",
    "glmm.listfunc = function(x){\n",
    "  # Models\n",
    "  MODEL = paste(OUTCOME, \"~\", \"`\", SNPs[x], \"`+\", paste(COVs, collapse=\"+\"), \"+(1|IID)\", sep = \"\")\n",
    "  testLmer = try(lmer(eval(parse(text = MODEL)), data = cohort_snp),silent = T)\n",
    "  if(class(testLmer)[1]==\"try-error\"){\n",
    "    sumstat=rep(\"DROP\",6)\n",
    "  }else{\n",
    "    temp = summary(testLmer)\n",
    "    temp1 = temp$coefficients\n",
    "    if(grep(substr(SNPs[x],1,7), rownames(temp1)) %>% length == 0){ # In this case, SNP is dropeed from the model\n",
    "      sumstat=rep(NA,6)\n",
    "    }else{\n",
    "      RES = temp1[2,] # The first row is intercept\n",
    "      PV_APPROX = 2 * pnorm(abs(RES[3]), lower.tail=F) # df is enough large for approximation\n",
    "      OBS_N = paste(length(temp$residuals), \"_\", temp$ngrps, sep=\"\")\n",
    "      sumstat <- c(SNPs[x], OBS_N, RES[3], RES[1], RES[2], PV_APPROX)\n",
    "    }\n",
    "  }\n",
    "  return(sumstat)\n",
    "}\n",
    "temp = lapply(1:length(SNPs), glmm.listfunc)\n",
    "temp2 = do.call(rbind, temp)\n",
    "attributes(temp2)$dimnames[[2]]=c(\"POS_A1(/A2)\", \"OBS_N\", \"Tvalue\", \"Beta\", \"SE\", \"PvApprox\")\n",
    "write.table(temp2, paste(DATASET, \"/\", OUTCOME, \"/PHENO\", CASECODE, \"_\", ITER, \".txt\", sep=\"\"), row.names = F, quote = F, sep = \"\\t\")\n",
    "print(\"complete\")\n",
    "' > _analysis1.R\n",
    "\n",
    "DATASET=PPMI\n",
    "OUTCOME=logASYN\n",
    "FOLDER=PPMI/cut20_extract\n",
    "module load R\n",
    "mkdir -p $DATASET/$OUTCOME\n",
    "for FILE in $(ls $FOLDER);do\n",
    "    for CASECODE in 0 1;do\n",
    "        Rscript --vanilla _analysis1.R $FOLDER/$FILE logASYN $CASECODE\n",
    "    done\n",
    "done"
   ]
  },
  {
   "cell_type": "code",
   "execution_count": 232,
   "metadata": {},
   "outputs": [
    {
     "name": "stdout",
     "output_type": "stream",
     "text": [
      "POS\tA1\tA2\tBeta\tSE\tPvApprox\n",
      "1:154898185\tC\tG\t0.120038966816388\t0.227873839748725\t0.598347636439312\n",
      "1:155135036\tA\tG\t-0.325598320954437\t0.190698836613698\t0.0877485803723177\n",
      "1:155205634\tC\tT\t0.249251667011242\t0.385078639295328\t0.517454162152952\n",
      "1:161469054\tG\tC\t0.0520186318981671\t0.0426181488793378\t0.222247111556426\n",
      "1:171719769\tT\tC\t0.0359282275543565\t0.0566832618258547\t0.526183991974181\n",
      "1:205723572\tC\tT\t-0.00272207441549625\t0.0467392361407523\t0.953557778026501\n",
      "1:205737739\tA\tG\t0.0114576208926563\t0.0611025738610337\t0.851257226375337\n",
      "1:226916078\tC\tT\t-0.0754508538783502\t0.0481833018542482\t0.117369009712297\n",
      "1:232664611\tT\tC\t-0.172876359199629\t0.0649641967329956\t0.00778853398931668\n"
     ]
    }
   ],
   "source": [
    "%%bash\n",
    "# Note A1 is a counted allele and usually minor. (A2 is usually major)\n",
    "cut -f 1,4-6 PPMI/logASYN/PHENO0_0.txt | sed 's/_/\\t/g' | sed 's/(\\//\\t/g' | sed 's/)//g' | head"
   ]
  },
  {
   "cell_type": "code",
   "execution_count": 234,
   "metadata": {},
   "outputs": [],
   "source": [
    "%%bash\n",
    "DATASET=PPMI\n",
    "for STRATA in PHENO0_0 PHENO1_0;do\n",
    "    cut -f 1,4-6 $DATASET/logASYN/$STRATA.txt | sed 's/_/\\t/g' | sed 's/(\\//\\t/g' | sed 's/)//g' |\\\n",
    "    awk 'NR==1{print $0;next}{print $0 | \"LANG=C sort\"}' |\\\n",
    "    LANG=C join -t$'\\t' --header - ../dataset/$DATASET/maf001rsq3.info > t/$STRATA.txt\n",
    "done"
   ]
  },
  {
   "cell_type": "code",
   "execution_count": 241,
   "metadata": {},
   "outputs": [
    {
     "name": "stdout",
     "output_type": "stream",
     "text": [
      "MetaAnalysis Helper - (c) 2007 - 2009 Goncalo Abecasis\n",
      "\n",
      "# This program faciliates meta-analysis of genome-wide association studies.\n",
      "# Commonly used commands are listed below:\n",
      "#\n",
      "# Options for describing input files ...\n",
      "#   SEPARATOR        [WHITESPACE|COMMA|BOTH|TAB] (default = WHITESPACE)\n",
      "#   COLUMNCOUNTING   [STRICT|LENIENT]            (default = 'STRICT')\n",
      "#   MARKERLABEL      [LABEL]                     (default = 'MARKER')\n",
      "#   ALLELELABELS     [LABEL1 LABEL2]             (default = 'ALLELE1','ALLELE2')\n",
      "#   EFFECTLABEL      [LABEL|log(LABEL)]          (default = 'EFFECT')\n",
      "#   FLIP\n",
      "#\n",
      "# Options for filtering input files ...\n",
      "#   ADDFILTER        [LABEL CONDITION VALUE]     (example = ADDFILTER N > 10)\n",
      "#                    (available conditions are <, >, <=, >=, =, !=, IN)\n",
      "#   REMOVEFILTERS\n",
      "#\n",
      "# Options for sample size weighted meta-analysis ...\n",
      "#   WEIGHTLABEL      [LABEL]                     (default = 'N')\n",
      "#   PVALUELABEL      [LABEL]                     (default = 'PVALUE')\n",
      "#   DEFAULTWEIGHT    [NUMBER]                    (default = 1.0)\n",
      "#   MINWEIGHT        [NUMBER]                    (default = 1.0)\n",
      "#\n",
      "# Options for inverse variance weighted meta-analysis ...\n",
      "#   STDERRLABEL      [LABEL]                     (default = 'STDERR')\n",
      "#   SCHEME           [SAMPLESIZE|STDERR]         (default = SAMPLESIZE)\n",
      "#\n",
      "# Options to enable tracking of allele frequencies ...\n",
      "#   AVERAGEFREQ      [ON|OFF]                    (default = OFF)\n",
      "#   MINMAXFREQ       [ON|OFF]                    (default = OFF)\n",
      "#   FREQLABEL        [LABEL]                     (default = 'FREQ')\n",
      "#\n",
      "# Options to enable tracking of user defined variables ...\n",
      "#   CUSTOMVARIABLE   [VARNAME]\n",
      "#   LABEL            [VARNAME] AS [HEADER]\n",
      "#\n",
      "# Options to enable explicit strand information ...\n",
      "#   USESTRAND        [ON|OFF]                    (default = OFF)\n",
      "#   STRANDLABEL      [LABEL]                     (default = 'STRAND')\n",
      "#\n",
      "# Automatic genomic control correction of input statistics ...\n",
      "#   GENOMICCONTROL   [ON|OFF|VALUE|LIST snps.txt](default = OFF)\n",
      "#\n",
      "# Options to account for samples overlap ...\n",
      "#   OVERLAP          [ON|OFF]                    (default = OFF)\n",
      "#   ZCUTOFF          [NUMBER]                    (default = 1.0)\n",
      "#\n",
      "# Options for general analysis control ...\n",
      "#   PROCESSFILE      [FILENAME]\n",
      "#   OUTFILE          [PREFIX SUFFIX]             (default = 'METAANALYSIS','.TBL')\n",
      "#   MAXWARNINGS      [NUMBER]                    (default = 20)\n",
      "#   VERBOSE          [ON|OFF]                    (default = 'OFF')\n",
      "#   LOGPVALUE        [ON|OFF]                    (default = 'OFF')\n",
      "#   ANALYZE          [HETEROGENEITY]\n",
      "#   CLEAR\n",
      "\n",
      "# Options for general run control ...\n",
      "#   SOURCE           [SCRIPTFILE]\n",
      "#   RETURN\n",
      "#   QUIT\n",
      "\n",
      "# Processing commands in meta/PPMI/logASYN/metal.txt ...\n",
      "## Meta-analysis will be based on effect sizes and their standard errors ...\n",
      "## Averaging of allele frequencies enabled\n",
      "## Tracking of extreme allele frequencies enabled\n",
      "## Set marker header to POS ...\n",
      "## Set allele headers to A1 and A2 ...\n",
      "## Set frequency header to ALT_Frq ...\n",
      "## Set effect header to Beta ...\n",
      "## Set standard error header to SE ...\n",
      "## Set p-value header to PvApprox ...\n",
      "###########################################################################\n",
      "## Processing file 't/PHENO0_0.txt'\n",
      "## Processed 81 markers ...\n",
      "\n",
      "## Set marker header to POS ...\n",
      "## Set allele headers to A1 and A2 ...\n",
      "## Set frequency header to ALT_Frq ...\n",
      "## Set effect header to Beta ...\n",
      "## Set standard error header to SE ...\n",
      "## Set p-value header to PvApprox ...\n",
      "###########################################################################\n",
      "## Processing file 't/PHENO1_0.txt'\n",
      "## Processed 81 markers ...\n",
      "\n",
      "## Set output file prefix and suffix to meta/PPMI/logASYN/metares and .tbl ...\n",
      "###########################################################################\n",
      "## Running second pass analysis to evaluate heterogeneity...\n",
      "## Processing file 't/PHENO1_0.txt'\n",
      "## Processing file 't/PHENO0_0.txt'\n",
      "\n",
      "###########################################################################\n",
      "## Executing meta-analysis ...\n",
      "## Complete results will be stored in file 'meta/PPMI/logASYN/metares1.tbl'\n",
      "## Column descriptions will be stored in file 'meta/PPMI/logASYN/metares1.tbl.info'\n",
      "## Completed meta-analysis for 81 markers!\n",
      "## Smallest p-value is 0.03729 at marker '2:152239059'\n",
      "\n",
      "## Clearing all stored statistics ...\n",
      "# Clearing user defined filters ...\n",
      "MarkerName\tAllele1\tAllele2\tFreq1\tFreqSE\tMinFreq\tMaxFreq\tEffect\tStdErr\tP-value\tDirection\tHetISq\tHetChiSq\tHetDf\tHetPVal\n",
      "2:152239059\ta\tc\t0.1242\t0.0000\t0.1242\t0.1242\t-0.0739\t0.0355\t0.03729\t--\t38.4\t1.623\t1\t0.2027\n",
      "4:90636630\ta\tg\t0.3308\t0.0000\t0.3308\t0.3308\t-0.0529\t0.0257\t0.03913\t--\t0.0\t0.021\t1\t0.8847\n",
      "11:83487277\ta\tc\t0.4004\t0.0000\t0.4004\t0.4004\t0.0503\t0.0246\t0.04047\t++\t0.0\t0.454\t1\t0.5006\n",
      "1:171719769\tt\tc\t0.2250\t0.0000\t0.2250\t0.2250\t0.0588\t0.0305\t0.05332\t++\t0.0\t0.230\t1\t0.6317\n",
      "3:161077630\ta\tg\t0.6633\t0.0000\t0.6633\t0.6633\t-0.0499\t0.0260\t0.05494\t--\t0.0\t0.171\t1\t0.6791\n",
      "10:121415685\ta\tg\t0.2418\t0.0000\t0.2418\t0.2418\t0.0564\t0.0296\t0.0567\t++\t0.0\t0.125\t1\t0.7236\n",
      "6:32578772\ta\tc\t0.1573\t0.0000\t0.1573\t0.1573\t0.0616\t0.0334\t0.06468\t++\t61.2\t2.577\t1\t0.1084\n",
      "14:37989270\tt\tc\t0.6029\t0.0000\t0.6029\t0.6029\t0.0435\t0.0237\t0.06638\t++\t0.0\t0.056\t1\t0.8132\n",
      "13:97865021\tt\tc\t0.7469\t0.0000\t0.7469\t0.7469\t-0.0475\t0.0282\t0.09175\t--\t0.0\t0.756\t1\t0.3845\n"
     ]
    },
    {
     "name": "stderr",
     "output_type": "stream",
     "text": [
      "rm: cannot remove ‘meta/PPMI/logASYN/metal.txt’: No such file or directory\n",
      "[+] Loading metal  2017-12-21 \n"
     ]
    }
   ],
   "source": [
    "%%bash\n",
    "DATASET=PPMI\n",
    "OUTCOME=logASYN\n",
    "mkdir -p meta/$DATASET/$OUTCOME\n",
    "rm meta/$DATASET/$OUTCOME/metal.txt\n",
    "echo \"\n",
    "SCHEME STDERR\n",
    "AVERAGEFREQ ON\n",
    "MINMAXFREQ ON\n",
    "\" > meta/$DATASET/$OUTCOME/metal.txt\n",
    "for STRATA in PHENO0_0 PHENO1_0;do\n",
    "    echo \"\n",
    "    MARKER POS\n",
    "    ALLELE A1 A2\n",
    "    FREQ   ALT_Frq\n",
    "    EFFECT Beta\n",
    "    STDERR SE\n",
    "    PVALUE PvApprox\n",
    "    PROCESS t/$STRATA.txt\n",
    "  \" >> meta/$DATASET/$OUTCOME/metal.txt\n",
    "done\n",
    "echo \"\n",
    "OUTFILE meta/$DATASET/$OUTCOME/metares .tbl\n",
    "ANALYZE HETEROGENEITY\n",
    "QUIT\n",
    "\" >> meta/$DATASET/$OUTCOME/metal.txt\n",
    "module load metal\n",
    "metal meta/$DATASET/$OUTCOME/metal.txt\n",
    "sort -gk 10 meta/$DATASET/$OUTCOME/metares1.tbl | head"
   ]
  },
  {
   "cell_type": "markdown",
   "metadata": {},
   "source": [
    "<span style=\"color:green\">\n",
    "    Note that METAL has the priority in allele genotype A>T>C>T. Some were flipped from A1/A2 in the original file\n",
    "</span>"
   ]
  },
  {
   "cell_type": "markdown",
   "metadata": {},
   "source": [
    "#### Analysis using both data"
   ]
  },
  {
   "cell_type": "code",
   "execution_count": 10,
   "metadata": {},
   "outputs": [
    {
     "name": "stdout",
     "output_type": "stream",
     "text": [
      "[1] \"PPMI 0 logASYN BOTH\"\n",
      "[1] \"complete\"\n"
     ]
    },
    {
     "name": "stderr",
     "output_type": "stream",
     "text": [
      "[+] Loading gcc  7.2.0  ... \n",
      "[+] Loading GSL 2.4 for GCC 7.2.0 ... \n",
      "[+] Loading openmpi 3.0.0  for GCC 7.2.0 \n",
      "[+] Loading R 3.5.0_build2 \n",
      "\n",
      "Attaching package: ‘dplyr’\n",
      "\n",
      "The following objects are masked from ‘package:data.table’:\n",
      "\n",
      "    between, first, last\n",
      "\n",
      "The following objects are masked from ‘package:stats’:\n",
      "\n",
      "    filter, lag\n",
      "\n",
      "The following objects are masked from ‘package:base’:\n",
      "\n",
      "    intersect, setdiff, setequal, union\n",
      "\n",
      "Loading required package: Matrix\n"
     ]
    }
   ],
   "source": [
    "%%bash \n",
    "# Rscript _analysis.R  FILE  logASYN\n",
    "echo '\n",
    "library(data.table);library(dplyr);library(lme4)\n",
    "args <- commandArgs(trailingOnly = TRUE)\n",
    "FILE = args[1]\n",
    "DATASET=strsplit(FILE, \"/\")[[1]][1]\n",
    "ITER=strsplit(FILE, \"/\")[[1]][3] %>% gsub(\"^tp|.txt$\",\"\" , .)\n",
    "OUTCOME=args[2]\n",
    "CASECODE=\"BOTH\"\n",
    "print(paste(DATASET,ITER, OUTCOME, CASECODE))\n",
    "# Read pheno.txt and set COV (PC1 and PC2)\n",
    "cohort=fread(\"data/pheno_PC5.txt\") \n",
    "COVs = names(cohort)[c(-(1:2),-9, -10, -11)] # eliminate ID, OUTCOME, PC3-5 from covariates. (CASE will be included)\n",
    "cohort = cohort %>% mutate(logASYN=log(ASYN))\n",
    "# Read genotyping data\n",
    "SNPset = fread(FILE)\n",
    "SNPs = names(SNPset)[-1] # 1 ID, SNP name starts from 2nd col\n",
    "## Merge\n",
    "cohort_snp = left_join(cohort, SNPset, by = \"IID\")\n",
    "# Set function for analysis\n",
    "glmm.listfunc = function(x){\n",
    "  # Models\n",
    "  MODEL = paste(OUTCOME, \"~\", \"`\", SNPs[x], \"`+\", paste(COVs, collapse=\"+\"), \"+(1|IID)\", sep = \"\")\n",
    "  testLmer = try(lmer(eval(parse(text = MODEL)), data = cohort_snp),silent = T)\n",
    "  if(class(testLmer)[1]==\"try-error\"){\n",
    "    sumstat=rep(\"DROP\",6)\n",
    "  }else{\n",
    "    temp = summary(testLmer)\n",
    "    temp1 = temp$coefficients\n",
    "    if(grep(substr(SNPs[x],1,7), rownames(temp1)) %>% length == 0){ # In this case, SNP is dropeed from the model\n",
    "      sumstat=rep(NA,6)\n",
    "    }else{\n",
    "      RES = temp1[2,] # The first row is intercept\n",
    "      PV_APPROX = 2 * pnorm(abs(RES[3]), lower.tail=F) # df is enough large for approximation\n",
    "      OBS_N = paste(length(temp$residuals), \"_\", temp$ngrps, sep=\"\")\n",
    "      sumstat <- c(SNPs[x], OBS_N, RES[3], RES[1], RES[2], PV_APPROX)\n",
    "    }\n",
    "  }\n",
    "  return(sumstat)\n",
    "}\n",
    "temp = lapply(1:length(SNPs), glmm.listfunc)\n",
    "temp2 = do.call(rbind, temp)\n",
    "attributes(temp2)$dimnames[[2]]=c(\"POS_A1(/A2)\", \"OBS_N\", \"Tvalue\", \"Beta\", \"SE\", \"PvApprox\")\n",
    "write.table(temp2, paste(DATASET, \"/\", OUTCOME, \"/PHENO\", CASECODE, \"_\", ITER, \".txt\", sep=\"\"), row.names = F, quote = F, sep = \"\\t\")\n",
    "print(\"complete\")\n",
    "' > _analysis2.R\n",
    "\n",
    "DATASET=PPMI\n",
    "OUTCOME=logASYN\n",
    "FOLDER=PPMI/cut20_extract\n",
    "module load R\n",
    "for FILE in $(ls $FOLDER);do\n",
    "    Rscript --vanilla _analysis2.R $FOLDER/$FILE logASYN\n",
    "done"
   ]
  },
  {
   "cell_type": "markdown",
   "metadata": {},
   "source": [
    "## Analysis results\n",
    "<span style=\"color:green\">\n",
    "    We have 4 variants in PPMI among the ones reported in the ADNI study.\n",
    "</span>"
   ]
  },
  {
   "cell_type": "code",
   "execution_count": 29,
   "metadata": {},
   "outputs": [
    {
     "name": "stdout",
     "output_type": "stream",
     "text": [
      "POS ALT_Frq Rsq ID NearestG REF ALT MAF BeTA P NearestG\n",
      "2:152239059 0.12421 0.88856 rs11885282 TNFAIP6 C A 0.1229 0.2295 9.03e-06 TNFAIP6\n",
      "6:28018944 0.04194 0.93115 rs9393879 ZNF165 G A 0.05629 0.2676 7.95e-06 ZNF165\n",
      "6:80626375 0.11332 0.99886 rs3812153 ELOVL4 T C 0.1156 0.2218 7.6e-06 ELOVL4\n",
      "6:80652229 0.11854 0.89586 rs239520 ELOVL4 G T 0.1282 0.2218 7.6e-06 ELOVL4\n"
     ]
    }
   ],
   "source": [
    "%%bash\n",
    "awk ' $3 > 0.8 {print $0}' posAll_freq.txt | LANG=C join --header - data/_snpADNI.txt"
   ]
  },
  {
   "cell_type": "code",
   "execution_count": 14,
   "metadata": {},
   "outputs": [
    {
     "name": "stdout",
     "output_type": "stream",
     "text": [
      "ADNI variants in the results (CASES)\n",
      "POS_A1(/A2)\tBeta\tSE\tPvApprox\n",
      "2:152239059_A(/C)\t-0.0410664010484468\t0.043845041944795\t0.348951034166631\n",
      "6:28018944_A(/G)\t0.0108312130627539\t0.0718106092103342\t0.880109613053781\n",
      "6:80626375_C(/T)\t0.0527877197548212\t0.0441769184478105\t0.232119735326959\n",
      "6:80652229_T(/G)\t0.0554331009655801\t0.044007964647903\t0.207808211396904\n",
      "ADNI variants in the results (CONTROLS)\n",
      "POS_A1(/A2)\tBeta\tSE\tPvApprox\n",
      "2:152239059_A(/C)\t-0.136135647733776\t0.0603830920370812\t0.0241626840115805\n",
      "6:28018944_A(/G)\t-0.0647129905249892\t0.0965164429618842\t0.50254758741586\n",
      "6:80626375_C(/T)\t0.0222083061871118\t0.0729757581628624\t0.760880732928569\n",
      "6:80652229_T(/G)\t0.0102669948957751\t0.0727697730663932\t0.887799846407267\n",
      "ADNI varians in the results (BOTH in the same model)\n",
      "POS_A1(/A2)\tBeta\tSE\tPvApprox\n",
      "2:152239059_A(/C)\t-0.0769353390590187\t0.0353351641262175\t0.0294580092807975\n",
      "6:28018944_A(/G)\t-0.0100939197480789\t0.0574544224740449\t0.860540879638807\n",
      "6:80626375_C(/T)\t0.0354214892808076\t0.037482798255724\t0.344655540000926\n",
      "6:80652229_T(/G)\t0.0361959221291092\t0.0374167879161229\t0.333358513968389\n",
      "ADNI varians in the results (BOTH in the meta-analysis) P is in the 10th column\n",
      "MarkerName\tEffect\tStdErr\tP-value\tDirection\tHetISq\tHetChiSq\tHetDf\tHetPVal\n",
      "6:28018944\t-0.0161\t0.0576\t0.7801\t-+\t0.0\t0.394\t1\t0.53\n",
      "6:80652229\t0.0433\t0.0377\t0.2498\t++\t0.0\t0.282\t1\t0.5953\n",
      "6:80626375\t-0.0446\t0.0378\t0.2381\t--\t0.0\t0.128\t1\t0.72\n",
      "2:152239059\t-0.0739\t0.0355\t0.03729\t--\t38.4\t1.623\t1\t0.2027\n"
     ]
    }
   ],
   "source": [
    "%%bash\n",
    "echo \"ADNI variants in the results (CASES)\"\n",
    "awk 'NR==1{print;next}{print|\"grep -f posADNI.txt\"}' PPMI/logASYN/PHENO1_0.txt | cut -f 1,4-6\n",
    "echo \"ADNI variants in the results (CONTROLS)\"\n",
    "awk 'NR==1{print;next}{print|\"grep -f posADNI.txt\"}' PPMI/logASYN/PHENO0_0.txt | cut -f 1,4-6\n",
    "echo \"ADNI varians in the results (BOTH in the same model)\"\n",
    "awk 'NR==1{print;next}{print|\"grep -f posADNI.txt\"}' PPMI/logASYN/PHENOBOTH_0.txt | cut -f 1,4-6\n",
    "echo \"ADNI varians in the results (BOTH in the meta-analysis) P is in the 10th column\" \n",
    "cut -f 1-4,8- meta/PPMI/logASYN/metares1.tbl | awk 'NR==1{print;next}{print|\"grep -f posADNI.txt\"}'  | cut -f 1,5-"
   ]
  },
  {
   "cell_type": "markdown",
   "metadata": {},
   "source": [
    "<span style=\"color:green\">\n",
    "    Top hits from meta analysis, among variants in interest are;\n",
    "</span>"
   ]
  },
  {
   "cell_type": "code",
   "execution_count": 19,
   "metadata": {},
   "outputs": [
    {
     "name": "stdout",
     "output_type": "stream",
     "text": [
      "MarkerName\tAllele1\tAllele2\tFreq1\tEffect\tStdErr\tP-value\tDirection\tHetISq\tHetChiSq\tHetDf\tHetPVal\n",
      "2:152239059\ta\tc\t0.1242\t-0.0739\t0.0355\t0.03729\t--\t38.4\t1.623\t1\t0.2027\n",
      "4:90636630\ta\tg\t0.3308\t-0.0529\t0.0257\t0.03913\t--\t0.0\t0.021\t1\t0.8847\n",
      "11:83487277\ta\tc\t0.4004\t0.0503\t0.0246\t0.04047\t++\t0.0\t0.454\t1\t0.5006\n",
      "1:171719769\tt\tc\t0.2250\t0.0588\t0.0305\t0.05332\t++\t0.0\t0.230\t1\t0.6317\n",
      "3:161077630\ta\tg\t0.6633\t-0.0499\t0.0260\t0.05494\t--\t0.0\t0.171\t1\t0.6791\n",
      "10:121415685\ta\tg\t0.2418\t0.0564\t0.0296\t0.0567\t++\t0.0\t0.125\t1\t0.7236\n",
      "6:32578772\ta\tc\t0.1573\t0.0616\t0.0334\t0.06468\t++\t61.2\t2.577\t1\t0.1084\n",
      "14:37989270\tt\tc\t0.6029\t0.0435\t0.0237\t0.06638\t++\t0.0\t0.056\t1\t0.8132\n",
      "13:97865021\tt\tc\t0.7469\t-0.0475\t0.0282\t0.09175\t--\t0.0\t0.756\t1\t0.3845\n",
      "10:15557406\tt\tc\t0.3103\t0.0421\t0.0255\t0.09909\t++\t0.0\t0.037\t1\t0.8466\n"
     ]
    }
   ],
   "source": [
    "%%bash\n",
    "cut -f 1-4,8- meta/PPMI/logASYN/metares1.tbl | awk 'NR==1{print;next}$7<0.1{print | \"sort -gk7\"}'"
   ]
  },
  {
   "cell_type": "markdown",
   "metadata": {},
   "source": [
    "## Meta-analysis with ADNI study"
   ]
  },
  {
   "cell_type": "code",
   "execution_count": 61,
   "metadata": {},
   "outputs": [
    {
     "name": "stdout",
     "output_type": "stream",
     "text": [
      "MetaAnalysis Helper - (c) 2007 - 2009 Goncalo Abecasis\n",
      "\n",
      "# This program faciliates meta-analysis of genome-wide association studies.\n",
      "# Commonly used commands are listed below:\n",
      "#\n",
      "# Options for describing input files ...\n",
      "#   SEPARATOR        [WHITESPACE|COMMA|BOTH|TAB] (default = WHITESPACE)\n",
      "#   COLUMNCOUNTING   [STRICT|LENIENT]            (default = 'STRICT')\n",
      "#   MARKERLABEL      [LABEL]                     (default = 'MARKER')\n",
      "#   ALLELELABELS     [LABEL1 LABEL2]             (default = 'ALLELE1','ALLELE2')\n",
      "#   EFFECTLABEL      [LABEL|log(LABEL)]          (default = 'EFFECT')\n",
      "#   FLIP\n",
      "#\n",
      "# Options for filtering input files ...\n",
      "#   ADDFILTER        [LABEL CONDITION VALUE]     (example = ADDFILTER N > 10)\n",
      "#                    (available conditions are <, >, <=, >=, =, !=, IN)\n",
      "#   REMOVEFILTERS\n",
      "#\n",
      "# Options for sample size weighted meta-analysis ...\n",
      "#   WEIGHTLABEL      [LABEL]                     (default = 'N')\n",
      "#   PVALUELABEL      [LABEL]                     (default = 'PVALUE')\n",
      "#   DEFAULTWEIGHT    [NUMBER]                    (default = 1.0)\n",
      "#   MINWEIGHT        [NUMBER]                    (default = 1.0)\n",
      "#\n",
      "# Options for inverse variance weighted meta-analysis ...\n",
      "#   STDERRLABEL      [LABEL]                     (default = 'STDERR')\n",
      "#   SCHEME           [SAMPLESIZE|STDERR]         (default = SAMPLESIZE)\n",
      "#\n",
      "# Options to enable tracking of allele frequencies ...\n",
      "#   AVERAGEFREQ      [ON|OFF]                    (default = OFF)\n",
      "#   MINMAXFREQ       [ON|OFF]                    (default = OFF)\n",
      "#   FREQLABEL        [LABEL]                     (default = 'FREQ')\n",
      "#\n",
      "# Options to enable tracking of user defined variables ...\n",
      "#   CUSTOMVARIABLE   [VARNAME]\n",
      "#   LABEL            [VARNAME] AS [HEADER]\n",
      "#\n",
      "# Options to enable explicit strand information ...\n",
      "#   USESTRAND        [ON|OFF]                    (default = OFF)\n",
      "#   STRANDLABEL      [LABEL]                     (default = 'STRAND')\n",
      "#\n",
      "# Automatic genomic control correction of input statistics ...\n",
      "#   GENOMICCONTROL   [ON|OFF|VALUE|LIST snps.txt](default = OFF)\n",
      "#\n",
      "# Options to account for samples overlap ...\n",
      "#   OVERLAP          [ON|OFF]                    (default = OFF)\n",
      "#   ZCUTOFF          [NUMBER]                    (default = 1.0)\n",
      "#\n",
      "# Options for general analysis control ...\n",
      "#   PROCESSFILE      [FILENAME]\n",
      "#   OUTFILE          [PREFIX SUFFIX]             (default = 'METAANALYSIS','.TBL')\n",
      "#   MAXWARNINGS      [NUMBER]                    (default = 20)\n",
      "#   VERBOSE          [ON|OFF]                    (default = 'OFF')\n",
      "#   LOGPVALUE        [ON|OFF]                    (default = 'OFF')\n",
      "#   ANALYZE          [HETEROGENEITY]\n",
      "#   CLEAR\n",
      "\n",
      "# Options for general run control ...\n",
      "#   SOURCE           [SCRIPTFILE]\n",
      "#   RETURN\n",
      "#   QUIT\n",
      "\n",
      "# Processing commands in meta/PPMI/logASYN/metal2.txt ...\n",
      "## Meta-analysis will be based on sample sizes, p-values and direction of effect ...\n",
      "## Averaging of allele frequencies enabled\n",
      "## Tracking of extreme allele frequencies enabled\n",
      "## Set marker header to POS ...\n",
      "## Set allele headers to ALT and REF ...\n",
      "## Set frequency header to MAF ...\n",
      "## Set effect header to BeTA ...\n",
      "## Set p-value header to P ...\n",
      "## Set weight header to DONTUSECOLUMN ...\n",
      "## Set default weight to 209.00 ...\n",
      "###########################################################################\n",
      "## Processing file 'data/signANDI_IDsorted_pos.tab'\n",
      "## WARNING: No 'DONTUSECOLUMN' column found -- using DEFAULTWEIGHT = 209\n",
      "## Processed 51 markers ...\n",
      "\n",
      "## Set marker header to POS ...\n",
      "## Set allele headers to A1 and A2 ...\n",
      "## Set frequency header to ALT_Frq ...\n",
      "## Set effect header to Beta ...\n",
      "## Set standard error header to SE ...\n",
      "## Set p-value header to PvApprox ...\n",
      "## Set weight header to DONTUSECOLUMN ...\n",
      "## Set default weight to 153.00 ...\n",
      "###########################################################################\n",
      "## Processing file 't/PHENO0_0.txt'\n",
      "## WARNING: No 'DONTUSECOLUMN' column found -- using DEFAULTWEIGHT = 153\n",
      "## Processed 81 markers ...\n",
      "\n",
      "## Set marker header to POS ...\n",
      "## Set allele headers to A1 and A2 ...\n",
      "## Set frequency header to ALT_Frq ...\n",
      "## Set effect header to Beta ...\n",
      "## Set p-value header to PvApprox ...\n",
      "## Set weight header to DONTUSECOLUMN ...\n",
      "## Set default weight to 346.00 ...\n",
      "###########################################################################\n",
      "## Processing file 't/PHENO1_0.txt'\n",
      "## WARNING: No 'DONTUSECOLUMN' column found -- using DEFAULTWEIGHT = 346\n",
      "## Processed 81 markers ...\n",
      "\n",
      "## Set output file prefix and suffix to meta/PPMI/logASYN/metares2 and .tbl ...\n",
      "###########################################################################\n",
      "## Running second pass analysis to evaluate heterogeneity...\n",
      "## Processing file 't/PHENO1_0.txt'\n",
      "## Processing file 't/PHENO0_0.txt'\n",
      "## Processing file 'data/signANDI_IDsorted_pos.tab'\n",
      "\n",
      "###########################################################################\n",
      "## Executing meta-analysis ...\n",
      "## Complete results will be stored in file 'meta/PPMI/logASYN/metares21.tbl'\n",
      "## Column descriptions will be stored in file 'meta/PPMI/logASYN/metares21.tbl.info'\n",
      "## Completed meta-analysis for 128 markers!\n",
      "## Smallest p-value is 4.17e-09 at marker '10:67518138'\n",
      "\n",
      "## Clearing all stored statistics ...\n",
      "# Clearing user defined filters ...\n"
     ]
    },
    {
     "name": "stderr",
     "output_type": "stream",
     "text": [
      "[+] Loading metal  2017-12-21 \n"
     ]
    }
   ],
   "source": [
    "%%bash\n",
    "echo '\n",
    "SCHEME SAMPLESIZE\n",
    "AVERAGEFREQ ON\n",
    "MINMAXFREQ ON\n",
    "\n",
    "MARKER POS\n",
    "ALLELE ALT REF\n",
    "FREQ MAF\n",
    "EFFECT BeTA\n",
    "PVALUE P\n",
    "WEIGHTLABEL DONTUSECOLUMN\n",
    "DEFAULTWEIGHT 209\n",
    "PROCESS data/signANDI_IDsorted_pos.tab\n",
    "\n",
    "MARKER POS\n",
    "ALLELE A1 A2\n",
    "FREQ   ALT_Frq\n",
    "EFFECT Beta\n",
    "STDERR SE\n",
    "PVALUE PvApprox\n",
    "WEIGHTLABEL DONTUSECOLUMN\n",
    "DEFAULTWEIGHT 153\n",
    "PROCESS t/PHENO0_0.txt\n",
    "  \n",
    "\n",
    "MARKER POS\n",
    "ALLELE A1 A2\n",
    "FREQ   ALT_Frq\n",
    "EFFECT Beta\n",
    "PVALUE PvApprox\n",
    "WEIGHTLABEL DONTUSECOLUMN\n",
    "DEFAULTWEIGHT 346\n",
    "PROCESS t/PHENO1_0.txt\n",
    "  \n",
    "\n",
    "OUTFILE meta/PPMI/logASYN/metares2 .tbl\n",
    "ANALYZE HETEROGENEITY\n",
    "QUIT\n",
    "'> meta/PPMI/logASYN/metal2.txt\n",
    "module load metal\n",
    "metal meta/PPMI/logASYN/metal2.txt"
   ]
  },
  {
   "cell_type": "code",
   "execution_count": 30,
   "metadata": {},
   "outputs": [
    {
     "name": "stdout",
     "output_type": "stream",
     "text": [
      "MarkerName\tAllele1\tAllele2\tFreq1\tFreqSE\tMinFreq\tMaxFreq\tWeight\tZscore\tP-value\tDirection\tHetISq\tHetChiSq\tHetDf\tHetPVal\n",
      "6:28018944\ta\tg\t0.0462\t0.0065\t0.0419\t0.0563\t708.00\t2.221\t0.02638\t+-+\t87.1\t15.491\t2\t0.0004326\n",
      "6:80652229\tt\tg\t0.1214\t0.0044\t0.1185\t0.1282\t708.00\t3.378\t0.0007298\t+++\t80.5\t10.231\t2\t0.006004\n",
      "6:80626375\tt\tc\t0.8860\t0.0010\t0.8844\t0.8867\t708.00\t-3.409\t0.0006525\t---\t79.9\t9.937\t2\t0.006955\n",
      "2:152239059\ta\tc\t0.1238\t0.0006\t0.1229\t0.1242\t708.00\t0.709\t0.4783\t+--\t92.1\t25.164\t2\t3.434e-06\n"
     ]
    }
   ],
   "source": [
    "%%bash \n",
    "awk '$14>1' meta/PPMI/logASYN/metares21.tbl | head"
   ]
  },
  {
   "cell_type": "markdown",
   "metadata": {},
   "source": [
    "<span style=\"color:green\">\n",
    "    P-values are mostly driven by ADNI study. the top hit in the PPMI had different direction. \n",
    "</span>"
   ]
  },
  {
   "cell_type": "markdown",
   "metadata": {},
   "source": [
    "<span style=\"color:purple\">\n",
    "</span>"
   ]
  },
  {
   "cell_type": "markdown",
   "metadata": {},
   "source": [
    "<span style=\"color:purple\">\n",
    "</span>"
   ]
  }
 ],
 "metadata": {
  "kernelspec": {
   "display_name": "Python 3",
   "language": "python",
   "name": "python3"
  },
  "language_info": {
   "codemirror_mode": {
    "name": "ipython",
    "version": 3
   },
   "file_extension": ".py",
   "mimetype": "text/x-python",
   "name": "python",
   "nbconvert_exporter": "python",
   "pygments_lexer": "ipython3",
   "version": "3.5.5"
  }
 },
 "nbformat": 4,
 "nbformat_minor": 2
}
