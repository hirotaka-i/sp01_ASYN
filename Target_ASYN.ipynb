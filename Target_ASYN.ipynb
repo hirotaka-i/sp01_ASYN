{
 "cells": [
  {
   "cell_type": "markdown",
   "metadata": {},
   "source": [
    "# Targetted SNPs analyses + Score analysis for ASYN"
   ]
  },
  {
   "cell_type": "code",
   "execution_count": 1,
   "metadata": {},
   "outputs": [],
   "source": [
    "import glob\n",
    "import os\n",
    "import subprocess\n",
    "import pandas as pd\n",
    "import subprocess"
   ]
  },
  {
   "cell_type": "code",
   "execution_count": 2,
   "metadata": {},
   "outputs": [],
   "source": [
    "T=\"/lscratch/\"+os.environ['SLURM_JOB_ID']+\"/\"\n",
    "scriptfile='script_target.txt'\n",
    "output='target/'\n",
    "if not os.path.exists(output):\n",
    "    os.makedirs(output)\n",
    "# Prepare input file\n",
    "Meta5=pd.read_table('data/Meta5.tab', index_col='SNP') # SNP as index\n",
    "SNP=Meta5.index.to_series()\n",
    "SNP.to_csv(T+'extract', header =True, index=False)\n",
    "\n",
    "BFILE='../../PPMI_WGS/july_2018/PPMI_july2018'\n",
    "IDLIST='../dataset/PPMI/WGS/clean_NONGENT/3armOUTR.fam'\n",
    "\n",
    "# Create plink script\n",
    "plink_extract ='plink --bfile {bfile} --extract {extract} --keep {keep} --recodeA include-alt --out {out} \\n'\n",
    "script = plink_extract.format(bfile=BFILE, extract=T+'extract', keep=IDLIST, out=T+\"extract\")\n",
    "\n",
    "# write bash file\n",
    "if os.path.exists(scriptfile):\n",
    "  os.remove(scriptfile)\n",
    "with open(scriptfile, 'a') as f:\n",
    "    f.write('rm -rf T/* \\n')\n",
    "    f.write('module load plink\\n')\n",
    "    f.write(script)"
   ]
  },
  {
   "cell_type": "code",
   "execution_count": 3,
   "metadata": {},
   "outputs": [],
   "source": [
    "t = \"\"\" # Study level analysis\n",
    "library(tidyr);library(data.table);library(dplyr);library(lme4);library(lmerTest)\n",
    "t=commandArgs(trailingOnly = TRUE)\n",
    "# \"dataset/PPMI/pheno/all.txt;HEMO+FEMALE+AAO+AGE+PC1+PC2+PC3;/WGS/clean_NONGENT/3a.eigenvec;test.csv;PPMIPD;target/\"\n",
    "DATASET=t[1];COVPC=t[2];PCS=t[3];GEN=t[4];MEM=t[5];OUTPUT=t[6]\n",
    "COVs=strsplit(COVPC, \"\\\\\\\\+\")[[1]]\n",
    "\n",
    "# Read data and put together\n",
    "cohort = fread(DATASET) %>% mutate(OUTCOME=logASYN) %>% \n",
    "  mutate(FID=paste(\"PPMISI\",IID,sep=\"\"), IID=paste(\"PPMISI\",IID,sep=\"\")) %>% \n",
    "  filter(grepl(MEM, DX)) %>% \n",
    "  inner_join(., fread(PCS), by = c(\"FID\", \"IID\")) %>% \n",
    "  select(\"FID\", \"IID\", \"OUTCOME\", COVs) %>% filter(complete.cases(.))\n",
    "cohort[COVs] = as.data.frame(scale(cohort[COVs])) \n",
    "gen=fread(GEN)\n",
    "df=inner_join(cohort, gen, by =c(\"FID\", \"IID\"))\n",
    "e=setdiff(names(gen), c(\"FID\", \"IID\"))\n",
    "# ANALYSIS\n",
    "test.listfunc = function(x){\n",
    "  MODEL = paste(\"OUTCOME~\", \"`\", e[x], \"`+\", COVPC, \"+(1|IID)\", sep = \"\")\n",
    "  testLmer = try(lmer(eval(parse(text = MODEL)), data = df),silent = T)\n",
    "  if(class(testLmer)[1]==\"try-error\"){\n",
    "    sumstat=c(e[x], \"NoConverge\", rep(NA,4))\n",
    "  }else{\n",
    "    temp = summary(testLmer)\n",
    "    temp1 = temp$coefficients\n",
    "    if(grep(substr(e[x],1,4), rownames(temp1)) %>% length == 0){\n",
    "      sumstat=c(e[x], \"RankDeficient\", rep(NA,4))\n",
    "    }else{\n",
    "      RES = temp1[2,] # The first row is intercept\n",
    "      OBS_N = paste(length(temp$residuals), \"_\", temp$ngrps, sep=\"\")\n",
    "      sumstat <- c(e[x], OBS_N, RES[4], RES[1], RES[2], RES[5])\n",
    "    }\n",
    "  }\n",
    "  return(sumstat)\n",
    "}\n",
    "temp = lapply(1:length(e), test.listfunc)\n",
    "temp2 = do.call(rbind, temp) %>% data.frame\n",
    "names(temp2)=c(\"POS_A1_A2\", \"OBS_N\", \"Tvalue\", \"BETA\", \"SE\", \"P\")\n",
    "temp2$cohort=MEM\n",
    "write.table(temp2, paste(OUTPUT, MEM, \".txt\", sep=\"\"), row.names = F, quote = F, sep = \"\\t\")\n",
    "\"\"\"\n",
    "Rscript1 = \"Rscript1.R\"\n",
    "with open(Rscript1, 'w') as f:\n",
    "    f.write(t)"
   ]
  },
  {
   "cell_type": "code",
   "execution_count": 4,
   "metadata": {},
   "outputs": [],
   "source": [
    "Rheader = \"Rscript --vanilla \"\n",
    "Ranalysis = Rheader + Rscript1+\" {phenofile} {covpc} {pcsfile} {genefile} {member} {out}\\n\"\n",
    "PHENOFILE='dataset/PPMI/pheno/all.txt'\n",
    "PCSFILE='../dataset/PPMI/WGS/clean_NONGENT/3a.eigenvec'\n",
    "GENEFILE=T+'extract.raw'\n",
    "script2 = Ranalysis.format(phenofile=PHENOFILE, covpc='HEMO+FEMALE+AAO+AGE+PC1+PC2+PC3', \\\n",
    "                 pcsfile=PCSFILE, genefile=GENEFILE, member=\"PPMIPD\", out=output)\n",
    "script3 = Ranalysis.format(phenofile=PHENOFILE, covpc='HEMO+FEMALE+AGE+PC1+PC2+PC3', \\\n",
    "                 pcsfile=PCSFILE, genefile=GENEFILE, member=\"PPMIHC\", out=output)\n",
    "with open(scriptfile, 'a') as f:\n",
    "    f.write('module load R\\n')\n",
    "    f.write(script2)\n",
    "    f.write(script3)"
   ]
  },
  {
   "cell_type": "code",
   "execution_count": 5,
   "metadata": {},
   "outputs": [],
   "source": [
    "t = \"\"\" # Meta analysis\n",
    "library(data.table);library(dplyr);library(metafor)\n",
    "time=gsub(\" \", \"_\",Sys.time()) %>% gsub(\"-\", \"_\", .) %>% gsub(\":\", \"_\",.) \n",
    "t=commandArgs(trailingOnly = TRUE)\n",
    "df = bind_rows(lapply(t, fread)) %>% data.frame\n",
    "V = unique(df[,1])\n",
    "analysis=function(i){\n",
    "  d=df[df[,1]==as.character(V[i]), ]\n",
    "  d=d[complete.cases(d),]\n",
    "  if(nrow(d)==0){res = c(V[i], 0, rep(NA,5))}else{\n",
    "    res_fe = try(rma(yi=BETA, sei = SE, method = \"FE\", data = d), silent = T)\n",
    "    if(class(res_fe)[1]=='try-error'){\n",
    "      res = c(V[i], nrow(d), rep(NA,5))\n",
    "    }else{\n",
    "      res_me = try(rma(yi=BETA, sei = SE, method = \"REML\", data = d), silent = T)\n",
    "      if(class(res_me)[1]=='try-error'){\n",
    "        res = c(V[i], nrow(d), rep(NA,5))\n",
    "      }else{\n",
    "        res = c(V[i], nrow(d), res_fe$beta, res_fe$se, res_fe$pval, res_me$QEp, res_me$I2)\n",
    "      }\n",
    "    }\n",
    "  }\n",
    "  return(res)\n",
    "}\n",
    "temp=lapply(1:length(V), analysis)\n",
    "temp2 = do.call(rbind, temp) %>% data.frame\n",
    "names(temp2)=c(\"POS_A1_A2\", \"N_study\", \"BETA\", \"SE\", \"P\", \"QEp\", \"I2\")\n",
    "temp2$cohort=\"META\"\n",
    "temp3 = temp2 %>% \n",
    "  mutate_at(vars(\"BETA\", \"SE\", \"P\"), as.character) %>% \n",
    "  mutate_at(vars(\"BETA\", \"SE\", \"P\"), as.numeric) %>% \n",
    "  bind_rows(df,.) %>% filter(!POS_A1_A2%in% c(\"PAT\", \"MAT\",\"SEX\",\"PHENOTYPE\", \"PHENO\", \"CNT\", \"CNT2\"))\n",
    "write.csv(temp3, \"meta.csv\", row.names = F)\n",
    "\"\"\"\n",
    "Rscript2 = \"Rscript2.R\"\n",
    "with open(Rscript2, 'w') as f:\n",
    "    f.write(t)\n",
    "\n",
    "files = [i for i in glob.glob(output+\"*.txt\")]\n",
    "script4 = Rheader + Rscript2 +\" \"+(\" \").join(files) + \"\\n\"\n",
    "with open(scriptfile, 'a') as f:\n",
    "    f.write(script4)\n",
    "    f.write(\"mv meta.csv \"+output+\"\\n\")"
   ]
  },
  {
   "cell_type": "code",
   "execution_count": 6,
   "metadata": {},
   "outputs": [],
   "source": [
    "t = \"\"\" # Visualize results (extract)\n",
    "t=commandArgs(trailingOnly = TRUE)\n",
    "library(tidyr);library(dplyr);library(data.table);library(ggplot2)\n",
    "temp = fread(t) %>%  mutate(POS_A1_A2=sub(\"\\\\\\\\)\", \"\", sub(\"\\\\\\\\(/\", \"_\", POS_A1_A2))) %>%\n",
    "  separate(POS_A1_A2, c(\"SNP\", \"A1\", \"A2\"), sep=\"_\")\n",
    "gene = fread(\"data/Meta5.tab\") %>% select(SNP, name)\n",
    "df = left_join(temp, gene, by = \"SNP\") %>% mutate(SNP_GENE = paste(SNP, name, sep=\"_\"))\n",
    "png('meta.jpg', width=600, height=2000, pointsize=18)\n",
    "  df %>% ggplot(aes(x=SNP_GENE, y=-log10(P), color=cohort)) + geom_point() +\n",
    "    geom_hline(yintercept=-log10(0.05), linetype=\"dashed\", color = \"black\", size=1) +\n",
    "    geom_hline(yintercept=-log10(0.05/92), linetype=\"dashed\", color = \"red\", size=1) +\n",
    "    coord_flip()\n",
    "dev.off()\n",
    "\"\"\"\n",
    "Rscript3 = \"Rscript3.R\"\n",
    "metafile = output+\"meta.csv\"\n",
    "with open(Rscript3, 'w') as f:\n",
    "    f.write(t)\n",
    "with open(scriptfile, 'a') as f:\n",
    "    f.write( Rheader + Rscript3 + \" \" + metafile+ \"\\n\")\n",
    "    f.write(\"mv meta.jpg \"+output+\"\\n\")"
   ]
  },
  {
   "cell_type": "code",
   "execution_count": 7,
   "metadata": {},
   "outputs": [
    {
     "data": {
      "text/plain": [
       "CompletedProcess(args=['bash', 'script_target.txt'], returncode=0)"
      ]
     },
     "execution_count": 7,
     "metadata": {},
     "output_type": "execute_result"
    }
   ],
   "source": [
    "subprocess.run([\"bash\", scriptfile])"
   ]
  },
  {
   "cell_type": "markdown",
   "metadata": {},
   "source": [
    "# Score analysis"
   ]
  },
  {
   "cell_type": "code",
   "execution_count": 8,
   "metadata": {},
   "outputs": [],
   "source": [
    "T=\"/lscratch/\"+os.environ['SLURM_JOB_ID']+\"/\"\n",
    "scriptfile='script_score.txt'\n",
    "output='meta5prs/'\n",
    "# Prepare input file\n",
    "SCORE=pd.read_table('data/Meta5.tab', index_col='SNP') # SNP as index\n",
    "PRS=SCORE[['Beta_all']]\n",
    "PRS=PRS.assign(A1=Meta5['Allele1_all'].str.upper())\n",
    "PRS.to_csv(T+'score', sep='\\t')\n",
    "\n",
    "BFILE='../../PPMI_WGS/july_2018/PPMI_july2018'\n",
    "IDLIST='../dataset/PPMI/WGS/clean_NONGENT/3armOUTR.fam'\n",
    "\n",
    "# Create plink script\n",
    "plink_score ='plink --bfile {bfile} --score {score} {id_a1_beta} --keep {keep} --out {out} \\n'\n",
    "script1= plink_score.format(bfile=BFILE, score=T+'score', id_a1_beta='1 3 2', keep=IDLIST, out=T+'score')\n",
    "\n",
    "# write bash file\n",
    "if os.path.exists(scriptfile):\n",
    "  os.remove(scriptfile)\n",
    "with open(scriptfile, 'a') as f:\n",
    "    f.write('rm -rf T/* \\n')\n",
    "    f.write('module load plink\\n')\n",
    "    f.write('mkdir -p ' + output + \"\\n\")\n",
    "    f.write(script1)"
   ]
  },
  {
   "cell_type": "code",
   "execution_count": 9,
   "metadata": {},
   "outputs": [],
   "source": [
    "t = \"\"\" # Standardize score\n",
    "t=commandArgs(trailingOnly = TRUE)\n",
    "INFILE = t[1];OUTFILE = t[2]\n",
    "df = read.table(INFILE, header = T)\n",
    "mean=mean(df$SCORE)\n",
    "sd=sd(df$SCORE)\n",
    "df$SCORE=(df$SCORE-mean)/sd\n",
    "write.table(df, OUTFILE, row.names = F, quote = F, sep = \"\\t\")\n",
    "\"\"\"\n",
    "Rscript4 = \"Rscript4.R\"\n",
    "with open(Rscript4, 'w') as f:\n",
    "    f.write(t)\n",
    "    \n",
    "SCORE=T+'score.profile'\n",
    "GENEFILE=SCORE.replace('profile', 'txt')\n",
    "with open(scriptfile, 'a') as f:\n",
    "    f.write('module load R\\n')\n",
    "    f.write(Rheader + Rscript4 +\" \"+SCORE+\" \"+GENEFILE+\"\\n\")"
   ]
  },
  {
   "cell_type": "code",
   "execution_count": 10,
   "metadata": {},
   "outputs": [],
   "source": [
    "PHENOFILE='dataset/PPMI/pheno/all.txt'\n",
    "PCSFILE='../dataset/PPMI/WGS/clean_NONGENT/3a.eigenvec'\n",
    "script2 = Ranalysis.format(phenofile=PHENOFILE, covpc='HEMO+FEMALE+AAO+AGE+PC1+PC2+PC3', \\\n",
    "                 pcsfile=PCSFILE, genefile=GENEFILE, member=\"PPMIPD\", out=output)\n",
    "script3 = Ranalysis.format(phenofile=PHENOFILE, covpc='HEMO+FEMALE+AGE+PC1+PC2+PC3', \\\n",
    "                 pcsfile=PCSFILE, genefile=GENEFILE, member=\"PPMIHC\", out=output)\n",
    "with open(scriptfile, 'a') as f:\n",
    "    f.write(script2)\n",
    "    f.write(script3)"
   ]
  },
  {
   "cell_type": "code",
   "execution_count": 11,
   "metadata": {},
   "outputs": [],
   "source": [
    "files = [i for i in glob.glob(output+\"*.txt\")]\n",
    "script4 = Rheader + Rscript2 +\" \"+(\" \").join(files) + \"\\n\"\n",
    "with open(scriptfile, 'a') as f:\n",
    "    f.write(script4)\n",
    "    f.write(\"mv meta.csv \"+output+\"\\n\")"
   ]
  },
  {
   "cell_type": "code",
   "execution_count": 12,
   "metadata": {
    "scrolled": false
   },
   "outputs": [
    {
     "data": {
      "text/plain": [
       "CompletedProcess(args=['bash', 'script_score.txt'], returncode=0)"
      ]
     },
     "execution_count": 12,
     "metadata": {},
     "output_type": "execute_result"
    }
   ],
   "source": [
    "subprocess.run([\"bash\", scriptfile])"
   ]
  }
 ],
 "metadata": {
  "kernelspec": {
   "display_name": "Python 3",
   "language": "python",
   "name": "python3"
  },
  "language_info": {
   "codemirror_mode": {
    "name": "ipython",
    "version": 3
   },
   "file_extension": ".py",
   "mimetype": "text/x-python",
   "name": "python",
   "nbconvert_exporter": "python",
   "pygments_lexer": "ipython3",
   "version": "3.5.6"
  }
 },
 "nbformat": 4,
 "nbformat_minor": 2
}
