{
 "cells": [
  {
   "cell_type": "markdown",
   "metadata": {},
   "source": [
    "# CSF ANALYSIS FOR PPMI data\n",
    "\n",
    "\n",
    "Created: 2018-08-07    \n",
    "By: Hirotaka Iwaki\n",
    "\n",
    "Required data for this analysis:    \n",
    "* \"Current_Biospecimen_Analysis_Results.csv\" from PPMI-LONI    \n",
    "* \"01_extract_EVENTDATE.csv\" derived from PPMI dataset    \n",
    "* \"02_LatestDiagDemog.csv\" derived from PPMI dataset: ([codes](https://github.com/hirotaka-i/PDcohorts/blob/master/PPMI/codes))   \n",
    "* Genotypings data from LNG: Imputed and filtered (MAF >0.001, Rsq >0.3, and cut per 20K SNPs per file.)\n",
    "* \"PPMI.pca.eigenvec\": PCs derived from genotyping data\n",
    "\n",
    "\n",
    "## Objective/Model\n",
    "GWAS analysis for CSF $\\alpha$-synuclein concentrations.    \n",
    "A linear model adjusting for sex, age, and CSF hemoglobin >200 with random intercept for individuals.     \n",
    "After diagnosis, the CSF $\\alpha$-synuclein concentrations don't change much. -> no need to think about the effect on slope.    \n",
    "Patients and healthy controls are analyzed separately and meta-analized if appropriate.\n",
    "\n",
    "## Data preparation\n",
    "### CSF file\n",
    "Extract $\\alpha$-synuclein concentrations and CSF hemoglobin levels from \"Current_Biospecimen_Analysis_Results.csv\" and give the visiting date from \"01_extract_EVENTDATE.csv\"."
   ]
  },
  {
   "cell_type": "code",
   "execution_count": 156,
   "metadata": {},
   "outputs": [],
   "source": [
    "%%bash\n",
    "mkdir -p temp\n",
    "awk 'BEGIN{FS=\",\";OFS=\"\\t\"}/CSF Alpha-synuclein/{print $1\"_\"$4,$7}' \\\n",
    "    data/Current_Biospecimen_Analysis_Results.csv | \\\n",
    "    sed 's/\"//g' | sort > temp/asyn.txt\n",
    "awk 'BEGIN{FS=\",\";OFS=\"\\t\"}/CSF Hemoglobin/{print $1\"_\"$4,$7}' \\\n",
    "    data/Current_Biospecimen_Analysis_Results.csv | \\\n",
    "    sed 's/\"//g' | sort > temp/hemo.txt\n",
    "awk 'BEGIN{FS=\",\";OFS=\"\\t\"}//{print $1\"_\"$2,$3}' data/01_extract_EVENTDATE.csv | \\\n",
    "    sed 's/\"//g' | sort > temp/event_date.txt\n",
    "join temp/asyn.txt temp/hemo.txt | join - temp/event_date.txt | sed 's/_/ /g' > \\\n",
    "    temp/asyn_hemo.txt # space separated"
   ]
  },
  {
   "cell_type": "markdown",
   "metadata": {},
   "source": [
    "### Merge the above  file with Demographic file\n",
    "merge with \"02_LatestDiagDemog.csv"
   ]
  },
  {
   "cell_type": "code",
   "execution_count": 109,
   "metadata": {},
   "outputs": [],
   "source": [
    "%%bash\n",
    "echo '\n",
    "library(dplyr)\n",
    "library(data.table)\n",
    "t1 = fread(\"data/02_LatestDiagDemog.csv\", header=T)\n",
    "t2 = fread(\"temp/asyn_hemo.txt\", header=F, , na.strings=\"N/A\") %>% \n",
    "    mutate(V1 = as.character(V1)) %>% #  V1(ID) regarded as int\n",
    "    filter(!is.na(V2) & !is.na(V3)) # delete \"N/A\" value observation in ANSN and HEMO\n",
    "names(t2)=c(\"ID\", \"EVENT_ID\",\"ASYN\", \"HEMO\", \"DATE\")\n",
    "d1 = left_join(t2, t1, by = \"ID\")\n",
    "d1 %>% mutate(HEMO_num = as.numeric(HEMO)) %>% filter(is.na(HEMO_num)) %>%\n",
    "    with(table(HEMO, useNA=\"always\"))\n",
    "##############################\n",
    "# The output of above line ###########\n",
    "# HEMO\n",
    "#   >20 above below  <NA>\n",
    "#    28   314  1918     0\n",
    "# Warning message:\n",
    "# In evalq(as.numeric(HEMO), <environment>) : NAs introduced by coercion ((<- Warning but OK))\n",
    "# ((Although, I suspect \">20\" is actually \"<20\", I will eliminate \">20\" obs in the following))\n",
    "###############################\n",
    "d2 = d1 %>% mutate(HEMO200 = case_when(\n",
    "    HEMO==\">20\"~99, # for elimination\n",
    "    HEMO==\"below\"~ 0,\n",
    "    HEMO==\"above\"~ 1,\n",
    "    TRUE~ if_else(as.numeric(HEMO)>200, 1, 0))) %>%\n",
    "    mutate(logASYN = log(ASYN),\n",
    "           AGE = (as.numeric(as.Date(DATE)) - BIRTHDT)/365.25) %>% \n",
    "    filter(HEMO200!=99) %>% # eliminate HEMO = \">20\" obs\n",
    "    mutate(CASE = case_when(\n",
    "      grepl(\"PD_YsImg_PPMI\", DIAG) ~ 1, \n",
    "      grepl(\"CTR_YsImg_PPMI\", DIAG) ~ 0,\n",
    "      TRUE ~ 99\n",
    "    )) %>%\n",
    "    mutate (IID = paste(ID,ID,sep=\"_\")) # for later step to merge with Genotyping data\n",
    "d2 %>% with(table(CASE), useNA=\"always\")\n",
    "d3 = d2 %>% filter(CASE!=99) %>% # num_of_obs 3200 -> 2600\n",
    "    select(IID,ASYN,CASE, FEMALE,AGE,HEMO200) %>%\n",
    "    arrange(IID)\n",
    "write.table(d3, \"temp/pheno.txt\", row.names = F, quote = F, sep = \"\\t\")\n",
    "print(\"complete\")\n",
    "' > _pheno.R"
   ]
  },
  {
   "cell_type": "code",
   "execution_count": 110,
   "metadata": {
    "collapsed": true
   },
   "outputs": [
    {
     "name": "stdout",
     "output_type": "stream",
     "text": [
      "HEMO\n",
      "  >20 above below  <NA> \n",
      "   28   314  1917     0 \n",
      "CASE\n",
      "   0    1   99 \n",
      " 797 1747  663 \n",
      "[1] \"complete\"\n"
     ]
    },
    {
     "name": "stderr",
     "output_type": "stream",
     "text": [
      "[+] Loading gcc  7.2.0  ... \n",
      "[+] Loading GSL 2.4 for GCC 7.2.0 ... \n",
      "[+] Loading openmpi 3.0.0  for GCC 7.2.0 \n",
      "[+] Loading R 3.5.0_build2 \n",
      "\n",
      "Attaching package: ‘dplyr’\n",
      "\n",
      "The following objects are masked from ‘package:stats’:\n",
      "\n",
      "    filter, lag\n",
      "\n",
      "The following objects are masked from ‘package:base’:\n",
      "\n",
      "    intersect, setdiff, setequal, union\n",
      "\n",
      "\n",
      "Attaching package: ‘data.table’\n",
      "\n",
      "The following objects are masked from ‘package:dplyr’:\n",
      "\n",
      "    between, first, last\n",
      "\n",
      "Warning message:\n",
      "In evalq(as.numeric(HEMO), <environment>) : NAs introduced by coercion\n",
      "Warning message:\n",
      "In if_else(as.numeric(HEMO) > 200, 1, 0) : NAs introduced by coercion\n"
     ]
    }
   ],
   "source": [
    "%%bash\n",
    "module load R\n",
    "Rscript --vanilla _pheno.R"
   ]
  },
  {
   "cell_type": "markdown",
   "metadata": {},
   "source": [
    "### Mege with the PCs file\n",
    "merge with \"PPMI.pca.eigenvec\""
   ]
  },
  {
   "cell_type": "code",
   "execution_count": 111,
   "metadata": {
    "scrolled": true
   },
   "outputs": [],
   "source": [
    "%%bash\n",
    "sort temp/pheno.txt > temp/pheno_sort.txt\n",
    "cut -f 2- data/PPMI.pca.eigenvec | sort | join -t$'\\t' temp/pheno_sort.txt -  > temp/pheno_PC5_temp.txt\n",
    "grep 'IID' temp/pheno_PC5_temp.txt > temp/pheno_PC5_colnames.txt\n",
    "grep -v 'IID' temp/pheno_PC5_temp.txt | cat temp/pheno_PC5_colnames.txt - > temp/pheno_PC5.txt"
   ]
  },
  {
   "cell_type": "markdown",
   "metadata": {},
   "source": [
    "## GLMM analysis\n",
    "\n",
    "### R code for analysis"
   ]
  },
  {
   "cell_type": "code",
   "execution_count": 134,
   "metadata": {},
   "outputs": [],
   "source": [
    "%%bash\n",
    "echo '\n",
    "args <- commandArgs(trailingOnly = TRUE)\n",
    "OUTCOME = args[1]\n",
    "DATASET = args[2]\n",
    "chrNUM =  args[3]\n",
    "ITER =  args[4]\n",
    "FOLDER = args[5]\n",
    "CASECODE = as.numeric(args[6])\n",
    "\n",
    "library(data.table);library(dplyr);library(lme4)\n",
    "# Read pheno.txt and set COV (PC1 and PC2)\n",
    "cohort=fread(\"temp/pheno_PC5.txt\") # %>% filter(CASE==CASECODE) # Only limiting to cases\n",
    "COVs = names(cohort)[c(-(1:3),-9, -10, -11)] # eliminate ID, OUTCOME, CASE, PC3-5 from covariates\n",
    "# Read genotyping data\n",
    "SNPset = fread(paste(\"zcat -f \", FOLDER, \"/\", DATASET, \"/\", chrNUM, \".\", ITER, \".trans.txt.gz\", sep=\"\"))\n",
    "SNPs = names(SNPset)[-(1:2)] # 1 ID, 2 DOSE, SNP name starts from 3\n",
    "## Merge\n",
    "cohort_snp = left_join(cohort, SNPset, by = c(\"IID\"=\"ID\"))\n",
    "write.csv(cohort_snp[,1:20], \"temp/_temp.csv\")\n",
    "# Set function for analysis\n",
    "glmm.listfunc = function(x){\n",
    "  # Models\n",
    "  MODEL = paste(OUTCOME, \"~\", \"`\", SNPs[x], \"`+\", paste(COVs, collapse=\"+\"), \"+(1|IID)\", sep = \"\")\n",
    "  testLmer = try(lmer(eval(parse(text = MODEL)), data = cohort_snp),silent = T)\n",
    "  if(class(testLmer)[1]==\"try-error\"){\n",
    "    sumstat=rep(\"DROP\",6)\n",
    "  }else{\n",
    "    temp = summary(testLmer)\n",
    "    temp1 = temp$coefficients\n",
    "    if(grep(SNPs[x], rownames(temp1)) %>% length == 0){ # In this case, SNP is dropeed from the model\n",
    "      sumstat=rep(NA,6)\n",
    "    }else{\n",
    "      RES = temp1[2,] # The first row is intercept\n",
    "      PV_APPROX = 2 * pnorm(abs(RES[3]), lower.tail=F) # df is enough large for approximation\n",
    "      OBS_N = paste(length(temp$residuals), \"_\", temp$ngrps, sep=\"\")\n",
    "      sumstat <- c(SNPs[x], OBS_N, RES[3], RES[1], RES[2], PV_APPROX)\n",
    "    }\n",
    "  }\n",
    "  return(sumstat)\n",
    "}\n",
    "temp = lapply(1:length(SNPs), glmm.listfunc)\n",
    "temp2 = do.call(rbind, temp)\n",
    "attributes(temp2)$dimnames[[2]]=c(\"SNP\", \"OBS_N\", \"Tvalue\", \"Beta\", \"SE\", \"Pv_approx\")\n",
    "head(temp2)\n",
    "NEWDIR = paste(\"/data/LNG/Hirotaka/ASYN/\", OUTCOME, \"/\", chrNUM, sep = \"\")\n",
    "dir.create(NEWDIR, recursive = T, showWarnings = F)\n",
    "write.table(temp2, paste(NEWDIR, \"/\", DATASET, CASECODE, \".\", ITER, \".txt\", sep=\"\"), row.names = F, quote = F, sep = \"\\t\")\n",
    "print(\"complete\")\n",
    "' > _analysis.R"
   ]
  },
  {
   "cell_type": "markdown",
   "metadata": {},
   "source": [
    "testrun"
   ]
  },
  {
   "cell_type": "code",
   "execution_count": 135,
   "metadata": {
    "collapsed": true
   },
   "outputs": [
    {
     "name": "stdout",
     "output_type": "stream",
     "text": [
      "     SNP                OBS_N      Tvalue               Beta               \n",
      "[1,] \"12:133435735_C_T\" \"2211_499\" \"0.466716837974515\"  \"299.734360406519\" \n",
      "[2,] \"12:133435793_C_T\" \"2211_499\" \"-0.647698843465301\" \"-555.989155686094\"\n",
      "[3,] \"12:133435861_C_T\" \"2211_499\" \"1.14089221530962\"   \"108.715849628715\" \n",
      "[4,] \"12:133436127_A_G\" \"2211_499\" \"1.02662554369804\"   \"239.823438043981\" \n",
      "[5,] \"12:133436499_C_T\" \"2211_499\" \"0.0820380234755894\" \"5.38176923817528\" \n",
      "[6,] \"12:133437240_G_A\" \"2211_499\" \"-0.668619623065455\" \"-30.8986974886041\"\n",
      "     SE                 Pv_approx          \n",
      "[1,] \"642.218870241158\" \"0.640702481297696\"\n",
      "[2,] \"858.406898970911\" \"0.517179752422419\"\n",
      "[3,] \"95.2902019751371\" \"0.253914779350272\"\n",
      "[4,] \"233.60361479036\"  \"0.304596821289577\"\n",
      "[5,] \"65.6009129690532\" \"0.934616476986448\"\n",
      "[6,] \"46.212669240758\"  \"0.503738151738932\"\n",
      "[1] \"complete\"\n"
     ]
    },
    {
     "name": "stderr",
     "output_type": "stream",
     "text": [
      "[+] Loading gcc  7.2.0  ... \n",
      "[+] Loading GSL 2.4 for GCC 7.2.0 ... \n",
      "[+] Loading openmpi 3.0.0  for GCC 7.2.0 \n",
      "[+] Loading R 3.5.0_build2 \n",
      "\n",
      "Attaching package: ‘dplyr’\n",
      "\n",
      "The following objects are masked from ‘package:data.table’:\n",
      "\n",
      "    between, first, last\n",
      "\n",
      "The following objects are masked from ‘package:stats’:\n",
      "\n",
      "    filter, lag\n",
      "\n",
      "The following objects are masked from ‘package:base’:\n",
      "\n",
      "    intersect, setdiff, setequal, union\n",
      "\n",
      "Loading required package: Matrix\n",
      "Warning messages:\n",
      "1: Some predictor variables are on very different scales: consider rescaling \n",
      "2: Some predictor variables are on very different scales: consider rescaling \n",
      "3: Some predictor variables are on very different scales: consider rescaling \n",
      "4: Some predictor variables are on very different scales: consider rescaling \n",
      "5: Some predictor variables are on very different scales: consider rescaling \n"
     ]
    }
   ],
   "source": [
    "%%bash\n",
    "module load R\n",
    "Rscript --vanilla _analysis.R ASYN PPMI chr12 11  /data/LNG/Hirotaka/progGWAS/SNPfilter/maf001rsq3_20Kcut 1"
   ]
  },
  {
   "cell_type": "markdown",
   "metadata": {},
   "source": [
    "### Create .swarm file and submit\n",
    "\"swirm\" is an NIH-wrapper for job array    \n",
    "create .swirm files and then submit these jobs"
   ]
  },
  {
   "cell_type": "code",
   "execution_count": 150,
   "metadata": {},
   "outputs": [],
   "source": [
    "%%bash\n",
    "FOLDER=/data/LNG/Hirotaka/progGWAS/SNPfilter/maf001rsq3_20Kcut\n",
    "rm _analysis*.swarm \n",
    "for j in $(ls $FOLDER/PPMI);do\n",
    "    chrNUM=$(echo $j | cut -d '.' -f 1)\n",
    "    ITER=$(echo $j | cut -d '.' -f 2)\n",
    "    for CASECODE in 0 1;do\n",
    "        if [ $CASECODE == 1 ]; then\n",
    "            echo \"Rscript --vanilla _analysis.R ASYN PPMI $chrNUM $ITER  $FOLDER $CASECODE\" >> _analysisCASE.swarm\n",
    "        else\n",
    "            echo \"Rscript --vanilla _analysis.R ASYN PPMI $chrNUM $ITER  $FOLDER $CASECODE\" >> _analysisCTRL.swarm\n",
    "        fi\n",
    "    done;\n",
    "done;"
   ]
  },
  {
   "cell_type": "code",
   "execution_count": 153,
   "metadata": {},
   "outputs": [
    {
     "name": "stdout",
     "output_type": "stream",
     "text": [
      "Loading modules R\n",
      "207 commands run in 13 subjobs, each command requiring 3 gb and 1 thread, packing 2 processes per subjob, running 8 processes serially per subjob\n",
      "sbatch --array=0-12 --job-name=swarm --output=/dev/null --error=/dev/null --cpus-per-task=2 --mem=6144 --partition=norm --time=24:00:00 /spin1/swarm/iwakih2/S21ST0WsVw/swarm.batch\n",
      "Loading modules R\n",
      "207 commands run in 13 subjobs, each command requiring 3 gb and 1 thread, packing 2 processes per subjob, running 8 processes serially per subjob\n",
      "sbatch --array=0-12 --job-name=swarm --output=/dev/null --error=/dev/null --cpus-per-task=2 --mem=6144 --partition=norm --time=24:00:00 /spin1/swarm/iwakih2/iDRkch3h5K/swarm.batch\n"
     ]
    }
   ],
   "source": [
    "%%bash\n",
    "rm -rf swarm_analysis\n",
    "swarm -f  _analysisCASE.swarm --time=3:00:00 -g 3 -p 2 -b 8 --logdir ./swarm_CASE --module R --devel\n",
    "swarm -f  _analysisCTRL.swarm --time=3:00:00 -g 3 -p 2 -b 8 --logdir ./swarm_CTRL --module R --devel"
   ]
  },
  {
   "cell_type": "code",
   "execution_count": 155,
   "metadata": {},
   "outputs": [
    {
     "data": {
      "text/plain": [
       "6811357"
      ]
     },
     "execution_count": 155,
     "metadata": {},
     "output_type": "execute_result"
    }
   ],
   "source": [
    "6811355\n",
    "6811357"
   ]
  },
  {
   "cell_type": "markdown",
   "metadata": {},
   "source": [
    "## meta_analysis"
   ]
  },
  {
   "cell_type": "code",
   "execution_count": null,
   "metadata": {},
   "outputs": [],
   "source": []
  },
  {
   "cell_type": "code",
   "execution_count": null,
   "metadata": {},
   "outputs": [],
   "source": []
  },
  {
   "cell_type": "code",
   "execution_count": 179,
   "metadata": {},
   "outputs": [
    {
     "data": {
      "text/plain": [
       "<matplotlib.axes._subplots.AxesSubplot at 0x2aaaf84b1b00>"
      ]
     },
     "execution_count": 179,
     "metadata": {},
     "output_type": "execute_result"
    },
    {
     "data": {
      "image/png": "[encoded data removed]",
      "text/plain": [
       "<Figure size 432x288 with 1 Axes>"
      ]
     },
     "metadata": {},
     "output_type": "display_data"
    }
   ],
   "source": [
    "import numpy as np \n",
    "import pandas as pd\n",
    "import matplotlib.pyplot as plt\n",
    "import seaborn as sns\n",
    "%matplotlib inline\n",
    "t1 = pd.read_table(\"temp/asyn_hemo.txt\", sep=\" \", \n",
    "                   names=(\"ID\", \"EVENT_ID\", \"ASYN\",\"HEMO\", \"DATE\"))\n",
    "t1.ASYN.hist()"
   ]
  },
  {
   "cell_type": "code",
   "execution_count": 180,
   "metadata": {},
   "outputs": [
    {
     "data": {
      "text/plain": [
       "ID            int64\n",
       "EVENT_ID     object\n",
       "ASYN        float64\n",
       "HEMO         object\n",
       "DATE         object\n",
       "dtype: object"
      ]
     },
     "execution_count": 180,
     "metadata": {},
     "output_type": "execute_result"
    }
   ],
   "source": [
    "t1.dtypes"
   ]
  },
  {
   "cell_type": "code",
   "execution_count": 181,
   "metadata": {},
   "outputs": [
    {
     "name": "stdout",
     "output_type": "stream",
     "text": [
      "OK\n"
     ]
    }
   ],
   "source": [
    "def cut_hemo200(x):\n",
    "    if x == \"above\":\n",
    "        return 1\n",
    "    elif x == \"below\":\n",
    "        return 0\n",
    "    elif x == \">20\":\n",
    "        return 99\n",
    "    else:\n",
    "        try:\n",
    "            float(x)\n",
    "            return 1\n",
    "        except ValueError:\n",
    "            return 999\n",
    "t1['HEMO200'] = t1['HEMO'].apply(cut_hemo200)\n",
    "if len(t1[t1['HEMO200']>998]) == 0:\n",
    "    print(\"OK\")"
   ]
  },
  {
   "cell_type": "code",
   "execution_count": 183,
   "metadata": {},
   "outputs": [
    {
     "data": {
      "text/html": [
       "<div>\n",
       "<style scoped>\n",
       "    .dataframe tbody tr th:only-of-type {\n",
       "        vertical-align: middle;\n",
       "    }\n",
       "\n",
       "    .dataframe tbody tr th {\n",
       "        vertical-align: top;\n",
       "    }\n",
       "\n",
       "    .dataframe thead th {\n",
       "        text-align: right;\n",
       "    }\n",
       "</style>\n",
       "<table border=\"1\" class=\"dataframe\">\n",
       "  <thead>\n",
       "    <tr style=\"text-align: right;\">\n",
       "      <th></th>\n",
       "      <th>ID</th>\n",
       "      <th>EVENT_ID</th>\n",
       "      <th>ASYN</th>\n",
       "      <th>HEMO</th>\n",
       "      <th>DATE</th>\n",
       "      <th>HEMO200</th>\n",
       "      <th>ASYN_num</th>\n",
       "      <th>HEMO_num</th>\n",
       "    </tr>\n",
       "  </thead>\n",
       "  <tbody>\n",
       "    <tr>\n",
       "      <th>0</th>\n",
       "      <td>10874</td>\n",
       "      <td>BL</td>\n",
       "      <td>1778.3</td>\n",
       "      <td>148.0</td>\n",
       "      <td>2014-09-01</td>\n",
       "      <td>1</td>\n",
       "      <td>1778.3</td>\n",
       "      <td>148.0</td>\n",
       "    </tr>\n",
       "    <tr>\n",
       "      <th>1</th>\n",
       "      <td>10874</td>\n",
       "      <td>V02</td>\n",
       "      <td>2459.3</td>\n",
       "      <td>below</td>\n",
       "      <td>2015-03-01</td>\n",
       "      <td>0</td>\n",
       "      <td>2459.3</td>\n",
       "      <td>NaN</td>\n",
       "    </tr>\n",
       "    <tr>\n",
       "      <th>2</th>\n",
       "      <td>10874</td>\n",
       "      <td>V04</td>\n",
       "      <td>1729.8</td>\n",
       "      <td>below</td>\n",
       "      <td>2015-08-01</td>\n",
       "      <td>0</td>\n",
       "      <td>1729.8</td>\n",
       "      <td>NaN</td>\n",
       "    </tr>\n",
       "    <tr>\n",
       "      <th>3</th>\n",
       "      <td>12224</td>\n",
       "      <td>BL</td>\n",
       "      <td>1029.7</td>\n",
       "      <td>below</td>\n",
       "      <td>2013-10-01</td>\n",
       "      <td>0</td>\n",
       "      <td>1029.7</td>\n",
       "      <td>NaN</td>\n",
       "    </tr>\n",
       "    <tr>\n",
       "      <th>4</th>\n",
       "      <td>12224</td>\n",
       "      <td>V02</td>\n",
       "      <td>891.2</td>\n",
       "      <td>below</td>\n",
       "      <td>2014-05-01</td>\n",
       "      <td>0</td>\n",
       "      <td>891.2</td>\n",
       "      <td>NaN</td>\n",
       "    </tr>\n",
       "  </tbody>\n",
       "</table>\n",
       "</div>"
      ],
      "text/plain": [
       "      ID EVENT_ID    ASYN   HEMO        DATE  HEMO200  ASYN_num  HEMO_num\n",
       "0  10874       BL  1778.3  148.0  2014-09-01        1    1778.3     148.0\n",
       "1  10874      V02  2459.3  below  2015-03-01        0    2459.3       NaN\n",
       "2  10874      V04  1729.8  below  2015-08-01        0    1729.8       NaN\n",
       "3  12224       BL  1029.7  below  2013-10-01        0    1029.7       NaN\n",
       "4  12224      V02   891.2  below  2014-05-01        0     891.2       NaN"
      ]
     },
     "execution_count": 183,
     "metadata": {},
     "output_type": "execute_result"
    }
   ],
   "source": [
    "t1['ASYN_num'] = pd.to_numeric(t1['ASYN'], errors=\"coerce\")\n",
    "t1['HEMO_num'] = pd.to_numeric(t1['HEMO'], errors=\"coerce\")\n",
    "t1.head()"
   ]
  },
  {
   "cell_type": "code",
   "execution_count": null,
   "metadata": {},
   "outputs": [],
   "source": []
  },
  {
   "cell_type": "code",
   "execution_count": null,
   "metadata": {},
   "outputs": [],
   "source": []
  }
 ],
 "metadata": {
  "kernelspec": {
   "display_name": "Python 3",
   "language": "python",
   "name": "python3"
  },
  "language_info": {
   "codemirror_mode": {
    "name": "ipython",
    "version": 3
   },
   "file_extension": ".py",
   "mimetype": "text/x-python",
   "name": "python",
   "nbconvert_exporter": "python",
   "pygments_lexer": "ipython3",
   "version": "3.5.5"
  }
 },
 "nbformat": 4,
 "nbformat_minor": 2
}
