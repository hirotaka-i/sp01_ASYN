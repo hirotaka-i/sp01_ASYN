{
 "cells": [
  {
   "cell_type": "markdown",
   "metadata": {},
   "source": [
    "# CSF ANALYSIS FOR PPMI data\n",
    "\n",
    "\n",
    "Created: 2018-08-07    \n",
    "By: Hirotaka Iwaki"
   ]
  },
  {
   "cell_type": "markdown",
   "metadata": {},
   "source": [
    "## GLMM analysis\n",
    "\n",
    "### Analysis models"
   ]
  },
  {
   "cell_type": "code",
   "execution_count": 55,
   "metadata": {},
   "outputs": [],
   "source": [
    "%%bash\n",
    "rm -f models.txt\n",
    "echo 'MODEL;OUTCOME;COVS;GENOTYPEFILE;PHENOTYPEFILE;OUTFILE' > models.txt\n",
    "MODEL=lnmxi\n",
    "DATASET=PPMI\n",
    "for GENOTYPEFILE in $(ls ../dataset/$DATASET/maf01rsq3_20Kcut/*);do\n",
    "    for PHENOTYPEFILE in $(ls dataset/$DATASET/pheno/*);do\n",
    "        for OUTCOME in logASYN ivnASYN rawASYN;do\n",
    "            if [[ $PHENOTYPEFILE == *\"all.txt\" ]];then\n",
    "                COVS=\"HEMO,FEMALE,AGE,CASE,PC1,PC2\"\n",
    "            elif [[ $PHENOTYPEFILE == *\"control.txt\" ]];then\n",
    "                COVS=\"HEMO,FEMALE,AGE,PC1,PC2\"\n",
    "            else \n",
    "                COVS=\"HEMO,FEMALE,AGE,AAO,PC1,PC2\"\n",
    "            fi\n",
    "            OUTFOLDER=dataset/$DATASET/GWAS/$MODEL/$OUTCOME\n",
    "            echo \"\\\n",
    "$MODEL:$OUTCOME:$COVS:$GENOTYPEFILE:$PHENOTYPEFILE:$OUTFOLDER\" >> models.txt\n",
    "        done\n",
    "    done\n",
    "done"
   ]
  },
  {
   "cell_type": "markdown",
   "metadata": {},
   "source": [
    "### Rcode for analysis"
   ]
  },
  {
   "cell_type": "code",
   "execution_count": 56,
   "metadata": {},
   "outputs": [],
   "source": [
    "%%bash\n",
    "echo '\n",
    "txt <- commandArgs(trailingOnly = TRUE)\n",
    "library(data.table);library(dplyr)\n",
    "ANALYSIS=strsplit(txt, \":\")[[1]][1]\n",
    "OUTCOME=strsplit(txt, \":\")[[1]][2]\n",
    "COVPC=strsplit(txt, \":\")[[1]][3] %>% gsub(\",\", \"+\", .) \n",
    "INFILE=paste(\"gzcat -f\", strsplit(txt, \":\")[[1]][4])\n",
    "DATASET=strsplit(txt, \":\")[[1]][5]\n",
    "OUTFOLDER=strsplit(txt, \":\")[[1]][6]\n",
    "SNPset = fread(cmd=INFILE)\n",
    "SNPs = names(SNPset)[-c(1:2)] \n",
    "# Read phenotype\n",
    "library(lme4)\n",
    "cohort=fread(DATASET) %>% select(c(\"IID\", OUTCOME, strsplit(COVPC, \"\\\\+\")[[1]])) %>% filter(complete.cases(.))\n",
    "# rescaling\n",
    "cohort[,(strsplit(COVPC, \"\\\\+\")[[1]])] = as.data.frame(scale(cohort[,(strsplit(COVPC, \"\\\\+\")[[1]])]))\n",
    "# Merge data\n",
    "cohort_snp = left_join(cohort, SNPset, by = \"IID\")\n",
    "# ANALYSIS\n",
    "test.listfunc = function(x){\n",
    "  MODEL = paste(OUTCOME, \"~\", \"`\", SNPs[x], \"`+\", paste(COVPC, collapse=\"+\"), \"+(1|IID)\", sep = \"\")\n",
    "  testLmer = try(lmer(eval(parse(text = MODEL)), data = cohort_snp),silent = T)\n",
    "  if(class(testLmer)[1]==\"try-error\"){\n",
    "    sumstat=c(SNPs[x], \"NoConverge\", rep(NA,4))\n",
    "  }else{\n",
    "    temp = summary(testLmer)\n",
    "    temp1 = temp$coefficients\n",
    "    if(grep(substr(SNPs[x],1,7), rownames(temp1)) %>% length == 0){\n",
    "      sumstat=c(SNPs[x], \"Dropped\", rep(NA,4))\n",
    "    }else{\n",
    "      RES = temp1[2,] # The first row is intercept\n",
    "      PV_APPROX = 2 * pnorm(-abs(RES[3])) # df is large enough for approximation\n",
    "      OBS_N = paste(length(temp$residuals), \"_\", temp$ngrps, sep=\"\")\n",
    "      sumstat <- c(SNPs[x], OBS_N, RES[3], RES[1], RES[2], PV_APPROX)\n",
    "    }\n",
    "  }\n",
    "  return(sumstat)\n",
    "}\n",
    "temp = lapply(1:length(SNPs), test.listfunc)\n",
    "temp2 = do.call(rbind, temp) %>% data.frame%>%filter(complete.cases(.))\n",
    "names(temp2)=c(\"POS_A2_A1\", \"EVENT_OBS\", \"Tvalue\", \"BETA\", \"SE\", \"P\")\n",
    "dir.create(OUTFOLDER, recursive = T, showWarnings = F)\n",
    "FILENAME = strsplit(INFILE, \"/\")[[1]][5] %>% substr(.,1,nchar(.)-3) %>% sub(\"\\\\.\", \"_\", .)\n",
    "write.table(temp2, paste(OUTFOLDER, FILENAME, sep=\"/\"), row.names = F, quote = F, sep = \"\\t\")\n",
    "line=paste(\"Rscript --vanilla t/\", ANALYSIS, \".R \", txt, sep=\"\")\n",
    "write(line,file=paste(\"finish_\", ANALYSIS, \".txt\", sep=\"\"),append=TRUE)\n",
    "' > t/lnmxi.R"
   ]
  },
  {
   "cell_type": "markdown",
   "metadata": {},
   "source": [
    "# Analysis\n",
    "### Only among cases"
   ]
  },
  {
   "cell_type": "code",
   "execution_count": 1,
   "metadata": {},
   "outputs": [
    {
     "name": "stdout",
     "output_type": "stream",
     "text": [
      "MODEL;OUTCOME;COVS;GENOTYPEFILE;PHENOTYPEFILE;OUTFILE\n",
      "lnmxi:logASYN:HEMO,FEMALE,AGE,CASE,PC1,PC2:../dataset/PPMI/maf01rsq3_20Kcut/cut1.0.txt.gz:dataset/PPMI/pheno/all.txt:dataset/PPMI/GWAS/lnmxi/logASYN\n",
      "Loading modules R\n",
      "150 commands run in 38 subjobs, each command requiring 3 gb and 1 thread, packing 2 processes per subjob, running 2 processes serially per subjob\n",
      "sbatch --array=0-37 --job-name=swarm --output=/dev/null --error=/dev/null --cpus-per-task=2 --mem=6144 --partition=norm --time=04:00:00 /spin1/swarm/iwakih2/h7E2uRN15Q/swarm.batch\n"
     ]
    }
   ],
   "source": [
    "%%bash\n",
    "head -n2 models.txt\n",
    "grep 'logASYN' models.txt | grep case.txt | sed 's/^/Rscript --vanilla t\\/lnmxi.R /' > t/swarm_logASYN.txt\n",
    "swarm -f t/swarm_logASYN.txt --time=2:00:00 -g 3 -p 2 -b 2 --logdir t/swarm --module R --devel"
   ]
  },
  {
   "cell_type": "code",
   "execution_count": 58,
   "metadata": {},
   "outputs": [
    {
     "name": "stdout",
     "output_type": "stream",
     "text": [
      "10803817\n"
     ]
    }
   ],
   "source": [
    "%%bash\n",
    "swarm -f t/swarm_logASYN.txt --time=2:00:00 -g 3 -p 2 -b 2 --logdir t/swarm --module R --devel"
   ]
  },
  {
   "cell_type": "markdown",
   "metadata": {},
   "source": [
    "### Summarize analysis results\n",
    "Filter out |BETA|<5, MAF>0.05"
   ]
  },
  {
   "cell_type": "code",
   "execution_count": 75,
   "metadata": {},
   "outputs": [
    {
     "name": "stdout",
     "output_type": "stream",
     "text": [
      "\n",
      "cat dataset/PPMI/GWAS/lnmxi/logASYN/*.txt | sed 's/_/\\t/g' | cut -f 1-3,7-9 | awk 'BEGIN{OFS=\"\\t\"}{print $1,$3,$2,$4,$5,$6}' | awk 'NR==1{print;next} -5 < $4 && $4 < 5{print|\"LANG=C sort\"}' | LANG=C join -t$'\\t' --header - ../dataset/PPMI/maf01rsq3_sorted.txt| awk 'NR==1{print;next}$2==$8{print}' | cut -f 1-6,9-10 | awk 'NR==1{print;next}$7>0.05{print}'> dataset/PPMI/GWAS/lnmxi/logASYN/filt.tab\n",
      "1 commands run in 1 subjob, each command requiring 2 gb and 1 thread, allocating 1 core and 2 cpus\n",
      "sbatch --array=0-0 --job-name=swarm --output=swarm/t/swarm_%A_%a.o --error=swarm/t/swarm_%A_%a.e --cpus-per-task=1 --mem=2048 --partition=quick --time=01:00 /spin1/swarm/iwakih2/E0NApo49op/swarm.batch\n"
     ]
    }
   ],
   "source": [
    "%%bash\n",
    "rm -f t/populate*.txt\n",
    "DATASET=\"PPMI\"\n",
    "RESULT=\"GWAS\"\n",
    "MODEL=\"lnmxi\"\n",
    "OUTCOME=\"logASYN\"\n",
    "B_THRES=5\n",
    "echo \"\n",
    "cat dataset/$DATASET/$RESULT/$MODEL/$OUTCOME/*.txt | sed 's/_/\\t/g' | cut -f 1-3,7-9 |\\\n",
    " awk 'BEGIN{OFS=\\\"\\t\\\"}{print \\$1,\\$3,\\$2,\\$4,\\$5,\\$6}' | awk 'NR==1{print;next} -$B_THRES < \\$4 && \\$4 < $B_THRES{print|\\\"LANG=C sort\\\"}' |\\\n",
    " LANG=C join -t$'\\t' --header - ../dataset/$DATASET/maf01rsq3_sorted.txt|\\\n",
    " awk 'NR==1{print;next}\\$2==\\$8{print}' | cut -f 1-6,9-10 | awk 'NR==1{print;next}\\$7>0.05{print}'>\\\n",
    " dataset/$DATASET/$RESULT/$MODEL/$OUTCOME/filt.tab\" \\\n",
    " > t/populate_\"$RESULT\".txt\n",
    "\n",
    "head -n2 t/populate_\"$RESULT\".txt\n",
    "swarm -f t/populate_\"$RESULT\".txt --time=0:01:00 -g 2 --logdir swarm/t --partition=quick --devel"
   ]
  },
  {
   "cell_type": "code",
   "execution_count": 76,
   "metadata": {},
   "outputs": [],
   "source": [
    "%%bash\n",
    "cat dataset/PPMI/GWAS/lnmxi/logASYN/*.txt | sed 's/_/\\t/g' | cut -f 1-3,7-9 | awk 'BEGIN{OFS=\"\\t\"}{print $1,$3,$2,$4,$5,$6}' |\\\n",
    "awk 'NR==1{print;next} -5 < $4 && $4 < 5{print|\"LANG=C sort\"}' | LANG=C join -t$'\\t' --header - ../dataset/PPMI/maf01rsq3_sorted.txt|\\\n",
    "awk 'NR==1{print;next}$2==$8{print}' | cut -f 1-6,9-10 | awk 'NR==1{print;next}$7>0.05{print}'> dataset/PPMI/GWAS/lnmxi/logASYN/filt.tab"
   ]
  },
  {
   "cell_type": "code",
   "execution_count": 50,
   "metadata": {},
   "outputs": [
    {
     "name": "stdout",
     "output_type": "stream",
     "text": [
      "4:87776334\tG\tT\t0.268169660596023\t0.0531021224494774\t4.41638395965854e-07\t0.07409\t0.95845\n",
      "4:87779200\tC\tT\t0.267816901603139\t0.0530257588149491\t4.40206917632107e-07\t0.07412\t0.96079\n",
      "4:87779724\tT\tC\t-0.258854902073759\t0.0497119591444116\t1.91819731415195e-07\t0.91924\t0.94901\n",
      "4:87780869\tC\tT\t0.267153119859032\t0.0529940221523419\t4.62637380230938e-07\t0.07438\t0.95914\n",
      "4:87782506\tA\tC\t0.267193109552545\t0.0529286035153237\t4.46039163988488e-07\t0.07410\t0.96459\n",
      "4:87790222\tT\tA\t0.265861905852615\t0.0528041269087502\t4.78173636816479e-07\t0.07438\t0.96603\n",
      "4:87790756\tA\tG\t0.265768736667505\t0.0528003467871526\t4.81690932222062e-07\t0.07446\t0.96544\n",
      "4:87790805\tT\tC\t0.266052550099932\t0.0527787863350308\t4.63349111832365e-07\t0.07413\t0.96976\n",
      "4:87795055\tC\tA\t0.265040379631759\t0.0526226558031225\t4.73821335018687e-07\t0.07439\t0.97214\n",
      "8:124689840\tC\tG\t-0.275543703905232\t0.0530412229279553\t2.04832924136123e-07\t0.19356\t0.45366\n"
     ]
    }
   ],
   "source": [
    "%%bash\n",
    "awk '$6<5e-7' dataset/PPMI/GWAS/lnmxi/logASYN_case/filt.tab"
   ]
  },
  {
   "cell_type": "code",
   "execution_count": 1,
   "metadata": {},
   "outputs": [],
   "source": [
    "%%bash\n",
    "awk '$6<5e-7{print $1}' dataset/PPMI/GWAS/lnmxi/logASYN_case/filt.tab > dataset/PPMI/GWAS/lnmxi/case_subhits.txt"
   ]
  },
  {
   "cell_type": "markdown",
   "metadata": {},
   "source": [
    "## Unified model with cases and controls"
   ]
  },
  {
   "cell_type": "code",
   "execution_count": 80,
   "metadata": {},
   "outputs": [
    {
     "name": "stdout",
     "output_type": "stream",
     "text": [
      "MODEL;OUTCOME;COVS;GENOTYPEFILE;PHENOTYPEFILE;OUTFILE\n",
      "lnmxi:logASYN:HEMO,FEMALE,AGE,CASE,PC1,PC2:../dataset/PPMI/maf01rsq3_20Kcut/cut1.0.txt.gz:dataset/PPMI/pheno/all.txt:dataset/PPMI/GWAS/lnmxi/logASYN\n",
      "Loading modules R\n",
      "150 commands run in 38 subjobs, each command requiring 3 gb and 1 thread, packing 2 processes per subjob, running 2 processes serially per subjob\n",
      "sbatch --array=0-37 --job-name=swarm --output=/dev/null --error=/dev/null --cpus-per-task=2 --mem=6144 --partition=norm --time=04:00:00 /spin1/swarm/iwakih2/UmPn2OY4PO/swarm.batch\n"
     ]
    }
   ],
   "source": [
    "%%bash\n",
    "head -n2 models.txt\n",
    "grep 'logASYN' models.txt | grep all.txt | sed 's/^/Rscript --vanilla t\\/lnmxi.R /' > t/swarm_logASYN.txt\n",
    "swarm -f t/swarm_logASYN.txt --time=2:00:00 -g 3 -p 2 -b 2 --logdir t/swarm --module R --devel"
   ]
  },
  {
   "cell_type": "code",
   "execution_count": 81,
   "metadata": {},
   "outputs": [
    {
     "name": "stdout",
     "output_type": "stream",
     "text": [
      "10833130\n"
     ]
    }
   ],
   "source": [
    "%%bash\n",
    "swarm -f t/swarm_logASYN.txt --time=2:00:00 -g 3 -p 2 -b 2 --logdir t/swarm --module R --devel"
   ]
  },
  {
   "cell_type": "code",
   "execution_count": 1,
   "metadata": {},
   "outputs": [],
   "source": [
    "%%bash\n",
    "cat dataset/PPMI/GWAS/lnmxi/logASYN/*.txt | sed 's/_/\\t/g' | cut -f 1-3,7-9 | awk 'BEGIN{OFS=\"\\t\"}{print $1,$3,$2,$4,$5,$6}' | awk 'NR==1{print;next} -5 < $4 && $4 < 5{print|\"LANG=C sort\"}' | LANG=C join -t$'\\t' --header - ../dataset/PPMI/maf01rsq3_sorted.txt| awk 'NR==1{print;next}$2==$8{print}' | cut -f 1-6,9-10 | awk 'NR==1{print;next}$7>0.05{print}'> dataset/PPMI/GWAS/lnmxi/logASYN/filt.tab"
   ]
  },
  {
   "cell_type": "code",
   "execution_count": 2,
   "metadata": {},
   "outputs": [
    {
     "name": "stdout",
     "output_type": "stream",
     "text": [
      "4:87829251\tG\tA\t0.216182405089796\t0.0428984034458618\t4.66982704810816e-07\t0.07835\t0.97379\n",
      "4:87874574\tC\tA\t0.219050161093464\t0.0435291985907932\t4.84736115349288e-07\t0.08004\t0.92543\n",
      "4:87905696\tT\tG\t0.220646591993408\t0.0438924412602532\t4.98254377104771e-07\t0.08046\t0.90305\n",
      "8:124688861\tA\tG\t-0.229111866068758\t0.0454550174851971\t4.64538681399518e-07\t0.14954\t0.49466\n"
     ]
    }
   ],
   "source": [
    "%%bash\n",
    "awk '$6<5e-7' dataset/PPMI/GWAS/lnmxi/logASYN/filt.tab | head"
   ]
  },
  {
   "cell_type": "code",
   "execution_count": 3,
   "metadata": {},
   "outputs": [],
   "source": [
    "%%bash\n",
    "mv dataset/PPMI/GWAS/lnmxi/logASYN dataset/PPMI/GWAS/lnmxi/logASYN_all"
   ]
  },
  {
   "cell_type": "markdown",
   "metadata": {},
   "source": [
    "### Analysis only with controls"
   ]
  },
  {
   "cell_type": "code",
   "execution_count": 4,
   "metadata": {},
   "outputs": [
    {
     "name": "stdout",
     "output_type": "stream",
     "text": [
      "MODEL;OUTCOME;COVS;GENOTYPEFILE;PHENOTYPEFILE;OUTFILE\n",
      "lnmxi:logASYN:HEMO,FEMALE,AGE,CASE,PC1,PC2:../dataset/PPMI/maf01rsq3_20Kcut/cut1.0.txt.gz:dataset/PPMI/pheno/all.txt:dataset/PPMI/GWAS/lnmxi/logASYN\n",
      "Loading modules R\n",
      "150 commands run in 38 subjobs, each command requiring 3 gb and 1 thread, packing 2 processes per subjob, running 2 processes serially per subjob\n",
      "sbatch --array=0-37 --job-name=swarm --output=/dev/null --error=/dev/null --cpus-per-task=2 --mem=6144 --partition=norm --time=04:00:00 /spin1/swarm/iwakih2/uKGxVPYPvz/swarm.batch\n",
      "10919729\n"
     ]
    }
   ],
   "source": [
    "%%bash\n",
    "head -n2 models.txt\n",
    "grep 'logASYN' models.txt | grep control.txt | sed 's/^/Rscript --vanilla t\\/lnmxi.R /' > t/swarm_logASYN.txt\n",
    "swarm -f t/swarm_logASYN.txt --time=2:00:00 -g 3 -p 2 -b 2 --logdir t/swarm --module R --devel\n",
    "swarm -f t/swarm_logASYN.txt --time=2:00:00 -g 3 -p 2 -b 2 --logdir t/swarm --module R"
   ]
  },
  {
   "cell_type": "code",
   "execution_count": 2,
   "metadata": {
    "scrolled": true
   },
   "outputs": [
    {
     "name": "stdout",
     "output_type": "stream",
     "text": [
      "15:77854352\tT\tG\t0.273710327142572\t0.0536199021587898\t3.31423863072548e-07\t0.32237\t0.62113\n",
      "15:77854678\tT\tC\t0.273817098510611\t0.0536459083987464\t3.3227366123378e-07\t0.32236\t0.62054\n",
      "15:77854876\tC\tA\t0.273709129951563\t0.0536483522218505\t3.36240490728656e-07\t0.32232\t0.62037\n",
      "15:77856571\tA\tT\t0.273513279460726\t0.0537695172057713\t3.64209065123717e-07\t0.32290\t0.61679\n"
     ]
    }
   ],
   "source": [
    "%%bash\n",
    "cat dataset/PPMI/GWAS/lnmxi/logASYN/*.txt | sed 's/_/\\t/g' | cut -f 1-3,7-9 | awk 'BEGIN{OFS=\"\\t\"}{print $1,$3,$2,$4,$5,$6}' | awk 'NR==1{print;next} -5 < $4 && $4 < 5{print|\"LANG=C sort\"}' | LANG=C join -t$'\\t' --header - ../dataset/PPMI/maf01rsq3_sorted.txt| awk 'NR==1{print;next}$2==$8{print}' | cut -f 1-6,9-10 | awk 'NR==1{print;next}$7>0.05{print}'> dataset/PPMI/GWAS/lnmxi/logASYN/filt.tab\n",
    "mv dataset/PPMI/GWAS/lnmxi/logASYN dataset/PPMI/GWAS/lnmxi/logASYN_control\n",
    "awk '$6<5e-7' dataset/PPMI/GWAS/lnmxi/logASYN_control/filt.tab | head"
   ]
  },
  {
   "cell_type": "code",
   "execution_count": 5,
   "metadata": {},
   "outputs": [
    {
     "name": "stdout",
     "output_type": "stream",
     "text": [
      "POS\tA1\tA2\tBETA\tSE\tP\tALT_Frq\tRsq\n",
      "4:87779724\tT\tC\t-0.113251894793522\t0.077916474109751\t0.146083912599818\t0.91924\t0.94901\n",
      "4:87874574\tC\tA\t0.162000912608873\t0.0778229466215886\t0.037373539607659\t0.08004\t0.92543\n"
     ]
    }
   ],
   "source": [
    "%%bash\n",
    "head -n1 dataset/PPMI/GWAS/lnmxi/logASYN_control/filt.tab\n",
    "grep '4:87779724' dataset/PPMI/GWAS/lnmxi/logASYN_control/filt.tab\n",
    "grep '4:87874574' dataset/PPMI/GWAS/lnmxi/logASYN_control/filt.tab"
   ]
  },
  {
   "cell_type": "code",
   "execution_count": 2,
   "metadata": {},
   "outputs": [
    {
     "name": "stdout",
     "output_type": "stream",
     "text": [
      "POS\tA1\tA2\tBETA\tSE\tP\tALT_Frq\tRsq\n",
      "4:87776334\tG\tT\t0.113062613427803\t0.0806329054713359\t0.160858666205001\t0.07409\t0.95845\n",
      "4:87779200\tC\tT\t0.113890432349514\t0.0805503104304594\t0.157389995711666\t0.07412\t0.96079\n",
      "4:87779724\tT\tC\t-0.113251894793522\t0.077916474109751\t0.146083912599818\t0.91924\t0.94901\n",
      "4:87780869\tC\tT\t0.114190147917796\t0.0805019984493301\t0.156051858296662\t0.07438\t0.95914\n",
      "4:87782506\tA\tC\t0.114738787148842\t0.0804220192073666\t0.153663903161291\t0.07410\t0.96459\n",
      "4:87790222\tT\tA\t0.115839049791902\t0.0802668574384782\t0.148971433410482\t0.07438\t0.96603\n",
      "4:87790756\tA\tG\t0.116086214283221\t0.0802601598620488\t0.148072309952289\t0.07446\t0.96544\n",
      "4:87790805\tT\tC\t0.11599059904781\t0.0802460453271181\t0.148335190788936\t0.07413\t0.96976\n",
      "4:87795055\tC\tA\t0.117516748765643\t0.0800746928673024\t0.142215862676004\t0.07439\t0.97214\n",
      "8:124689840\tC\tG\t-0.0904154328480027\t0.0761747144689051\t0.235248091579088\t0.19356\t0.45366\n"
     ]
    }
   ],
   "source": [
    "%%bash\n",
    "head -n1 dataset/PPMI/GWAS/lnmxi/logASYN_control/filt.tab\n",
    "grep -f dataset/PPMI/GWAS/lnmxi/case_subhits.txt dataset/PPMI/GWAS/lnmxi/logASYN_control/filt.tab"
   ]
  },
  {
   "cell_type": "markdown",
   "metadata": {},
   "source": [
    "## Meta analysis with cases and controls"
   ]
  },
  {
   "cell_type": "code",
   "execution_count": 44,
   "metadata": {},
   "outputs": [],
   "source": [
    "%%bash\n",
    "rm -f models_meta.txt\n",
    "MODEL=\"lnmxi\"\n",
    "OUTCOME=\"logASYN\"\n",
    "OUTDIR=\"meta/$MODEL/$OUTCOME\"\n",
    "mkdir -p $OUTDIR\n",
    "echo \"$MODEL:$OUTCOME:$OUTDIR:\" > models_meta_line.txt\n",
    "for i in $(ls dataset/PPMI/GWAS/$MODEL/logASYN_*/filt.tab);do\n",
    "    sed -i \"s|\\$|$i,|\" models_meta_line.txt\n",
    "done\n",
    "cat models_meta_line.txt >> models_meta.txt\n",
    "rm  models_meta_line.txt\n",
    "\n",
    "# Create Metal file\n",
    "for i in $(cat models_meta.txt); do\n",
    "    MODEL=$(echo $i | cut -d':' -f1)\n",
    "    OUTCOME=$(echo $i | cut -d':' -f2)\n",
    "    OUTDIR=$(echo $i | cut -d':' -f3)\n",
    "    INFILEs=$(echo $i | cut -d':' -f4 | sed 's|,|\\t|g')\n",
    "    rm -f $OUTDIR/metal.txt\n",
    "    for INFILE in $INFILEs;do\n",
    "        echo \"\\\n",
    "MARKER POS\n",
    "ALLELE A1 A2\n",
    "EFFECT BETA\n",
    "STDERR SE\n",
    "PVALUE P\n",
    "PROCESS $INFILE\" >> $OUTDIR/metal.txt\n",
    "    done\n",
    "    sed -i \"1 iSCHEME STDERR\" meta/$MODEL/$OUTCOME/metal.txt\n",
    "    sed -i \"\\$ aOUTFILE $OUTDIR/res .tbl\\nANALYZE HETEROGENEITY\\nQUIT\" meta/$MODEL/$OUTCOME/metal.txt\n",
    "done"
   ]
  },
  {
   "cell_type": "code",
   "execution_count": 45,
   "metadata": {
    "scrolled": false
   },
   "outputs": [
    {
     "name": "stdout",
     "output_type": "stream",
     "text": [
      "MetaAnalysis Helper - (c) 2007 - 2009 Goncalo Abecasis\n",
      "\n",
      "# This program faciliates meta-analysis of genome-wide association studies.\n",
      "# Commonly used commands are listed below:\n",
      "#\n",
      "# Options for describing input files ...\n",
      "#   SEPARATOR        [WHITESPACE|COMMA|BOTH|TAB] (default = WHITESPACE)\n",
      "#   COLUMNCOUNTING   [STRICT|LENIENT]            (default = 'STRICT')\n",
      "#   MARKERLABEL      [LABEL]                     (default = 'MARKER')\n",
      "#   ALLELELABELS     [LABEL1 LABEL2]             (default = 'ALLELE1','ALLELE2')\n",
      "#   EFFECTLABEL      [LABEL|log(LABEL)]          (default = 'EFFECT')\n",
      "#   FLIP\n",
      "#\n",
      "# Options for filtering input files ...\n",
      "#   ADDFILTER        [LABEL CONDITION VALUE]     (example = ADDFILTER N > 10)\n",
      "#                    (available conditions are <, >, <=, >=, =, !=, IN)\n",
      "#   REMOVEFILTERS\n",
      "#\n",
      "# Options for sample size weighted meta-analysis ...\n",
      "#   WEIGHTLABEL      [LABEL]                     (default = 'N')\n",
      "#   PVALUELABEL      [LABEL]                     (default = 'PVALUE')\n",
      "#   DEFAULTWEIGHT    [NUMBER]                    (default = 1.0)\n",
      "#   MINWEIGHT        [NUMBER]                    (default = 1.0)\n",
      "#\n",
      "# Options for inverse variance weighted meta-analysis ...\n",
      "#   STDERRLABEL      [LABEL]                     (default = 'STDERR')\n",
      "#   SCHEME           [SAMPLESIZE|STDERR]         (default = SAMPLESIZE)\n",
      "#\n",
      "# Options to enable tracking of allele frequencies ...\n",
      "#   AVERAGEFREQ      [ON|OFF]                    (default = OFF)\n",
      "#   MINMAXFREQ       [ON|OFF]                    (default = OFF)\n",
      "#   FREQLABEL        [LABEL]                     (default = 'FREQ')\n",
      "#\n",
      "# Options to enable tracking of user defined variables ...\n",
      "#   CUSTOMVARIABLE   [VARNAME]\n",
      "#   LABEL            [VARNAME] AS [HEADER]\n",
      "#\n",
      "# Options to enable explicit strand information ...\n",
      "#   USESTRAND        [ON|OFF]                    (default = OFF)\n",
      "#   STRANDLABEL      [LABEL]                     (default = 'STRAND')\n",
      "#\n",
      "# Automatic genomic control correction of input statistics ...\n",
      "#   GENOMICCONTROL   [ON|OFF|VALUE|LIST snps.txt](default = OFF)\n",
      "#\n",
      "# Options to account for samples overlap ...\n",
      "#   OVERLAP          [ON|OFF]                    (default = OFF)\n",
      "#   ZCUTOFF          [NUMBER]                    (default = 1.0)\n",
      "#\n",
      "# Options for general analysis control ...\n",
      "#   PROCESSFILE      [FILENAME]\n",
      "#   OUTFILE          [PREFIX SUFFIX]             (default = 'METAANALYSIS','.TBL')\n",
      "#   MAXWARNINGS      [NUMBER]                    (default = 20)\n",
      "#   VERBOSE          [ON|OFF]                    (default = 'OFF')\n",
      "#   LOGPVALUE        [ON|OFF]                    (default = 'OFF')\n",
      "#   ANALYZE          [HETEROGENEITY]\n",
      "#   CLEAR\n",
      "\n",
      "# Options for general run control ...\n",
      "#   SOURCE           [SCRIPTFILE]\n",
      "#   RETURN\n",
      "#   QUIT\n",
      "\n",
      "# Processing commands in meta/lnmxi/logASYN/metal.txt ...\n",
      "## Meta-analysis will be based on effect sizes and their standard errors ...\n",
      "## Set marker header to POS ...\n",
      "## Set allele headers to A1 and A2 ...\n",
      "## Set effect header to BETA ...\n",
      "## Set standard error header to SE ...\n",
      "## Set p-value header to P ...\n",
      "###########################################################################\n",
      "## Processing file 'dataset/PPMI/GWAS/lnmxi/logASYN_case/filt.tab'\n",
      "## WARNING: Bad alleles for marker '10:102592150', expecting 'a/g' found 'a/t'\n",
      "## WARNING: Bad alleles for marker '10:106821209', expecting 'c/g' found 'a/g'\n",
      "## WARNING: Bad alleles for marker '10:121494402', expecting 'c/g' found 'a/g'\n",
      "## WARNING: Bad alleles for marker '10:12222556', expecting 'a/c' found 'a/g'\n",
      "## WARNING: Bad alleles for marker '10:123337066', expecting 'a/t' found 'a/g'\n",
      "## WARNING: Bad alleles for marker '10:13250090', expecting 'a/t' found 'a/c'\n",
      "## WARNING: Bad alleles for marker '10:135061112', expecting 'c/g' found 'a/g'\n",
      "## WARNING: Bad alleles for marker '10:18714742', expecting 'a/g' found 'a/t'\n",
      "## WARNING: Bad alleles for marker '10:26518418', expecting 'a/c' found 'a/g'\n",
      "## WARNING: Bad alleles for marker '10:3164681', expecting 'a/c' found 'a/t'\n",
      "## WARNING: Bad alleles for marker '10:35299715', expecting 'c/g' found 'a/c'\n",
      "## WARNING: Bad alleles for marker '10:38038687', expecting 'a/c' found 'c/g'\n",
      "## WARNING: Bad alleles for marker '10:44232390', expecting 'a/g' found 'a/c'\n",
      "## WARNING: Bad alleles for marker '10:45958881', expecting 'a/c' found 'a/g'\n",
      "## WARNING: Bad alleles for marker '10:50122596', expecting 'a/c' found 'a/g'\n",
      "## WARNING: Bad alleles for marker '10:68012429', expecting 'c/g' found 'a/g'\n",
      "## WARNING: Bad alleles for marker '10:81016209', expecting 'a/g' found 'c/g'\n",
      "## WARNING: Bad alleles for marker '10:90692578', expecting 'a/g' found 'c/g'\n",
      "## WARNING: Bad alleles for marker '10:97123121', expecting 'a/g' found 'c/g'\n",
      "## WARNING: Bad alleles for marker '10:97367395', expecting 'a/g' found 'a/c'\n",
      "## WARNING: Allele names don't match previous occurences at 381 additional markers\n",
      "## Processed 2228874 markers ...\n",
      "\n",
      "## Set marker header to POS ...\n",
      "## Set allele headers to A1 and A2 ...\n",
      "## Set effect header to BETA ...\n",
      "## Set standard error header to SE ...\n",
      "## Set p-value header to P ...\n",
      "###########################################################################\n",
      "## Processing file 'dataset/PPMI/GWAS/lnmxi/logASYN_control/filt.tab'\n",
      "## WARNING: Bad alleles for marker '10:102592150', expecting 'a/g' found 'a/t'\n",
      "## WARNING: Bad alleles for marker '10:106821209', expecting 'c/g' found 'a/g'\n",
      "## WARNING: Bad alleles for marker '10:121494402', expecting 'c/g' found 'a/g'\n",
      "## WARNING: Bad alleles for marker '10:12222556', expecting 'a/c' found 'a/g'\n",
      "## WARNING: Bad alleles for marker '10:123337066', expecting 'a/t' found 'a/g'\n",
      "## WARNING: Bad alleles for marker '10:13250090', expecting 'a/t' found 'a/c'\n",
      "## WARNING: Bad alleles for marker '10:135061112', expecting 'c/g' found 'a/g'\n",
      "## WARNING: Bad alleles for marker '10:18714742', expecting 'a/g' found 'a/t'\n",
      "## WARNING: Bad alleles for marker '10:26518418', expecting 'a/c' found 'a/g'\n",
      "## WARNING: Bad alleles for marker '10:3164681', expecting 'a/c' found 'a/t'\n",
      "## WARNING: Bad alleles for marker '10:35299715', expecting 'c/g' found 'a/c'\n",
      "## WARNING: Bad alleles for marker '10:38038687', expecting 'a/c' found 'c/g'\n",
      "## WARNING: Bad alleles for marker '10:44232390', expecting 'a/g' found 'a/c'\n",
      "## WARNING: Bad alleles for marker '10:45958881', expecting 'a/c' found 'a/g'\n",
      "## WARNING: Bad alleles for marker '10:50122596', expecting 'a/c' found 'a/g'\n",
      "## WARNING: Bad alleles for marker '10:68012429', expecting 'c/g' found 'a/g'\n",
      "## WARNING: Bad alleles for marker '10:81016209', expecting 'a/g' found 'c/g'\n",
      "## WARNING: Bad alleles for marker '10:90692578', expecting 'a/g' found 'c/g'\n",
      "## WARNING: Bad alleles for marker '10:97123121', expecting 'a/g' found 'c/g'\n",
      "## WARNING: Bad alleles for marker '10:97367395', expecting 'a/g' found 'a/c'\n",
      "## WARNING: Allele names don't match previous occurences at 381 additional markers\n",
      "## Processed 2228872 markers ...\n",
      "\n",
      "## Set output file prefix and suffix to meta/lnmxi/logASYN/res and .tbl ...\n",
      "###########################################################################\n",
      "## Running second pass analysis to evaluate heterogeneity...\n",
      "## Processing file 'dataset/PPMI/GWAS/lnmxi/logASYN_control/filt.tab'\n",
      "## Processing file 'dataset/PPMI/GWAS/lnmxi/logASYN_case/filt.tab'\n",
      "\n",
      "###########################################################################\n",
      "## Executing meta-analysis ...\n",
      "## Complete results will be stored in file 'meta/lnmxi/logASYN/res1.tbl'\n",
      "## Column descriptions will be stored in file 'meta/lnmxi/logASYN/res1.tbl.info'\n",
      "## Completed meta-analysis for 2228874 markers!\n",
      "## Smallest p-value is 1.844e-07 at marker '4:87874574'\n",
      "\n",
      "## Clearing all stored statistics ...\n",
      "# Clearing user defined filters ...\n"
     ]
    },
    {
     "name": "stderr",
     "output_type": "stream",
     "text": [
      "[+] Loading metal  2017-12-21 \n"
     ]
    }
   ],
   "source": [
    "%%bash\n",
    "module load metal\n",
    "metal meta/lnmxi/logASYN/metal.txt"
   ]
  },
  {
   "cell_type": "code",
   "execution_count": 52,
   "metadata": {},
   "outputs": [
    {
     "name": "stdout",
     "output_type": "stream",
     "text": [
      "MarkerName\tAllele1\tAllele2\tEffect\tStdErr\tP-value\tDirection\tHetISq\tHetChiSq\tHetDf\tHetPVal\n",
      "4:87850830\ta\tc\t-0.2245\t0.0432\t2.095e-07\t--\t8.2\t1.089\t1\t0.2967\n",
      "4:87938820\tt\tc\t0.2255\t0.0446\t4.149e-07\t++\t7.7\t1.083\t1\t0.2979\n",
      "4:87821274\tt\tc\t0.2211\t0.0429\t2.619e-07\t++\t6.2\t1.066\t1\t0.3018\n",
      "4:87863394\tc\tg\t-0.2252\t0.0434\t2.129e-07\t--\t10.7\t1.120\t1\t0.29\n",
      "4:87804090\tc\tg\t-0.2209\t0.0430\t2.814e-07\t--\t8.0\t1.087\t1\t0.297\n",
      "4:87810531\tt\tc\t-0.2205\t0.0429\t2.803e-07\t--\t7.0\t1.076\t1\t0.2997\n",
      "4:87874574\ta\tc\t-0.2274\t0.0436\t1.844e-07\t--\t2.7\t1.028\t1\t0.3106\n",
      "4:87779724\tt\tc\t-0.2167\t0.0419\t2.322e-07\t--\t59.7\t2.482\t1\t0.1152\n",
      "4:87800067\tt\tc\t0.2215\t0.0431\t2.808e-07\t++\t9.2\t1.102\t1\t0.2939\n",
      "4:87863353\tt\tc\t-0.2252\t0.0434\t2.117e-07\t--\t10.5\t1.117\t1\t0.2905\n",
      "4:87822078\ta\tg\t-0.2212\t0.0429\t2.59e-07\t--\t6.2\t1.066\t1\t0.3018\n",
      "4:87817916\ta\tg\t0.2209\t0.0429\t2.662e-07\t++\t6.5\t1.069\t1\t0.3011\n",
      "4:87838529\ta\tg\t0.2237\t0.0431\t2.079e-07\t++\t6.6\t1.070\t1\t0.3009\n",
      "4:87816557\ta\tg\t-0.2209\t0.0429\t2.662e-07\t--\t6.3\t1.067\t1\t0.3016\n",
      "4:87929485\ta\tg\t-0.2251\t0.0439\t2.958e-07\t--\t0.0\t0.978\t1\t0.3227\n",
      "4:87801333\ta\tc\t0.2211\t0.0431\t2.825e-07\t++\t8.7\t1.095\t1\t0.2953\n",
      "4:87852523\ta\tg\t-0.1408\t0.0275\t3.118e-07\t--\t14.8\t1.173\t1\t0.2787\n",
      "4:87857150\ta\tt\t0.2249\t0.0433\t2.1e-07\t++\t9.4\t1.104\t1\t0.2934\n",
      "4:87855104\tt\tg\t0.2248\t0.0433\t2.12e-07\t++\t8.9\t1.097\t1\t0.2948\n",
      "4:87852108\tt\tg\t-0.1413\t0.0273\t2.294e-07\t--\t16.8\t1.202\t1\t0.2729\n",
      "4:87813229\ta\tg\t0.2207\t0.0429\t2.73e-07\t++\t6.6\t1.070\t1\t0.3009\n",
      "4:87802775\tt\tc\t-0.2209\t0.0430\t2.824e-07\t--\t8.2\t1.089\t1\t0.2967\n",
      "4:87928021\tt\tg\t0.2254\t0.0439\t2.873e-07\t++\t0.0\t0.978\t1\t0.3228\n",
      "4:87833815\ta\tg\t-0.2232\t0.0430\t2.106e-07\t--\t5.4\t1.057\t1\t0.3039\n",
      "4:87905696\tt\tg\t0.2292\t0.0440\t1.866e-07\t++\t8.4\t1.091\t1\t0.2962\n",
      "4:87842078\tt\tc\t0.2237\t0.0431\t2.117e-07\t++\t7.1\t1.077\t1\t0.2995\n",
      "4:87801072\tt\tc\t-0.2212\t0.0431\t2.851e-07\t--\t8.7\t1.095\t1\t0.2953\n",
      "4:87808768\tc\tg\t0.2204\t0.0429\t2.797e-07\t++\t6.9\t1.074\t1\t0.3\n",
      "4:87809025\tt\tc\t-0.2204\t0.0429\t2.807e-07\t--\t7.1\t1.076\t1\t0.2996\n",
      "4:87813432\ta\tt\t0.2206\t0.0429\t2.74e-07\t++\t6.4\t1.068\t1\t0.3014\n",
      "4:87826244\ta\tg\t-0.1372\t0.0268\t3.03e-07\t--\t0.0\t0.948\t1\t0.3303\n",
      "4:87829251\ta\tg\t-0.2240\t0.0430\t1.849e-07\t--\t7.2\t1.078\t1\t0.2992\n",
      "4:87827847\ta\tg\t-0.2215\t0.0430\t2.506e-07\t--\t5.0\t1.053\t1\t0.3048\n",
      "4:87832000\tc\tg\t-0.2230\t0.0430\t2.109e-07\t--\t5.1\t1.054\t1\t0.3046\n",
      "4:87836016\ta\tc\t0.2228\t0.0431\t2.278e-07\t++\t3.2\t1.033\t1\t0.3094\n",
      "4:87815215\ta\tg\t0.2208\t0.0429\t2.688e-07\t++\t6.5\t1.069\t1\t0.3011\n",
      "4:87831093\tc\tg\t0.2231\t0.0430\t2.058e-07\t++\t4.7\t1.049\t1\t0.3058\n",
      "4:87835745\ta\tg\t0.2234\t0.0430\t2.088e-07\t++\t5.6\t1.060\t1\t0.3033\n"
     ]
    }
   ],
   "source": [
    "%%bash\n",
    "head -n1 meta/lnmxi/logASYN/res1.tbl\n",
    "awk '$6<5e-7' meta/lnmxi/logASYN/res1.tbl"
   ]
  },
  {
   "cell_type": "code",
   "execution_count": 2,
   "metadata": {},
   "outputs": [
    {
     "name": "stdout",
     "output_type": "stream",
     "text": [
      "MarkerName\tAllele1\tAllele2\tEffect\tStdErr\tP-value\tDirection\tHetISq\tHetChiSq\tHetDf\tHetPVal\tALT_Frq\tRsq\tID\n",
      "10:100000625\ta\tg\t-0.0063\t0.0253\t0.8036\t-+\t81.1\t5.288\t1\t0.02147\t0.43103\t0.82564\trs7899632\n",
      "10:100000645\ta\tc\t-0.0426\t0.0307\t0.1656\t--\t0.0\t0.508\t1\t0.476\t0.19392\t0.97760\trs61875309\n",
      "10:100003242\tt\tg\t-0.0305\t0.0546\t0.5766\t-+\t0.0\t0.199\t1\t0.6555\t0.10543\t0.55051\trs12258651\n",
      "10:100003785\tt\tc\t0.0383\t0.0258\t0.1374\t+-\t65.5\t2.899\t1\t0.08862\t0.37275\t0.80871\trs1359508\n",
      "10:100004360\ta\tg\t0.0426\t0.0308\t0.1667\t++\t0.0\t0.504\t1\t0.4777\t0.19402\t0.97554\trs1048754\n",
      "10:100004441\tc\tg\t0.0373\t0.0258\t0.1482\t+-\t67.5\t3.081\t1\t0.07921\t0.62538\t0.80952\trs1048757\n",
      "10:100004906\ta\tc\t0.0053\t0.0254\t0.8358\t+-\t80.5\t5.135\t1\t0.02344\t0.43014\t0.82614\trs3750595\n",
      "10:100004996\ta\tg\t-0.0383\t0.0258\t0.1373\t-+\t65.5\t2.898\t1\t0.08869\t0.37271\t0.80874\trs2025625\n",
      "10:100005282\tt\tc\t0.0063\t0.0253\t0.8019\t+-\t81.0\t5.266\t1\t0.02175\t0.43089\t0.82667\trs10786405\n"
     ]
    }
   ],
   "source": [
    "%%bash\n",
    "zless meta/lnmxi/logASYN/res1.tbl.gz | awk 'NR==1{print;next}NR>1{print|\"LANG=C sort\"}' |\\\n",
    " LANG=C join -t$'\\t' --header - ../dataset/PPMI/maf01rsq3_sorted.txt | cut -f1-11,14-15 |\\\n",
    " LANG=C join -t$'\\t' --header - ../tool/HRC_RS_conversion_sorted.txt | cut -f-14 > meta/lnmxi/logASYN/wID.txt\n",
    "head meta/lnmxi/logASYN/wID.txt"
   ]
  },
  {
   "cell_type": "code",
   "execution_count": 5,
   "metadata": {},
   "outputs": [
    {
     "name": "stdout",
     "output_type": "stream",
     "text": [
      "null device \n",
      "          1 \n",
      "null device \n",
      "          1 \n"
     ]
    },
    {
     "name": "stderr",
     "output_type": "stream",
     "text": [
      "Loading required package: qqman\n",
      "\n",
      "For example usage please run: vignette('qqman')\n",
      "\n",
      "Citation appreciated but not required:\n",
      "Turner, S.D. qqman: an R package for visualizing GWAS results using Q-Q and manhattan plots. biorXiv DOI: 10.1101/005165 (2014).\n",
      "\n",
      "Loading required package: data.table\n",
      "Loading required package: tidyr\n",
      "Loading required package: dplyr\n",
      "\n",
      "Attaching package: 'dplyr'\n",
      "\n",
      "The following objects are masked from 'package:data.table':\n",
      "\n",
      "    between, first, last\n",
      "\n",
      "The following objects are masked from 'package:stats':\n",
      "\n",
      "    filter, lag\n",
      "\n",
      "The following objects are masked from 'package:base':\n",
      "\n",
      "    intersect, setdiff, setequal, union\n",
      "\n"
     ]
    }
   ],
   "source": [
    "%%bash\n",
    "echo '\n",
    "args <- commandArgs(trailingOnly = TRUE)\n",
    "require(\"qqman\");require(\"data.table\");require(\"tidyr\");require(dplyr)\n",
    "FOLDER=args[1]\n",
    "MODEL=args[2]\n",
    "OUTCOME=args[3]\n",
    "MH = fread(cmd = paste(\"cut -f 1,6,14 \",FOLDER, \"/\", MODEL, \"/\", OUTCOME, \"/wID.txt\", sep=\"\")) %>%\n",
    "  separate(MarkerName, c(\"CHR\", \"BP\"), sep=\":\") %>% rename(P=`P-value`, SNP=ID) %>% \n",
    "  mutate_at(vars(\"CHR\", \"BP\", \"P\"), as.numeric)\n",
    "# lambda\n",
    "chisq <- qchisq(1-median(MH$P),1)\n",
    "lambda = median(chisq)/qchisq(0.5,1)\n",
    "# QQ plot\n",
    "png(paste(FOLDER, \"/\", MODEL, \"/\", OUTCOME, \"/QQ.png\", sep=\"\"))\n",
    "qq(MH$P, main = paste(OUTCOME, \"in\", MODEL))\n",
    "text(4, 1, sprintf(\"lambda = %.3f\", lambda))\n",
    "text(4, 2, paste(\"N of variants =\", nrow(MH)))\n",
    "dev.off()\n",
    "# MH plot if lambda is not too large.\n",
    "if(lambda < 1.1){\n",
    "    maxlogP=-log10(min(MH$P))\n",
    "    png(paste(FOLDER, \"/\", MODEL, \"/\", OUTCOME,\"/MH.png\", sep=\"\"), width=2000, height=1000, pointsize=18)\n",
    "    manhattan(MH, col = c(\"blue4\", \"orange3\"), main=paste(OUTCOME, \"in\", MODEL), cex.axis = 0.6, annotatePval = 0.00001, ylim=c(0, max(10, maxlogP)))\n",
    "    dev.off()\n",
    "}' > t/QQMH.R\n",
    "Rscript --vanilla t/QQMH.R meta lnmxi logASYN "
   ]
  },
  {
   "cell_type": "markdown",
   "metadata": {},
   "source": [
    "QQ for Meta results (Case & Controls)\n",
    "![QQplot](meta/lnmxi/logASYN/QQ.png)"
   ]
  },
  {
   "cell_type": "markdown",
   "metadata": {},
   "source": [
    "MH for Case & Controls\n",
    "![QQplot](meta/lnmxi/logASYN/MH.png)"
   ]
  }
 ],
 "metadata": {
  "kernelspec": {
   "display_name": "Python 3",
   "language": "python",
   "name": "python3"
  },
  "language_info": {
   "codemirror_mode": {
    "name": "ipython",
    "version": 3
   },
   "file_extension": ".py",
   "mimetype": "text/x-python",
   "name": "python",
   "nbconvert_exporter": "python",
   "pygments_lexer": "ipython3",
   "version": "3.5.6"
  }
 },
 "nbformat": 4,
 "nbformat_minor": 2
}
