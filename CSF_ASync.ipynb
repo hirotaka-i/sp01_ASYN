{
 "cells": [
  {
   "cell_type": "markdown",
   "metadata": {},
   "source": [
    "# CSF ANALYSIS FOR PPMI data\n",
    "\n",
    "\n",
    "Created: 2018-08-07    \n",
    "By: Hirotaka Iwaki\n",
    "\n",
    "Required data for this analysis:    \n",
    "\"Current_Biospecimen_Analysis_Results.csv\" from PPMI-LONI    \n",
    "event_ID_ref_data and demographic_data derived from PPMI datasets ([codes](https://github.com/hirotaka-i/PDcohorts/blob/master/PPMI/codes))   \n",
    "Genotypings data from LNG: Imputed and filtered (MAF >0.001, Rsq >0.3, and cut per 20K SNPs per file.)\n",
    "\n",
    "\n",
    "\n",
    "## Objective/Model\n",
    "GWAS analysis for CSF $\\alpha$-synuclein concentrations.    \n",
    "A linear model adjusting for sex, age, and CSF hemoglobin >200 with random intercept for individuals.     \n",
    "After diagnosis, the CSF $\\alpha$-synuclein concentrations don't change much. -> no need to think about the effect on slope. \n",
    "\n",
    "## CSF file\n",
    "Extract $\\alpha$-synuclein concentrations and CSF hemoglobin levels from \"Current_Biospecimen_Analysis_Results.csv\" and give the visiting date from event_ID_ref_data."
   ]
  },
  {
   "cell_type": "code",
   "execution_count": 177,
   "metadata": {},
   "outputs": [],
   "source": [
    "%%bash\n",
    "mkdir -p temp\n",
    "awk 'BEGIN{FS=\",\";OFS=\"\\t\"}/CSF Alpha-synuclein/{print $1\"_\"$4,$7}' data/Current_Biospecimen_Analysis_Results.csv | \\\n",
    "    sed 's/\"//g' | sort > temp/asyn.txt\n",
    "awk 'BEGIN{FS=\",\";OFS=\"\\t\"}/CSF Hemoglobin/{print $1\"_\"$4,$7}' data/Current_Biospecimen_Analysis_Results.csv | \\\n",
    "    sed 's/\"//g' | sort > temp/hemo.txt\n",
    "awk 'BEGIN{FS=\",\";OFS=\"\\t\"}//{print $1\"_\"$2,$3}' data/01_extract_EVENTDATE.csv | \\\n",
    "    sed 's/\"//g' | sort > temp/event_date.txt\n",
    "join temp/asyn.txt temp/hemo.txt | join - temp/event_date.txt | sed 's/_/ /g' > temp/asyn_hemo.txt "
   ]
  },
  {
   "cell_type": "markdown",
   "metadata": {},
   "source": [
    "## Merge the above  file with Demographic file"
   ]
  },
  {
   "cell_type": "code",
   "execution_count": 173,
   "metadata": {},
   "outputs": [],
   "source": [
    "%%bash\n",
    "echo '\n",
    "library(dplyr)\n",
    "library(data.table)\n",
    "t1 = fread(\"data/02_LatestDiagDemog.csv\", header=T)\n",
    "t2 = fread(\"temp/asyn_hemo.txt\", header=F, , na.strings=\"N/A\") %>% \n",
    "    mutate(V1 = as.character(V1)) %>% #  V1(ID) regarded as int\n",
    "    filter(!is.na(V2) & !is.na(V3)) # delete \"N/A\" value observation in ANSN and HEMO\n",
    "names(t2)=c(\"ID\", \"EVENT_ID\",\"ASYN\", \"HEMO\", \"DATE\")\n",
    "d1 = left_join(t2, t1, by = \"ID\")\n",
    "d1 %>% mutate(HEMO_num = as.numeric(HEMO)) %>% filter(is.na(HEMO_num)) %>% with(table(HEMO, useNA=\"always\"))\n",
    "##############################\n",
    "# The output of above line ###########\n",
    "# HEMO\n",
    "#   >20 above below  <NA>\n",
    "#    28   314  1918     0\n",
    "# Warning message:\n",
    "# In evalq(as.numeric(HEMO), <environment>) : NAs introduced by coercion ((<- Warning pup out but OK))\n",
    "# ((Although, I suspect \">20\" is actually \"<20\", I will eliminate \">20\" obs in the following))\n",
    "###############################\n",
    "d2 = d1 %>% mutate(HEMO200 = case_when(\n",
    "    HEMO==\">20\"~99, # for elimination\n",
    "    HEMO==\"below\"~ 0,\n",
    "    HEMO==\"above\"~ 1,\n",
    "    TRUE~ if_else(as.numeric(HEMO)>200, 1, 0))) %>%\n",
    "    mutate(logASYN = log(ASYN),\n",
    "           AGE = (as.numeric(as.Date(DATE)) - BIRTHDT)/365.25) %>% \n",
    "    filter(HEMO200!=99) %>% # eliminate HEMO>20 obs\n",
    "    select(ID, AGE, FEMALE, DIAG, ASYN, logASYN, HEMO, HEMO200)\n",
    "write.table(d2, \"temp/pheno.txt\", row.names = F, quote = F, sep = \"\\t\")\n",
    "print(\"complete\")\n",
    "' > _pheno.R"
   ]
  },
  {
   "cell_type": "code",
   "execution_count": 174,
   "metadata": {},
   "outputs": [
    {
     "name": "stdout",
     "output_type": "stream",
     "text": [
      "HEMO\n",
      "  >20 above below  <NA> \n",
      "   28   314  1917     0 \n",
      "[1] \"complete\"\n"
     ]
    },
    {
     "name": "stderr",
     "output_type": "stream",
     "text": [
      "[+] Loading gcc  7.2.0  ... \n",
      "[+] Loading GSL 2.4 for GCC 7.2.0 ... \n",
      "[+] Loading openmpi 3.0.0  for GCC 7.2.0 \n",
      "[+] Loading R 3.5.0_build2 \n",
      "\n",
      "Attaching package: ‘dplyr’\n",
      "\n",
      "The following objects are masked from ‘package:stats’:\n",
      "\n",
      "    filter, lag\n",
      "\n",
      "The following objects are masked from ‘package:base’:\n",
      "\n",
      "    intersect, setdiff, setequal, union\n",
      "\n",
      "\n",
      "Attaching package: ‘data.table’\n",
      "\n",
      "The following objects are masked from ‘package:dplyr’:\n",
      "\n",
      "    between, first, last\n",
      "\n",
      "Warning message:\n",
      "In evalq(as.numeric(HEMO), <environment>) : NAs introduced by coercion\n",
      "Warning message:\n",
      "In if_else(as.numeric(HEMO) > 200, 1, 0) : NAs introduced by coercion\n"
     ]
    }
   ],
   "source": [
    "%%bash\n",
    "module load R\n",
    "Rscript --vanilla _pheno.R"
   ]
  },
  {
   "cell_type": "code",
   "execution_count": 178,
   "metadata": {},
   "outputs": [
    {
     "name": "stdout",
     "output_type": "stream",
     "text": [
      "ID\tAGE\tFEMALE\tDIAG\tASYN\tlogASYN\tHEMO\tHEMO200\n",
      "10874\t73.2511978097194\t1\tIn__PRD_YsImg_HYP\t1778.3\t7.48341313074962\t148.0\t0\n",
      "10874\t73.7467488021903\t1\tIn__PRD_YsImg_HYP\t2459.3\t7.80763203558804\tbelow\t0\n",
      "10874\t74.1656399726215\t1\tIn__PRD_YsImg_HYP\t1729.8\t7.45576107387241\tbelow\t0\n",
      "12224\t66.3353867214237\t1\tIn__PRD_YsImg_HYP\t1029.7\t6.93702277666271\tbelow\t0\n",
      "12224\t66.9158110882957\t1\tIn__PRD_YsImg_HYP\t891.2\t6.79256886917302\tbelow\t0\n",
      "12224\t67.419575633128\t1\tIn__PRD_YsImg_HYP\t918.9\t6.82317730250684\tbelow\t0\n",
      "12224\t68.3340177960301\t1\tIn__PRD_YsImg_HYP\t722.8\t6.58313255871807\tbelow\t0\n",
      "12593\t66.6721423682409\t1\tIn__PRD_YsImg_HYP\t1169.1\t7.06398950101277\tbelow\t0\n",
      "13039\t67.419575633128\t0\tIn__PRD_YsImg_HYP\t437.4\t6.08084810824267\tbelow\t0\n"
     ]
    }
   ],
   "source": [
    "%%bash\n",
    "head temp/pheno.txt"
   ]
  },
  {
   "cell_type": "code",
   "execution_count": null,
   "metadata": {},
   "outputs": [],
   "source": []
  },
  {
   "cell_type": "code",
   "execution_count": null,
   "metadata": {},
   "outputs": [],
   "source": []
  },
  {
   "cell_type": "code",
   "execution_count": null,
   "metadata": {},
   "outputs": [],
   "source": []
  },
  {
   "cell_type": "code",
   "execution_count": null,
   "metadata": {},
   "outputs": [],
   "source": []
  },
  {
   "cell_type": "code",
   "execution_count": null,
   "metadata": {},
   "outputs": [],
   "source": []
  },
  {
   "cell_type": "code",
   "execution_count": 179,
   "metadata": {},
   "outputs": [
    {
     "data": {
      "text/plain": [
       "<matplotlib.axes._subplots.AxesSubplot at 0x2aaaf84b1b00>"
      ]
     },
     "execution_count": 179,
     "metadata": {},
     "output_type": "execute_result"
    },
    {
     "data": {
      "image/png": "[encoded data removed]",
      "text/plain": [
       "<Figure size 432x288 with 1 Axes>"
      ]
     },
     "metadata": {},
     "output_type": "display_data"
    }
   ],
   "source": [
    "import numpy as np \n",
    "import pandas as pd\n",
    "import matplotlib.pyplot as plt\n",
    "import seaborn as sns\n",
    "%matplotlib inline\n",
    "t1 = pd.read_table(\"temp/asyn_hemo.txt\", sep=\" \", names=(\"ID\", \"EVENT_ID\", \"ASYN\",\"HEMO\", \"DATE\"))\n",
    "t1.ASYN.hist()"
   ]
  },
  {
   "cell_type": "code",
   "execution_count": 180,
   "metadata": {},
   "outputs": [
    {
     "data": {
      "text/plain": [
       "ID            int64\n",
       "EVENT_ID     object\n",
       "ASYN        float64\n",
       "HEMO         object\n",
       "DATE         object\n",
       "dtype: object"
      ]
     },
     "execution_count": 180,
     "metadata": {},
     "output_type": "execute_result"
    }
   ],
   "source": [
    "t1.dtypes"
   ]
  },
  {
   "cell_type": "code",
   "execution_count": 181,
   "metadata": {},
   "outputs": [
    {
     "name": "stdout",
     "output_type": "stream",
     "text": [
      "OK\n"
     ]
    }
   ],
   "source": [
    "def cut_hemo200(x):\n",
    "    if x == \"above\":\n",
    "        return 1\n",
    "    elif x == \"below\":\n",
    "        return 0\n",
    "    elif x == \">20\":\n",
    "        return 99\n",
    "    else:\n",
    "        try:\n",
    "            float(x)\n",
    "            return 1\n",
    "        except ValueError:\n",
    "            return 999\n",
    "t1['HEMO200'] = t1['HEMO'].apply(cut_hemo200)\n",
    "if len(t1[t1['HEMO200']>998]) == 0:\n",
    "    print(\"OK\")"
   ]
  },
  {
   "cell_type": "code",
   "execution_count": 183,
   "metadata": {},
   "outputs": [
    {
     "data": {
      "text/html": [
       "<div>\n",
       "<style scoped>\n",
       "    .dataframe tbody tr th:only-of-type {\n",
       "        vertical-align: middle;\n",
       "    }\n",
       "\n",
       "    .dataframe tbody tr th {\n",
       "        vertical-align: top;\n",
       "    }\n",
       "\n",
       "    .dataframe thead th {\n",
       "        text-align: right;\n",
       "    }\n",
       "</style>\n",
       "<table border=\"1\" class=\"dataframe\">\n",
       "  <thead>\n",
       "    <tr style=\"text-align: right;\">\n",
       "      <th></th>\n",
       "      <th>ID</th>\n",
       "      <th>EVENT_ID</th>\n",
       "      <th>ASYN</th>\n",
       "      <th>HEMO</th>\n",
       "      <th>DATE</th>\n",
       "      <th>HEMO200</th>\n",
       "      <th>ASYN_num</th>\n",
       "      <th>HEMO_num</th>\n",
       "    </tr>\n",
       "  </thead>\n",
       "  <tbody>\n",
       "    <tr>\n",
       "      <th>0</th>\n",
       "      <td>10874</td>\n",
       "      <td>BL</td>\n",
       "      <td>1778.3</td>\n",
       "      <td>148.0</td>\n",
       "      <td>2014-09-01</td>\n",
       "      <td>1</td>\n",
       "      <td>1778.3</td>\n",
       "      <td>148.0</td>\n",
       "    </tr>\n",
       "    <tr>\n",
       "      <th>1</th>\n",
       "      <td>10874</td>\n",
       "      <td>V02</td>\n",
       "      <td>2459.3</td>\n",
       "      <td>below</td>\n",
       "      <td>2015-03-01</td>\n",
       "      <td>0</td>\n",
       "      <td>2459.3</td>\n",
       "      <td>NaN</td>\n",
       "    </tr>\n",
       "    <tr>\n",
       "      <th>2</th>\n",
       "      <td>10874</td>\n",
       "      <td>V04</td>\n",
       "      <td>1729.8</td>\n",
       "      <td>below</td>\n",
       "      <td>2015-08-01</td>\n",
       "      <td>0</td>\n",
       "      <td>1729.8</td>\n",
       "      <td>NaN</td>\n",
       "    </tr>\n",
       "    <tr>\n",
       "      <th>3</th>\n",
       "      <td>12224</td>\n",
       "      <td>BL</td>\n",
       "      <td>1029.7</td>\n",
       "      <td>below</td>\n",
       "      <td>2013-10-01</td>\n",
       "      <td>0</td>\n",
       "      <td>1029.7</td>\n",
       "      <td>NaN</td>\n",
       "    </tr>\n",
       "    <tr>\n",
       "      <th>4</th>\n",
       "      <td>12224</td>\n",
       "      <td>V02</td>\n",
       "      <td>891.2</td>\n",
       "      <td>below</td>\n",
       "      <td>2014-05-01</td>\n",
       "      <td>0</td>\n",
       "      <td>891.2</td>\n",
       "      <td>NaN</td>\n",
       "    </tr>\n",
       "  </tbody>\n",
       "</table>\n",
       "</div>"
      ],
      "text/plain": [
       "      ID EVENT_ID    ASYN   HEMO        DATE  HEMO200  ASYN_num  HEMO_num\n",
       "0  10874       BL  1778.3  148.0  2014-09-01        1    1778.3     148.0\n",
       "1  10874      V02  2459.3  below  2015-03-01        0    2459.3       NaN\n",
       "2  10874      V04  1729.8  below  2015-08-01        0    1729.8       NaN\n",
       "3  12224       BL  1029.7  below  2013-10-01        0    1029.7       NaN\n",
       "4  12224      V02   891.2  below  2014-05-01        0     891.2       NaN"
      ]
     },
     "execution_count": 183,
     "metadata": {},
     "output_type": "execute_result"
    }
   ],
   "source": [
    "t1['ASYN_num'] = pd.to_numeric(t1['ASYN'], errors=\"coerce\")\n",
    "t1['HEMO_num'] = pd.to_numeric(t1['HEMO'], errors=\"coerce\")\n",
    "t1.head()"
   ]
  },
  {
   "cell_type": "code",
   "execution_count": null,
   "metadata": {},
   "outputs": [],
   "source": []
  },
  {
   "cell_type": "code",
   "execution_count": null,
   "metadata": {},
   "outputs": [],
   "source": []
  }
 ],
 "metadata": {
  "kernelspec": {
   "display_name": "Python 3",
   "language": "python",
   "name": "python3"
  },
  "language_info": {
   "codemirror_mode": {
    "name": "ipython",
    "version": 3
   },
   "file_extension": ".py",
   "mimetype": "text/x-python",
   "name": "python",
   "nbconvert_exporter": "python",
   "pygments_lexer": "ipython3",
   "version": "3.5.5"
  }
 },
 "nbformat": 4,
 "nbformat_minor": 2
}
