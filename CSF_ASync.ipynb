{
 "cells": [
  {
   "cell_type": "markdown",
   "metadata": {},
   "source": [
    "# CSF ANALYSIS FOR PPMI data\n",
    "\n",
    "\n",
    "Created: 2018-08-07    \n",
    "By: Hirotaka Iwaki\n",
    "\n",
    "Required data for this analysis:    \n",
    "* \"Current_Biospecimen_Analysis_Results.csv\" from PPMI-LONI    \n",
    "* \"01_extract_EVENTDATE.csv\" derived from PPMI dataset    \n",
    "* \"02_LatestDiagDemog.csv\" derived from PPMI dataset: ([codes](https://github.com/hirotaka-i/PDcohorts/blob/master/PPMI/codes))   \n",
    "* Genotypings data from LNG: Imputed and filtered (MAF >0.001, Rsq >0.3, and cut per 20K SNPs per file.)\n",
    "* \"PPMI.pca.eigenvec\": PCs derived from genotyping data\n",
    "\n",
    "\n",
    "## Objective/Model\n",
    "GWAS analysis for CSF $\\alpha$-synuclein concentrations.    \n",
    "A linear model adjusting for sex, age, CSF hemoglobin >200, and PC1-2 with random intercept for individuals.     \n",
    "After diagnosis, the CSF $\\alpha$-synuclein concentrations don't change much. -> no need to think about the effect on slope.    \n",
    "Patients and healthy controls are analyzed separately and meta-analized if appropriate.\n",
    "\n",
    "## Data preparation\n",
    "### CSF file\n",
    "Extract $\\alpha$-synuclein concentrations and CSF hemoglobin levels from \"Current_Biospecimen_Analysis_Results.csv\" and give the visiting date from \"01_extract_EVENTDATE.csv\"."
   ]
  },
  {
   "cell_type": "code",
   "execution_count": 156,
   "metadata": {},
   "outputs": [],
   "source": [
    "%%bash\n",
    "mkdir -p temp\n",
    "awk 'BEGIN{FS=\",\";OFS=\"\\t\"}/CSF Alpha-synuclein/{print $1\"_\"$4,$7}' \\\n",
    "    data/Current_Biospecimen_Analysis_Results.csv | \\\n",
    "    sed 's/\"//g' | sort > temp/asyn.txt\n",
    "awk 'BEGIN{FS=\",\";OFS=\"\\t\"}/CSF Hemoglobin/{print $1\"_\"$4,$7}' \\\n",
    "    data/Current_Biospecimen_Analysis_Results.csv | \\\n",
    "    sed 's/\"//g' | sort > temp/hemo.txt\n",
    "awk 'BEGIN{FS=\",\";OFS=\"\\t\"}//{print $1\"_\"$2,$3}' data/01_extract_EVENTDATE.csv | \\\n",
    "    sed 's/\"//g' | sort > temp/event_date.txt\n",
    "join temp/asyn.txt temp/hemo.txt | join - temp/event_date.txt | sed 's/_/ /g' > \\\n",
    "    temp/asyn_hemo.txt # space separated"
   ]
  },
  {
   "cell_type": "markdown",
   "metadata": {},
   "source": [
    "### Merge the above with Demographic file\n",
    "merge with \"02_LatestDiagDemog.csv"
   ]
  },
  {
   "cell_type": "code",
   "execution_count": 109,
   "metadata": {},
   "outputs": [],
   "source": [
    "%%bash\n",
    "echo '\n",
    "library(dplyr)\n",
    "library(data.table)\n",
    "t1 = fread(\"data/02_LatestDiagDemog.csv\", header=T)\n",
    "t2 = fread(\"temp/asyn_hemo.txt\", header=F, , na.strings=\"N/A\") %>% \n",
    "    mutate(V1 = as.character(V1)) %>% #  V1(ID) regarded as int\n",
    "    filter(!is.na(V2) & !is.na(V3)) # delete \"N/A\" value observation in ANSN and HEMO\n",
    "names(t2)=c(\"ID\", \"EVENT_ID\",\"ASYN\", \"HEMO\", \"DATE\")\n",
    "d1 = left_join(t2, t1, by = \"ID\")\n",
    "d1 %>% mutate(HEMO_num = as.numeric(HEMO)) %>% filter(is.na(HEMO_num)) %>%\n",
    "    with(table(HEMO, useNA=\"always\"))\n",
    "##############################\n",
    "# The output of above line ###########\n",
    "# HEMO\n",
    "#   >20 above below  <NA>\n",
    "#    28   314  1918     0\n",
    "# Warning message:\n",
    "# In evalq(as.numeric(HEMO), <environment>) : NAs introduced by coercion ((<- Warning but OK))\n",
    "# ((Although, I suspect \">20\" is actually \"<20\", I will eliminate \">20\" obs in the following))\n",
    "###############################\n",
    "d2 = d1 %>% mutate(HEMO200 = case_when(\n",
    "    HEMO==\">20\"~99, # for elimination\n",
    "    HEMO==\"below\"~ 0,\n",
    "    HEMO==\"above\"~ 1,\n",
    "    TRUE~ if_else(as.numeric(HEMO)>200, 1, 0))) %>%\n",
    "    mutate(logASYN = log(ASYN),\n",
    "           AGE = (as.numeric(as.Date(DATE)) - BIRTHDT)/365.25) %>% \n",
    "    filter(HEMO200!=99) %>% # eliminate HEMO = \">20\" obs\n",
    "    mutate(CASE = case_when(\n",
    "      grepl(\"PD_YsImg_PPMI\", DIAG) ~ 1, \n",
    "      grepl(\"CTR_YsImg_PPMI\", DIAG) ~ 0,\n",
    "      TRUE ~ 99\n",
    "    )) %>%\n",
    "    mutate (IID = paste(ID,ID,sep=\"_\")) # for later step to merge with Genotyping data\n",
    "d2 %>% with(table(CASE), useNA=\"always\")\n",
    "d3 = d2 %>% filter(CASE!=99) %>% # num_of_obs 3200 -> 2600\n",
    "    select(IID,ASYN,CASE, FEMALE,AGE,HEMO200) %>%\n",
    "    arrange(IID)\n",
    "write.table(d3, \"temp/pheno.txt\", row.names = F, quote = F, sep = \"\\t\")\n",
    "print(\"complete\")\n",
    "' > _pheno.R"
   ]
  },
  {
   "cell_type": "code",
   "execution_count": 110,
   "metadata": {
    "collapsed": true
   },
   "outputs": [
    {
     "name": "stdout",
     "output_type": "stream",
     "text": [
      "HEMO\n",
      "  >20 above below  <NA> \n",
      "   28   314  1917     0 \n",
      "CASE\n",
      "   0    1   99 \n",
      " 797 1747  663 \n",
      "[1] \"complete\"\n"
     ]
    },
    {
     "name": "stderr",
     "output_type": "stream",
     "text": [
      "[+] Loading gcc  7.2.0  ... \n",
      "[+] Loading GSL 2.4 for GCC 7.2.0 ... \n",
      "[+] Loading openmpi 3.0.0  for GCC 7.2.0 \n",
      "[+] Loading R 3.5.0_build2 \n",
      "\n",
      "Attaching package: ‘dplyr’\n",
      "\n",
      "The following objects are masked from ‘package:stats’:\n",
      "\n",
      "    filter, lag\n",
      "\n",
      "The following objects are masked from ‘package:base’:\n",
      "\n",
      "    intersect, setdiff, setequal, union\n",
      "\n",
      "\n",
      "Attaching package: ‘data.table’\n",
      "\n",
      "The following objects are masked from ‘package:dplyr’:\n",
      "\n",
      "    between, first, last\n",
      "\n",
      "Warning message:\n",
      "In evalq(as.numeric(HEMO), <environment>) : NAs introduced by coercion\n",
      "Warning message:\n",
      "In if_else(as.numeric(HEMO) > 200, 1, 0) : NAs introduced by coercion\n"
     ]
    }
   ],
   "source": [
    "%%bash\n",
    "module load R\n",
    "Rscript --vanilla _pheno.R"
   ]
  },
  {
   "cell_type": "markdown",
   "metadata": {},
   "source": [
    "### Mege with the PCs file\n",
    "merge with \"PPMI.pca.eigenvec\""
   ]
  },
  {
   "cell_type": "code",
   "execution_count": 111,
   "metadata": {
    "scrolled": true
   },
   "outputs": [],
   "source": [
    "%%bash\n",
    "sort temp/pheno.txt > temp/pheno_sort.txt\n",
    "cut -f 2- data/PPMI.pca.eigenvec | sort | join -t$'\\t' temp/pheno_sort.txt -  > temp/pheno_PC5_temp.txt\n",
    "grep 'IID' temp/pheno_PC5_temp.txt > temp/pheno_PC5_colnames.txt\n",
    "grep -v 'IID' temp/pheno_PC5_temp.txt | cat temp/pheno_PC5_colnames.txt - > temp/pheno_PC5.txt"
   ]
  },
  {
   "cell_type": "markdown",
   "metadata": {},
   "source": [
    "## GLMM analysis\n",
    "\n",
    "### R code for analysis"
   ]
  },
  {
   "cell_type": "code",
   "execution_count": 17,
   "metadata": {},
   "outputs": [],
   "source": [
    "%%bash\n",
    "echo '\n",
    "args <- commandArgs(trailingOnly = TRUE)\n",
    "OUTCOME = args[1]\n",
    "DATASET = args[2]\n",
    "chrNUM =  args[3]\n",
    "ITER =  args[4]\n",
    "FOLDER = args[5]\n",
    "CASECODE = as.numeric(args[6])\n",
    "\n",
    "library(data.table);library(dplyr);library(lme4)\n",
    "# Read pheno.txt and set COV (PC1 and PC2)\n",
    "cohort=fread(\"temp/pheno_PC5.txt\") %>% filter(CASE==CASECODE) # Only limiting to CASE/CONTROL\n",
    "COVs = names(cohort)[c(-(1:3),-9, -10, -11)] # eliminate ID, OUTCOME, CASE, PC3-5 from covariates\n",
    "# Read genotyping data\n",
    "SNPset = fread(paste(\"zcat -f \", FOLDER, \"/\", DATASET, \"/\", chrNUM, \".\", ITER, \".trans.txt.gz\", sep=\"\"))\n",
    "SNPs = names(SNPset)[-(1:2)] # 1 ID, 2 DOSE, SNP name starts from 3\n",
    "## Merge\n",
    "cohort_snp = left_join(cohort, SNPset, by = c(\"IID\"=\"ID\"))\n",
    "write.csv(cohort_snp[,1:20], \"temp/_temp.csv\")\n",
    "# Set function for analysis\n",
    "glmm.listfunc = function(x){\n",
    "  # Models\n",
    "  MODEL = paste(OUTCOME, \"~\", \"`\", SNPs[x], \"`+\", paste(COVs, collapse=\"+\"), \"+(1|IID)\", sep = \"\")\n",
    "  testLmer = try(lmer(eval(parse(text = MODEL)), data = cohort_snp),silent = T)\n",
    "  if(class(testLmer)[1]==\"try-error\"){\n",
    "    sumstat=rep(\"DROP\",6)\n",
    "  }else{\n",
    "    temp = summary(testLmer)\n",
    "    temp1 = temp$coefficients\n",
    "    if(grep(SNPs[x], rownames(temp1)) %>% length == 0){ # In this case, SNP is dropeed from the model\n",
    "      sumstat=rep(NA,6)\n",
    "    }else{\n",
    "      RES = temp1[2,] # The first row is intercept\n",
    "      PV_APPROX = 2 * pnorm(abs(RES[3]), lower.tail=F) # df is enough large for approximation\n",
    "      OBS_N = paste(length(temp$residuals), \"_\", temp$ngrps, sep=\"\")\n",
    "      sumstat <- c(SNPs[x], OBS_N, RES[3], RES[1], RES[2], PV_APPROX)\n",
    "    }\n",
    "  }\n",
    "  return(sumstat)\n",
    "}\n",
    "temp = lapply(1:length(SNPs), glmm.listfunc)\n",
    "temp2 = do.call(rbind, temp)\n",
    "attributes(temp2)$dimnames[[2]]=c(\"SNP\", \"OBS_N\", \"Tvalue\", \"Beta\", \"SE\", \"Pv_approx\")\n",
    "head(temp2)\n",
    "NEWDIR = paste(\"/data/LNG/Hirotaka/ASYN/\", OUTCOME, \"/\", chrNUM, sep = \"\")\n",
    "dir.create(NEWDIR, recursive = T, showWarnings = F)\n",
    "write.table(temp2, paste(NEWDIR, \"/\", DATASET, CASECODE, \".\", ITER, \".txt\", sep=\"\"), row.names = F, quote = F, sep = \"\\t\")\n",
    "print(\"complete\")\n",
    "' > _analysis.R"
   ]
  },
  {
   "cell_type": "markdown",
   "metadata": {},
   "source": [
    "testrun"
   ]
  },
  {
   "cell_type": "code",
   "execution_count": 19,
   "metadata": {
    "collapsed": true
   },
   "outputs": [
    {
     "name": "stdout",
     "output_type": "stream",
     "text": [
      "     SNP                OBS_N     Tvalue              Beta               \n",
      "[1,] NA                 NA        NA                  NA                 \n",
      "[2,] \"12:133435793_C_T\" \"683_153\" \"-0.87889039310543\" \"-11836.9796570572\"\n",
      "[3,] \"12:133435861_C_T\" \"683_153\" \"0.87369147243059\"  \"174.543519924414\" \n",
      "[4,] \"12:133436127_A_G\" \"683_153\" \"0.438184205087732\" \"196.729060599162\" \n",
      "[5,] \"12:133436499_C_T\" \"683_153\" \"0.927267980960821\" \"117.961539461423\" \n",
      "[6,] \"12:133437240_G_A\" \"683_153\" \"-1.17029526384807\" \"-111.174263829502\"\n",
      "     SE                 Pv_approx          \n",
      "[1,] NA                 NA                 \n",
      "[2,] \"13468.0953960971\" \"0.379460708062466\"\n",
      "[3,] \"199.777067113678\" \"0.382286296185386\"\n",
      "[4,] \"448.964290165989\" \"0.661252757451634\"\n",
      "[5,] \"127.214076063743\" \"0.353787414422649\"\n",
      "[6,] \"94.9967647172634\" \"0.241882167195654\"\n",
      "[1] \"complete\"\n"
     ]
    },
    {
     "name": "stderr",
     "output_type": "stream",
     "text": [
      "[+] Loading gcc  7.2.0  ... \n",
      "[+] Loading GSL 2.4 for GCC 7.2.0 ... \n",
      "[+] Loading openmpi 3.0.0  for GCC 7.2.0 \n",
      "[+] Loading R 3.5.0_build2 \n",
      "\n",
      "Attaching package: ‘dplyr’\n",
      "\n",
      "The following objects are masked from ‘package:data.table’:\n",
      "\n",
      "    between, first, last\n",
      "\n",
      "The following objects are masked from ‘package:stats’:\n",
      "\n",
      "    filter, lag\n",
      "\n",
      "The following objects are masked from ‘package:base’:\n",
      "\n",
      "    intersect, setdiff, setequal, union\n",
      "\n",
      "Loading required package: Matrix\n",
      "fixed-effect model matrix is rank deficient so dropping 1 column / coefficient\n",
      "There were 47 warnings (use warnings() to see them)\n"
     ]
    }
   ],
   "source": [
    "%%bash\n",
    "module load R\n",
    "Rscript --vanilla _analysis.R ASYN PPMI chr12 11  /data/LNG/Hirotaka/progGWAS/SNPfilter/maf001rsq3_20Kcut 0"
   ]
  },
  {
   "cell_type": "markdown",
   "metadata": {},
   "source": [
    "### Create .swarm file and submit\n",
    "\"swarm\" is an NIH-wrapper for job arrays    \n",
    "create .swirm files and then submit these jobs"
   ]
  },
  {
   "cell_type": "code",
   "execution_count": 150,
   "metadata": {},
   "outputs": [],
   "source": [
    "%%bash\n",
    "FOLDER=/data/LNG/Hirotaka/progGWAS/SNPfilter/maf001rsq3_20Kcut\n",
    "rm _analysis*.swarm \n",
    "for j in $(ls $FOLDER/PPMI);do\n",
    "    chrNUM=$(echo $j | cut -d '.' -f 1)\n",
    "    ITER=$(echo $j | cut -d '.' -f 2)\n",
    "    for CASECODE in 0 1;do\n",
    "        if [ $CASECODE == 1 ]; then\n",
    "            echo \"Rscript --vanilla _analysis.R ASYN PPMI $chrNUM $ITER  $FOLDER $CASECODE\" >> _analysisCASE.swarm\n",
    "        else\n",
    "            echo \"Rscript --vanilla _analysis.R ASYN PPMI $chrNUM $ITER  $FOLDER $CASECODE\" >> _analysisCTRL.swarm\n",
    "        fi\n",
    "    done;\n",
    "done;"
   ]
  },
  {
   "cell_type": "code",
   "execution_count": 153,
   "metadata": {
    "scrolled": true
   },
   "outputs": [
    {
     "name": "stdout",
     "output_type": "stream",
     "text": [
      "Loading modules R\n",
      "207 commands run in 13 subjobs, each command requiring 3 gb and 1 thread, packing 2 processes per subjob, running 8 processes serially per subjob\n",
      "sbatch --array=0-12 --job-name=swarm --output=/dev/null --error=/dev/null --cpus-per-task=2 --mem=6144 --partition=norm --time=24:00:00 /spin1/swarm/iwakih2/S21ST0WsVw/swarm.batch\n",
      "Loading modules R\n",
      "207 commands run in 13 subjobs, each command requiring 3 gb and 1 thread, packing 2 processes per subjob, running 8 processes serially per subjob\n",
      "sbatch --array=0-12 --job-name=swarm --output=/dev/null --error=/dev/null --cpus-per-task=2 --mem=6144 --partition=norm --time=24:00:00 /spin1/swarm/iwakih2/iDRkch3h5K/swarm.batch\n"
     ]
    }
   ],
   "source": [
    "%%bash\n",
    "rm -rf swarm_analysis\n",
    "swarm -f  _analysisCASE.swarm --time=3:00:00 -g 3 -p 2 -b 8 --logdir ./swarm_CASE --module R --devel\n",
    "swarm -f  _analysisCTRL.swarm --time=3:00:00 -g 3 -p 2 -b 8 --logdir ./swarm_CTRL --module R --devel"
   ]
  },
  {
   "cell_type": "code",
   "execution_count": null,
   "metadata": {},
   "outputs": [],
   "source": [
    "7052145\n",
    "7052146"
   ]
  },
  {
   "cell_type": "markdown",
   "metadata": {},
   "source": [
    "## results"
   ]
  },
  {
   "cell_type": "code",
   "execution_count": 1,
   "metadata": {},
   "outputs": [],
   "source": [
    "%%bash\n",
    "cd /data/LNG/Hirotaka/ASYN\n",
    "cat ASYN/*/PPMI1.*.txt > PPMI1_all\n",
    "cat ASYN/*/PPMI0.*.txt > PPMI0_all"
   ]
  },
  {
   "cell_type": "code",
   "execution_count": 2,
   "metadata": {},
   "outputs": [
    {
     "name": "stdout",
     "output_type": "stream",
     "text": [
      "14:24775579_C_T\t1528_346\t6.43940750360393\t2675.20657049448\t415.442968782027\t1.1994078161753e-10\n",
      "3:184056135_A_T\t1528_346\t6.0193584545871\t2923.62506512752\t485.703765141209\t1.75109704277719e-09\n",
      "3:184088924_C_T\t1528_346\t6.01829703853742\t2892.04402978057\t480.541922617265\t1.76261533418554e-09\n",
      "3:184053802_G_A\t1528_346\t5.98169816625273\t2870.84790205216\t479.938609782884\t2.2082318739328e-09\n",
      "19:40117084_C_T\t1528_346\t5.88870982971762\t468860.228296816\t79620.195569952\t3.89222144399269e-09\n",
      "7:141755875_C_T\t1528_346\t5.84702079706973\t5084.91950029283\t869.659896342624\t5.00454956982974e-09\n",
      "2:112123775_G_A\t1528_346\t5.67898459546205\t4305.03442407017\t758.064113699169\t1.35496680299476e-08\n",
      "3:48248913_G_A\t1528_346\t5.6389799476042\t3352.73421481869\t594.56395411428\t1.71060452922929e-08\n",
      "6:91905187_T_A\t1528_346\t5.60085971507794\t3083.06776498362\t550.46330774609\t2.13291301778489e-08\n",
      "11:67192933_A_G\t1528_346\t5.59205096261664\t2583.28850510452\t461.957253675626\t2.24402928021764e-08\n"
     ]
    }
   ],
   "source": [
    "%%bash\n",
    "cd /data/LNG/Hirotaka/ASYN\n",
    "awk '!/NA|SNP/{print $0 | \"sort -gk6\"}' PPMI1_all|  head"
   ]
  },
  {
   "cell_type": "code",
   "execution_count": 3,
   "metadata": {},
   "outputs": [],
   "source": [
    "%%bash\n",
    "cd /data/LNG/Hirotaka/ASYN\n",
    "awk '$6 < 5e-8 {print}' PPMI1_all > sign.txt"
   ]
  },
  {
   "cell_type": "markdown",
   "metadata": {},
   "source": [
    "Show the p-values of the hits in the controls."
   ]
  },
  {
   "cell_type": "code",
   "execution_count": 4,
   "metadata": {
    "collapsed": true
   },
   "outputs": [
    {
     "name": "stdout",
     "output_type": "stream",
     "text": [
      "11:5269465_A_T\t683_153\t-1.3729358962169\t-958.808204803497\t698.363417728007\t0.169772276010256\n",
      "11:5271582_A_T\t683_153\t-1.37402804241119\t-959.52705000072\t698.331489884961\t0.169432976795903\n",
      "11:5273060_G_C\t683_153\t-1.37571623520215\t-960.688537019365\t698.318819271765\t0.16890950354344\n",
      "11:5276380_G_C\t683_153\t-1.38138783642177\t-964.035688747926\t697.874748372679\t0.167159743822198\n",
      "11:5281315_T_G\t683_153\t-1.38278972083105\t-965.584730600615\t698.287466311436\t0.166729351726761\n",
      "11:5283903_G_C\t683_153\t-1.38319366857139\t-965.849723533847\t698.275119008759\t0.166605490580032\n",
      "11:5285993_C_T\t683_153\t-1.3799491956596\t-963.597004458245\t698.284406041237\t0.167602287860711\n",
      "11:5287551_T_C\t683_153\t-1.38052645388282\t-963.985749946139\t698.274015130143\t0.167424610357538\n",
      "11:61576265_C_T\t683_153\t-0.485387002173211\t-332.629809590751\t685.287838573088\t0.627401850640493\n",
      "11:61579702_T_C\t683_153\t-0.483575280436453\t-516.441038050904\t1067.96409771978\t0.628687321634472\n",
      "11:61583543_C_T\t683_153\t-0.48538367264413\t-332.969401068503\t685.992174509396\t0.627404212006011\n",
      "11:67192933_A_G\t683_153\t-0.829074275877962\t-415.363052536964\t500.996188908537\t0.407062378910492\n",
      "14:24775579_C_T\t683_153\t0.081428500026887\t55963.343519405\t687269.733581319\t0.93510118461874\n",
      "14:74075526_A_G\t683_153\t-0.367501341580406\t-7095.50356361976\t19307.4222072393\t0.713245091308888\n",
      "19:40117084_C_T\t683_153\t0.330093934816996\t55009.1830270019\t166647.057776142\t0.741328985944058\n",
      "2:111891751_G_C\t683_153\t0.126657603134878\t90.0853104977477\t711.25071269362\t0.899211403302511\n",
      "2:111959185_C_G\t683_153\t-0.666081220254375\t-349.729531180053\t525.055384456706\t0.505359187452801\n",
      "2:112123775_G_A\t683_153\t-0.678366951678582\t-316.676143789948\t466.821302255881\t0.497539057820015\n",
      "3:184053802_G_A\t683_153\t-0.53178451826112\t-3351.92974579544\t6303.17286549805\t0.594875246604598\n",
      "3:184056135_A_T\t683_153\t-0.533301174528597\t-3388.61692373413\t6354.03986636527\t0.59382511475773\n",
      "3:184088924_C_T\t683_153\t-0.218684812141489\t-830.40273499735\t3797.25837777924\t0.826895580796874\n",
      "3:48248913_G_A\t683_153\t-0.397134109865132\t-2982.99156485078\t7511.29527973261\t0.691268567763066\n",
      "6:91905187_T_A\t683_153\t0.349163386734618\t201.720939768404\t577.726495480816\t0.72696665161196\n",
      "7:141755875_C_T\t683_153\t-0.975592924119113\t-1747.46648379891\t1791.18404879447\t0.329266232407227\n"
     ]
    }
   ],
   "source": [
    "%%bash\n",
    "cd /data/LNG/Hirotaka/ASYN\n",
    "cut -f1 sign.txt > sign.list\n",
    "grep -f sign.list PPMI0_all"
   ]
  },
  {
   "cell_type": "markdown",
   "metadata": {},
   "source": [
    "## meta-analysis with case and controls\n",
    "Using a fixed effect model.\n",
    "1. First create a input file (.toMeta)\n",
    "2. Then create a processing code to pass to Metal\n",
    "3. Run Metal"
   ]
  },
  {
   "cell_type": "code",
   "execution_count": 5,
   "metadata": {
    "scrolled": false
   },
   "outputs": [
    {
     "name": "stdout",
     "output_type": "stream",
     "text": [
      "SNP\tOBS_N\tTvalue\tBeta\tSE\tPv_approx\n",
      "10:125735797_G_A\t1528_346\t-0.332660639359814\t-66.5887652406209\t200.170255695916\t0.739390464099567\n",
      "10:125742161_G_A\t1528_346\t-0.283739521353135\t-55.9938032171737\t197.342276994559\t0.776610005224595\n",
      "10:125745178_A_C\t1528_346\t-0.3027349845545\t-59.4959504601557\t196.528163230652\t0.762091834268502\n",
      "10:125748142_C_T\t1528_346\t-0.500040683059406\t-300.680086744558\t601.311247126739\t0.617046431554126\n",
      "10:125749954_G_A\t1528_346\t-0.100768120486078\t-20.117554563378\t199.642054117279\t0.91973453415843\n",
      "10:125751614_A_G\t1528_346\t-0.112393394757019\t-22.2810659163522\t198.241773589286\t0.910511492365212\n",
      "10:125754242_C_T\t1528_346\t-0.464424428364836\t-320.396292615357\t689.878208481455\t0.642343691608882\n",
      "10:125754462_T_G\t1528_346\t-0.234779002516149\t-44.605517875193\t189.989383195054\t0.814380265835604\n",
      "10:125754513_A_G\t1528_346\t-0.236517743080789\t-44.9265605278245\t189.950064391062\t0.813030940807411\n"
     ]
    }
   ],
   "source": [
    "%%bash\n",
    "cd /data/LNG/Hirotaka/ASYN\n",
    "head PPMI1_all"
   ]
  },
  {
   "cell_type": "markdown",
   "metadata": {},
   "source": [
    "#### Join with allele frequency information"
   ]
  },
  {
   "cell_type": "code",
   "execution_count": 118,
   "metadata": {},
   "outputs": [
    {
     "name": "stdout",
     "output_type": "stream",
     "text": [
      "POS\tREF\tALT\t\tbeta\tse\tmaf\tP\n",
      "10:100000625\tG\tA\t-20.65804903357\t83.2819755200966\t0.43103\t0.804096138977856\n",
      "10:100000645\tC\tA\t48.3788087575877\t99.7455853922752\t0.19392\t0.627660701177244\n",
      "10:100002399\tA\tG\t115.418\t1082.01483034701\t0.00112\t0.91505148762718\n",
      "10:100003242\tG\tT\t39.135227717264\t191.906564242157\t0.10543\t0.838409332817509\n",
      "10:100003304\tG\tA\t109.252377491206\t213.066835275975\t0.03978\t0.608118467855169\n",
      "10:100003785\tC\tT\t-14.2953665064056\t82.1920681046778\t0.37275\t0.861923342950831\n",
      "10:100004360\tA\tG\t47.9637787830757\t99.8365709951915\t0.19402\t0.6309266869494\n",
      "10:100004441\tG\tC\t-12.7256\t82.4855500460523\t0.37462\t0.877391741638368\n",
      "10:100004799\tC\tA\t-259.774989231164\t633.290660937207\t0.01489\t0.681660213685468\n"
     ]
    }
   ],
   "source": [
    "%%bash\n",
    "cd /data/LNG/Hirotaka/ASYN\n",
    "echo -e \"POS REF ALT  beta se maf P\" > _cols.toMeta\n",
    "for DATASET in PPMI0 PPMI1;do\n",
    "    tail -n +2 \"$DATASET\"_all | cut -f 1,4-6 | sed 's/_/\\t/g' | sort > _$DATASET.toMeta\n",
    "    cat _cols.toMeta $DATASET.toMeta_temp2 | sed 's/ /\\t/g' > $DATASET.toMeta\n",
    "done\n",
    "head PPMI0.toMeta"
   ]
  },
  {
   "cell_type": "markdown",
   "metadata": {},
   "source": [
    "Note ALT is not always a minor allele."
   ]
  },
  {
   "cell_type": "markdown",
   "metadata": {},
   "source": [
    "### Create a procession script for Metal and Run"
   ]
  },
  {
   "cell_type": "code",
   "execution_count": 119,
   "metadata": {
    "collapsed": true
   },
   "outputs": [
    {
     "name": "stdout",
     "output_type": "stream",
     "text": [
      "MetaAnalysis Helper - (c) 2007 - 2009 Goncalo Abecasis\n",
      "\n",
      "# This program faciliates meta-analysis of genome-wide association studies.\n",
      "# Commonly used commands are listed below:\n",
      "#\n",
      "# Options for describing input files ...\n",
      "#   SEPARATOR        [WHITESPACE|COMMA|BOTH|TAB] (default = WHITESPACE)\n",
      "#   COLUMNCOUNTING   [STRICT|LENIENT]            (default = 'STRICT')\n",
      "#   MARKERLABEL      [LABEL]                     (default = 'MARKER')\n",
      "#   ALLELELABELS     [LABEL1 LABEL2]             (default = 'ALLELE1','ALLELE2')\n",
      "#   EFFECTLABEL      [LABEL|log(LABEL)]          (default = 'EFFECT')\n",
      "#   FLIP\n",
      "#\n",
      "# Options for filtering input files ...\n",
      "#   ADDFILTER        [LABEL CONDITION VALUE]     (example = ADDFILTER N > 10)\n",
      "#                    (available conditions are <, >, <=, >=, =, !=, IN)\n",
      "#   REMOVEFILTERS\n",
      "#\n",
      "# Options for sample size weighted meta-analysis ...\n",
      "#   WEIGHTLABEL      [LABEL]                     (default = 'N')\n",
      "#   PVALUELABEL      [LABEL]                     (default = 'PVALUE')\n",
      "#   DEFAULTWEIGHT    [NUMBER]                    (default = 1.0)\n",
      "#   MINWEIGHT        [NUMBER]                    (default = 1.0)\n",
      "#\n",
      "# Options for inverse variance weighted meta-analysis ...\n",
      "#   STDERRLABEL      [LABEL]                     (default = 'STDERR')\n",
      "#   SCHEME           [SAMPLESIZE|STDERR]         (default = SAMPLESIZE)\n",
      "#\n",
      "# Options to enable tracking of allele frequencies ...\n",
      "#   AVERAGEFREQ      [ON|OFF]                    (default = OFF)\n",
      "#   MINMAXFREQ       [ON|OFF]                    (default = OFF)\n",
      "#   FREQLABEL        [LABEL]                     (default = 'FREQ')\n",
      "#\n",
      "# Options to enable tracking of user defined variables ...\n",
      "#   CUSTOMVARIABLE   [VARNAME]\n",
      "#   LABEL            [VARNAME] AS [HEADER]\n",
      "#\n",
      "# Options to enable explicit strand information ...\n",
      "#   USESTRAND        [ON|OFF]                    (default = OFF)\n",
      "#   STRANDLABEL      [LABEL]                     (default = 'STRAND')\n",
      "#\n",
      "# Automatic genomic control correction of input statistics ...\n",
      "#   GENOMICCONTROL   [ON|OFF|VALUE|LIST snps.txt](default = OFF)\n",
      "#\n",
      "# Options to account for samples overlap ...\n",
      "#   OVERLAP          [ON|OFF]                    (default = OFF)\n",
      "#   ZCUTOFF          [NUMBER]                    (default = 1.0)\n",
      "#\n",
      "# Options for general analysis control ...\n",
      "#   PROCESSFILE      [FILENAME]\n",
      "#   OUTFILE          [PREFIX SUFFIX]             (default = 'METAANALYSIS','.TBL')\n",
      "#   MAXWARNINGS      [NUMBER]                    (default = 20)\n",
      "#   VERBOSE          [ON|OFF]                    (default = 'OFF')\n",
      "#   LOGPVALUE        [ON|OFF]                    (default = 'OFF')\n",
      "#   ANALYZE          [HETEROGENEITY]\n",
      "#   CLEAR\n",
      "\n",
      "# Options for general run control ...\n",
      "#   SOURCE           [SCRIPTFILE]\n",
      "#   RETURN\n",
      "#   QUIT\n",
      "\n",
      "# Processing commands in metal.txt ...\n",
      "## Meta-analysis will be based on effect sizes and their standard errors ...\n",
      "## Set marker header to POS ...\n",
      "## Set allele headers to ALT and REF ...\n",
      "## Set effect header to beta ...\n",
      "## Set standard error header to se ...\n",
      "## Set p-value header to P ...\n",
      "###########################################################################\n",
      "## Processing file 'PPMI0.toMeta'\n",
      "## WARNING: Bad alleles for marker '10:100043981', expecting 'a/t' found 'a/c'\n",
      "## WARNING: Bad alleles for marker '10:100113226', expecting 'a/t' found 'a/c'\n",
      "## WARNING: Bad alleles for marker '10:100170531', expecting 'c/g' found 'a/c'\n",
      "## WARNING: Bad alleles for marker '10:10023597', expecting 'a/g' found 'a/c'\n",
      "## WARNING: Bad alleles for marker '10:10025584', expecting 'a/c' found 'a/g'\n",
      "## WARNING: Bad alleles for marker '10:100300979', expecting 'a/g' found 'a/c'\n",
      "## WARNING: Bad alleles for marker '10:100359874', expecting 'a/g' found 'a/c'\n",
      "## WARNING: Bad alleles for marker '10:100884950', expecting 'a/g' found 'c/g'\n",
      "## WARNING: Bad alleles for marker '10:101027263', expecting 'a/g' found 'c/g'\n",
      "## WARNING: Bad alleles for marker '10:101257658', expecting 'a/t' found 'a/c'\n",
      "## WARNING: Bad alleles for marker '10:101285444', expecting 'a/g' found 'a/c'\n",
      "## WARNING: Bad alleles for marker '10:101396317', expecting 'a/g' found 'c/g'\n",
      "## WARNING: Bad alleles for marker '10:101551613', expecting 'c/g' found 'a/g'\n",
      "## WARNING: Bad alleles for marker '10:101575260', expecting 'a/c' found 'a/g'\n",
      "## WARNING: Bad alleles for marker '10:101614170', expecting 'c/g' found 'a/c'\n",
      "## WARNING: Bad alleles for marker '10:101915056', expecting 'c/g' found 'a/g'\n",
      "## WARNING: Bad alleles for marker '10:102026454', expecting 'a/g' found 'a/t'\n",
      "## WARNING: Bad alleles for marker '10:102057005', expecting 'a/g' found 'a/c'\n",
      "## WARNING: Bad alleles for marker '10:102097006', expecting 'a/g' found 'a/c'\n",
      "## WARNING: Bad alleles for marker '10:102145378', expecting 'a/c' found 'c/g'\n",
      "## WARNING: Marker '10:102208537' duplicated in input, first instance used, others skipped\n",
      "## WARNING: Marker '10:102241998' duplicated in input, first instance used, others skipped\n",
      "## WARNING: Marker '10:102592150' duplicated in input, first instance used, others skipped\n",
      "## WARNING: Marker '10:103010619' duplicated in input, first instance used, others skipped\n",
      "## WARNING: Marker '10:103348176' duplicated in input, first instance used, others skipped\n",
      "## WARNING: Marker '10:103362726' duplicated in input, first instance used, others skipped\n",
      "## WARNING: Marker '10:103855079' duplicated in input, first instance used, others skipped\n",
      "## WARNING: Marker '10:104427825' duplicated in input, first instance used, others skipped\n",
      "## WARNING: Marker '10:104806654' duplicated in input, first instance used, others skipped\n",
      "## WARNING: Marker '10:104997426' duplicated in input, first instance used, others skipped\n",
      "## WARNING: Marker '10:105197684' duplicated in input, first instance used, others skipped\n",
      "## WARNING: Marker '10:105293517' duplicated in input, first instance used, others skipped\n",
      "## WARNING: Marker '10:105479020' duplicated in input, first instance used, others skipped\n",
      "## WARNING: Marker '10:105591779' duplicated in input, first instance used, others skipped\n",
      "## WARNING: Marker '10:105665323' duplicated in input, first instance used, others skipped\n",
      "## WARNING: Marker '10:105821136' duplicated in input, first instance used, others skipped\n",
      "## WARNING: Marker '10:106091094' duplicated in input, first instance used, others skipped\n",
      "## WARNING: Marker '10:106821209' duplicated in input, first instance used, others skipped\n",
      "## WARNING: Marker '10:10705273' duplicated in input, first instance used, others skipped\n",
      "## WARNING: Marker '10:113591240' duplicated in input, first instance used, others skipped\n",
      "## WARNING: An additional 1990 rows with duplicate marker names were ignored\n",
      "## WARNING: Allele names don't match previous occurences at 17007 additional markers\n",
      "## Processed 3907391 markers ...\n",
      "\n",
      "## Set marker header to POS ...\n",
      "## Set allele headers to ALT and REF ...\n",
      "## Set effect header to beta ...\n",
      "## Set standard error header to se ...\n",
      "## Set p-value header to P ...\n",
      "###########################################################################\n",
      "## Processing file 'PPMI1.toMeta'\n",
      "## WARNING: Bad alleles for marker '10:100043981', expecting 'a/t' found 'a/c'\n",
      "## WARNING: Bad alleles for marker '10:100113226', expecting 'a/t' found 'a/c'\n",
      "## WARNING: Bad alleles for marker '10:100170531', expecting 'c/g' found 'a/c'\n",
      "## WARNING: Bad alleles for marker '10:10023597', expecting 'a/g' found 'a/c'\n",
      "## WARNING: Bad alleles for marker '10:10025584', expecting 'a/c' found 'a/g'\n",
      "## WARNING: Bad alleles for marker '10:100300979', expecting 'a/g' found 'a/c'\n",
      "## WARNING: Bad alleles for marker '10:100359874', expecting 'a/g' found 'a/c'\n",
      "## WARNING: Bad alleles for marker '10:100884950', expecting 'a/g' found 'c/g'\n",
      "## WARNING: Bad alleles for marker '10:101027263', expecting 'a/g' found 'c/g'\n",
      "## WARNING: Bad alleles for marker '10:101257658', expecting 'a/t' found 'a/c'\n",
      "## WARNING: Bad alleles for marker '10:101285444', expecting 'a/g' found 'a/c'\n",
      "## WARNING: Bad alleles for marker '10:101396317', expecting 'a/g' found 'c/g'\n",
      "## WARNING: Bad alleles for marker '10:101551613', expecting 'c/g' found 'a/g'\n",
      "## WARNING: Bad alleles for marker '10:101575260', expecting 'a/c' found 'a/g'\n",
      "## WARNING: Bad alleles for marker '10:101614170', expecting 'c/g' found 'a/c'\n",
      "## WARNING: Bad alleles for marker '10:101915056', expecting 'c/g' found 'a/g'\n",
      "## WARNING: Bad alleles for marker '10:102026454', expecting 'a/g' found 'a/t'\n",
      "## WARNING: Bad alleles for marker '10:102057005', expecting 'a/g' found 'a/c'\n",
      "## WARNING: Bad alleles for marker '10:102097006', expecting 'a/g' found 'a/c'\n",
      "## WARNING: Bad alleles for marker '10:102145378', expecting 'a/c' found 'c/g'\n",
      "## WARNING: Marker '10:102208537' duplicated in input, first instance used, others skipped\n",
      "## WARNING: Marker '10:102241998' duplicated in input, first instance used, others skipped\n",
      "## WARNING: Marker '10:102592150' duplicated in input, first instance used, others skipped\n",
      "## WARNING: Marker '10:103010619' duplicated in input, first instance used, others skipped\n",
      "## WARNING: Marker '10:103348176' duplicated in input, first instance used, others skipped\n",
      "## WARNING: Marker '10:103362726' duplicated in input, first instance used, others skipped\n",
      "## WARNING: Marker '10:103855079' duplicated in input, first instance used, others skipped\n",
      "## WARNING: Marker '10:104427825' duplicated in input, first instance used, others skipped\n",
      "## WARNING: Marker '10:104806654' duplicated in input, first instance used, others skipped\n",
      "## WARNING: Marker '10:104997426' duplicated in input, first instance used, others skipped\n",
      "## WARNING: Marker '10:105197684' duplicated in input, first instance used, others skipped\n",
      "## WARNING: Marker '10:105293517' duplicated in input, first instance used, others skipped\n",
      "## WARNING: Marker '10:105479020' duplicated in input, first instance used, others skipped\n",
      "## WARNING: Marker '10:105591779' duplicated in input, first instance used, others skipped\n",
      "## WARNING: Marker '10:105665323' duplicated in input, first instance used, others skipped\n",
      "## WARNING: Marker '10:105821136' duplicated in input, first instance used, others skipped\n",
      "## WARNING: Marker '10:106091094' duplicated in input, first instance used, others skipped\n",
      "## WARNING: Marker '10:106821209' duplicated in input, first instance used, others skipped\n",
      "## WARNING: Marker '10:10705273' duplicated in input, first instance used, others skipped\n",
      "## WARNING: Marker '10:113591240' duplicated in input, first instance used, others skipped\n",
      "## WARNING: An additional 1990 rows with duplicate marker names were ignored\n",
      "## WARNING: Allele names don't match previous occurences at 17170 additional markers\n",
      "## Processed 3916384 markers ...\n",
      "\n",
      "## Set output file prefix and suffix to metares and .tbl ...\n",
      "###########################################################################\n",
      "## Running second pass analysis to evaluate heterogeneity...\n",
      "## Processing file 'PPMI1.toMeta'\n",
      "## Processing file 'PPMI0.toMeta'\n",
      "\n",
      "###########################################################################\n",
      "## Executing meta-analysis ...\n",
      "## Complete results will be stored in file 'metares1.tbl'\n",
      "## Column descriptions will be stored in file 'metares1.tbl.info'\n",
      "## Completed meta-analysis for 3917706 markers!\n",
      "## Smallest p-value is 1.199e-10 at marker '14:24775579'\n",
      "\n",
      "## Clearing all stored statistics ...\n",
      "# Clearing user defined filters ...\n",
      "MarkerName\tAllele1\tAllele2\tEffect\tStdErr\tP-value\tDirection\tHetISq\tHetChiSq\tHetDf\tHetPVal\n",
      "5:29439275\tt\tc\t-58.4290\t46.0265\t0.2043\t--\t6.3\t1.067\t1\t0.3016\n",
      "15:80233956\tt\tc\t13.8801\t76.3229\t0.8557\t+-\t0.0\t0.893\t1\t0.3446\n",
      "2:170966953\tt\tc\t334.4040\t294.6473\t0.2564\t++\t0.0\t0.788\t1\t0.3746\n",
      "4:125460344\tt\tc\t23.6814\t73.4695\t0.7472\t-+\t0.0\t0.171\t1\t0.6796\n",
      "16:82370655\ta\tg\t-178.3695\t83.5203\t0.03271\t--\t0.0\t0.381\t1\t0.5371\n",
      "18:51386759\tt\tc\t61.3379\t86.6390\t0.479\t-+\t27.3\t1.375\t1\t0.241\n",
      "1:23541506\ta\tg\t-68.5665\t181.9772\t0.7063\t-+\t0.0\t0.477\t1\t0.4899\n",
      "2:215657560\tt\tc\t-15.1696\t48.6358\t0.7551\t+-\t85.9\t7.108\t1\t0.007672\n",
      "10:30700059\ta\tg\t21427.8038\t9083.1314\t0.01832\t++\t0.0\t0.070\t1\t0.7909\n"
     ]
    },
    {
     "name": "stderr",
     "output_type": "stream",
     "text": [
      "[+] Loading metal  2017-12-21 \n"
     ]
    }
   ],
   "source": [
    "%%bash\n",
    "cd /data/LNG/Hirotaka/ASYN\n",
    "echo \"\n",
    "SCHEME STDERR\n",
    "\" > metal.txt\n",
    "\n",
    "for DATASET in PPMI0 PPMI1; do\n",
    "    echo \"\n",
    "    MARKER POS\n",
    "    ALLELE ALT REF\n",
    "    EFFECT beta\n",
    "    STDERR se\n",
    "    PVALUE P\n",
    "    PROCESS $DATASET.toMeta\n",
    "    \" >> metal.txt\n",
    "done\n",
    "echo \"\n",
    "OUTFILE metares .tbl\n",
    "ANALYZE HETEROGENEITY\n",
    "QUIT\n",
    "\" >> metal.txt\n",
    "module load metal\n",
    "metal metal.txt\n",
    "head metares1.tbl"
   ]
  },
  {
   "cell_type": "markdown",
   "metadata": {},
   "source": [
    "Get the meta-analysis results of the significant alleles in cases analysis (metares1_filter_sig.tab)     \n",
    "Also, Get the significant meta-analysis alleles which are not significant in cases analysis will be derived.(metares1_filter_nonsig.tab)"
   ]
  },
  {
   "cell_type": "code",
   "execution_count": 126,
   "metadata": {},
   "outputs": [],
   "source": [
    "%%bash\n",
    "cd /data/LNG/Hirotaka/ASYN\n",
    "awk '$6 < 5e-8 && $8 < 0.8 {print}' metares1.tbl > metares1_sig.tbl\n",
    "cut -f1 metares1_sig.tbl > _metares1_sig.pos\n",
    "cut -d\"_\" -f1 sign.list > _sigInCase.pos\n",
    "cat _metares1_sig.pos _sigInCase.pos | uniq > pull.pos\n",
    "grep -f pull.pos metares1.tbl > _meta_pull.tab\n",
    "grep -f pull.pos PPMI1_all > _PPMI1_pull.tab"
   ]
  },
  {
   "cell_type": "markdown",
   "metadata": {},
   "source": [
    "19:40117084 has multi-allelic results. extract 19:40117084_C_T (very rare).     \n",
    "Then, join two results."
   ]
  },
  {
   "cell_type": "code",
   "execution_count": 177,
   "metadata": {},
   "outputs": [
    {
     "name": "stdout",
     "output_type": "stream",
     "text": [
      "POS\tglmmREF\tglmmALT\tCASEp\tmetaALT\tmetaREF\tMETAp\n",
      "11:5269465\tA\tT\t4.33271502614714e-08\ta\tt\t0.3344\n",
      "11:5271582\tA\tT\t3.10171579063867e-08\ta\tt\t0.3218\n",
      "11:5273060\tG\tC\t3.64410380324682e-08\tc\tg\t0.3157\n",
      "11:5276380\tG\tC\t2.71580366715637e-08\tc\tg\t0.2295\n",
      "11:5281315\tT\tG\t3.19870155015093e-08\tt\tg\t0.2508\n",
      "11:5283903\tG\tC\t3.31407284349392e-08\tc\tg\t0.238\n",
      "11:5285993\tC\tT\t3.58974646048284e-08\tt\tc\t0.2309\n",
      "11:5287551\tT\tC\t3.49271935885822e-08\tt\tc\t0.222\n",
      "11:61576265\tC\tT\t4.95039602277381e-08\tt\tc\t0.8669\n"
     ]
    }
   ],
   "source": [
    "%%bash\n",
    "cd /data/LNG/Hirotaka/ASYN\n",
    "grep -v '19:40117084_C_T' _PPMI1_pull.tab | cut -f 1,6 | sed 's/_/\\t/g' > _PPMI1_pull_join.tab\n",
    "cut _meta_pull.tab -f 1,2,3,6 | sort > _meta_pull_join.tab\n",
    "join -t$'\\t' _PPMI1_pull_join.tab _meta_pull_join.tab | LANG=C sort > _PPMI1_meta_pull.tab\n",
    "echo -e \"POS\\tglmmREF\\tglmmALT\\tCASEp\\tmetaALT\\tmetaREF\\tMETAp\" > _header.txt\n",
    "cat _header.txt _PPMI1_meta_pull.tab > PPMI1_meta_pull.tab\n",
    "head PPMI1_meta_pull.tab"
   ]
  },
  {
   "cell_type": "code",
   "execution_count": 178,
   "metadata": {},
   "outputs": [
    {
     "name": "stdout",
     "output_type": "stream",
     "text": [
      "POS\tglmmREF\tglmmALT\tCASEp\tmetaALT\tmetaREF\tMETAp\tID\tREF\tALT\n",
      "11:5269465\tA\tT\t4.33271502614714e-08\ta\tt\t0.3344\trs2402330\tA\tT\n",
      "11:5271582\tA\tT\t3.10171579063867e-08\ta\tt\t0.3218\trs57966301\tA\tT\n",
      "11:5273060\tG\tC\t3.64410380324682e-08\tc\tg\t0.3157\trs73402631\tG\tC\n",
      "11:5276380\tG\tC\t2.71580366715637e-08\tc\tg\t0.2295\trs112215533\tG\tC\n",
      "11:5281315\tT\tG\t3.19870155015093e-08\tt\tg\t0.2508\trs73402654\tT\tG\n",
      "11:5283903\tG\tC\t3.31407284349392e-08\tc\tg\t0.238\trs139821845\tG\tC\n",
      "11:5285993\tC\tT\t3.58974646048284e-08\tt\tc\t0.2309\trs73402665\tC\tT\n",
      "11:5287551\tT\tC\t3.49271935885822e-08\tt\tc\t0.222\trs73402668\tT\tC\n",
      "11:61576265\tC\tT\t4.95039602277381e-08\tt\tc\t0.8669\trs115963598\tC\tT\n"
     ]
    }
   ],
   "source": [
    "%%bash\n",
    "cd /data/LNG/Hirotaka/ASYN\n",
    "LANG=C join -t$'\\t' --header PPMI1_meta_pull.tab /home/$USER/tools/rs_37_sort.txt >PPMI1_meta_pull_rs.tab\n",
    "head PPMI1_meta_pull_rs.tab"
   ]
  },
  {
   "cell_type": "markdown",
   "metadata": {},
   "source": [
    "## Pull information from dbSNPs"
   ]
  },
  {
   "cell_type": "code",
   "execution_count": 179,
   "metadata": {},
   "outputs": [
    {
     "name": "stdout",
     "output_type": "stream",
     "text": [
      "rs2402330\n",
      "HBG1 500B_downstream_variant downstream-variant-500B\n",
      "rs57966301\n",
      "HBG1 2KB_upstream_variant upstream-variant-2KB\n",
      "rs73402631\n",
      "HBG1 2KB_upstream_variant upstream-variant-2KB\n",
      "rs112215533\n",
      "HBG2 2KB_upstream_variant upstream-variant-2KB\n",
      "rs73402654\n",
      "NA NA NA\n",
      "rs139821845\n",
      "NA NA NA\n",
      "rs73402665\n",
      "NA NA NA\n",
      "rs73402668\n",
      "NA NA NA\n",
      "rs115963598\n",
      "FADS1 intron_variant intron-variant\n",
      "rs553545122\n",
      "FADS1 intron_variant intron-variant\n",
      "rs115698269\n",
      "FADS2 2KB_upstream_variant upstream-variant-2KB\n",
      "rs147470067\n",
      "CARNS1 3_prime_UTR_variant utr-variant-3-prime\n",
      "rs146737422\n",
      "NOP9 3_prime_UTR_variant utr-variant-3-prime\n",
      "rs148490676\n",
      "HEATR4 intron_variant intron-variant\n",
      "rs185007046\n",
      "LOC101929333 intron_variant intron-variant\n",
      "rs62122282\n",
      "NA NA NA\n",
      "rs138897444\n",
      "MIR4435-2HG nc_transcript_variant nc-transcript-variant\n",
      "rs148815166\n",
      "FAM131A 5_prime_UTR_variant utr-variant-5-prime\n",
      "rs149554716\n",
      "FAM131A intron_variant intron-variant\n",
      "rs149806004\n",
      "NA NA NA\n",
      "rs191029019\n",
      "NA NA NA\n",
      "rs145639597\n",
      "NA NA NA\n"
     ]
    }
   ],
   "source": [
    "# Preparation\n",
    "from bs4 import BeautifulSoup, SoupStrainer\n",
    "import requests\n",
    "import re\n",
    "import time\n",
    "import pandas as pd\n",
    "data = pd.read_table(\"/data/LNG/Hirotaka/ASYN/PPMI1_meta_pull_rs.tab\")\n",
    "IDs = data[\"ID\"] # dbSNP ID\n",
    "\n",
    "SYMBOLs = []\n",
    "SOTERMs = []\n",
    "FXNCLASSs=[]\n",
    "for ID in IDs:\n",
    "    print(ID)\n",
    "    response = requests.get('https://eutils.ncbi.nlm.nih.gov/entrez/eutils/efetch.fcgi?db=snp&id=' + ID[2:] + '&report=XML') \n",
    "    html_str = response.text \n",
    "    bs = BeautifulSoup(html_str, \"html5lib\") \n",
    "    try:\n",
    "        SYMBOL = bs.fxnset['symbol'] \n",
    "        SOTERM = bs.fxnset['soterm']\n",
    "        FXNCLASS = bs.fxnset['fxnclass']\n",
    "    except (TypeError, KeyError):\n",
    "        if len(bs.find_all('fxnset'))>1:\n",
    "            print(\"search from the second tag\")\n",
    "            SYMBOL = bs.find_all('fxnset')[1]['symbol'] \n",
    "            SOTERM = bs.find_all('fxnset')[1]['soterm']\n",
    "            FXNCLASS = bs.find_all('fxnset')[1]['fxnclass']\n",
    "        else:\n",
    "            SYMBOL = \"NA\" \n",
    "            SOTERM = \"NA\"\n",
    "            FXNCLASS = \"NA\"\n",
    "    SYMBOLs.append(SYMBOL)\n",
    "    SOTERMs.append(SOTERM)\n",
    "    FXNCLASSs.append(FXNCLASS)\n",
    "    print (SYMBOL, SOTERM, FXNCLASS)\n",
    "    time.sleep(1/3) # three requests per second (Guideline)\n"
   ]
  },
  {
   "cell_type": "code",
   "execution_count": 182,
   "metadata": {},
   "outputs": [],
   "source": [
    "#Step3 join the cross-tab with the new information\n",
    "data2= data.assign(SYMBOL=SYMBOLs, SOTERM=SOTERMs, FXNCLASS=FXNCLASSs)\n",
    "## ordering the \n",
    "forIdx = data2[\"POS\"].str.split(\":\", expand=True).applymap(int).sort_values(by=[0, 1])\n",
    "df = data2.reindex(forIdx.index)\n",
    "df.to_csv(\"detected.csv\", index=False)"
   ]
  },
  {
   "cell_type": "markdown",
   "metadata": {},
   "source": [
    "### Final result"
   ]
  },
  {
   "cell_type": "code",
   "execution_count": 184,
   "metadata": {},
   "outputs": [
    {
     "data": {
      "text/html": [
       "<div>\n",
       "<style scoped>\n",
       "    .dataframe tbody tr th:only-of-type {\n",
       "        vertical-align: middle;\n",
       "    }\n",
       "\n",
       "    .dataframe tbody tr th {\n",
       "        vertical-align: top;\n",
       "    }\n",
       "\n",
       "    .dataframe thead th {\n",
       "        text-align: right;\n",
       "    }\n",
       "</style>\n",
       "<table border=\"1\" class=\"dataframe\">\n",
       "  <thead>\n",
       "    <tr style=\"text-align: right;\">\n",
       "      <th></th>\n",
       "      <th>POS</th>\n",
       "      <th>SYMBOL</th>\n",
       "      <th>SOTERM</th>\n",
       "      <th>FXNCLASS</th>\n",
       "      <th>CASEp</th>\n",
       "      <th>METAp</th>\n",
       "    </tr>\n",
       "  </thead>\n",
       "  <tbody>\n",
       "    <tr>\n",
       "      <th>0</th>\n",
       "      <td>2:112123775</td>\n",
       "      <td>MIR4435-2HG</td>\n",
       "      <td>nc_transcript_variant</td>\n",
       "      <td>nc-transcript-variant</td>\n",
       "      <td>1.354967e-08</td>\n",
       "      <td>1.639000e-02</td>\n",
       "    </tr>\n",
       "    <tr>\n",
       "      <th>1</th>\n",
       "      <td>3:48248913</td>\n",
       "      <td>NaN</td>\n",
       "      <td>NaN</td>\n",
       "      <td>NaN</td>\n",
       "      <td>1.710605e-08</td>\n",
       "      <td>2.270000e-08</td>\n",
       "    </tr>\n",
       "    <tr>\n",
       "      <th>2</th>\n",
       "      <td>3:184053802</td>\n",
       "      <td>FAM131A</td>\n",
       "      <td>5_prime_UTR_variant</td>\n",
       "      <td>utr-variant-5-prime</td>\n",
       "      <td>2.208232e-09</td>\n",
       "      <td>3.141000e-09</td>\n",
       "    </tr>\n",
       "    <tr>\n",
       "      <th>3</th>\n",
       "      <td>3:184056135</td>\n",
       "      <td>FAM131A</td>\n",
       "      <td>intron_variant</td>\n",
       "      <td>intron-variant</td>\n",
       "      <td>1.751097e-09</td>\n",
       "      <td>2.504000e-09</td>\n",
       "    </tr>\n",
       "    <tr>\n",
       "      <th>4</th>\n",
       "      <td>3:184088924</td>\n",
       "      <td>NaN</td>\n",
       "      <td>NaN</td>\n",
       "      <td>NaN</td>\n",
       "      <td>1.762615e-09</td>\n",
       "      <td>2.795000e-09</td>\n",
       "    </tr>\n",
       "    <tr>\n",
       "      <th>5</th>\n",
       "      <td>6:91905187</td>\n",
       "      <td>NaN</td>\n",
       "      <td>NaN</td>\n",
       "      <td>NaN</td>\n",
       "      <td>2.132913e-08</td>\n",
       "      <td>1.741000e-05</td>\n",
       "    </tr>\n",
       "    <tr>\n",
       "      <th>6</th>\n",
       "      <td>11:5269465</td>\n",
       "      <td>HBG1</td>\n",
       "      <td>500B_downstream_variant</td>\n",
       "      <td>downstream-variant-500B</td>\n",
       "      <td>4.332715e-08</td>\n",
       "      <td>3.344000e-01</td>\n",
       "    </tr>\n",
       "    <tr>\n",
       "      <th>7</th>\n",
       "      <td>11:5271582</td>\n",
       "      <td>HBG1</td>\n",
       "      <td>2KB_upstream_variant</td>\n",
       "      <td>upstream-variant-2KB</td>\n",
       "      <td>3.101716e-08</td>\n",
       "      <td>3.218000e-01</td>\n",
       "    </tr>\n",
       "    <tr>\n",
       "      <th>8</th>\n",
       "      <td>11:5273060</td>\n",
       "      <td>HBG1</td>\n",
       "      <td>2KB_upstream_variant</td>\n",
       "      <td>upstream-variant-2KB</td>\n",
       "      <td>3.644104e-08</td>\n",
       "      <td>3.157000e-01</td>\n",
       "    </tr>\n",
       "    <tr>\n",
       "      <th>9</th>\n",
       "      <td>11:5276380</td>\n",
       "      <td>HBG2</td>\n",
       "      <td>2KB_upstream_variant</td>\n",
       "      <td>upstream-variant-2KB</td>\n",
       "      <td>2.715804e-08</td>\n",
       "      <td>2.295000e-01</td>\n",
       "    </tr>\n",
       "    <tr>\n",
       "      <th>10</th>\n",
       "      <td>11:5281315</td>\n",
       "      <td>NaN</td>\n",
       "      <td>NaN</td>\n",
       "      <td>NaN</td>\n",
       "      <td>3.198702e-08</td>\n",
       "      <td>2.508000e-01</td>\n",
       "    </tr>\n",
       "    <tr>\n",
       "      <th>11</th>\n",
       "      <td>11:5283903</td>\n",
       "      <td>NaN</td>\n",
       "      <td>NaN</td>\n",
       "      <td>NaN</td>\n",
       "      <td>3.314073e-08</td>\n",
       "      <td>2.380000e-01</td>\n",
       "    </tr>\n",
       "    <tr>\n",
       "      <th>12</th>\n",
       "      <td>11:5285993</td>\n",
       "      <td>NaN</td>\n",
       "      <td>NaN</td>\n",
       "      <td>NaN</td>\n",
       "      <td>3.589746e-08</td>\n",
       "      <td>2.309000e-01</td>\n",
       "    </tr>\n",
       "    <tr>\n",
       "      <th>13</th>\n",
       "      <td>11:5287551</td>\n",
       "      <td>NaN</td>\n",
       "      <td>NaN</td>\n",
       "      <td>NaN</td>\n",
       "      <td>3.492719e-08</td>\n",
       "      <td>2.220000e-01</td>\n",
       "    </tr>\n",
       "    <tr>\n",
       "      <th>14</th>\n",
       "      <td>11:61576265</td>\n",
       "      <td>FADS1</td>\n",
       "      <td>intron_variant</td>\n",
       "      <td>intron-variant</td>\n",
       "      <td>4.950396e-08</td>\n",
       "      <td>8.669000e-01</td>\n",
       "    </tr>\n",
       "    <tr>\n",
       "      <th>15</th>\n",
       "      <td>11:61579702</td>\n",
       "      <td>FADS1</td>\n",
       "      <td>intron_variant</td>\n",
       "      <td>intron-variant</td>\n",
       "      <td>4.658218e-08</td>\n",
       "      <td>9.966000e-01</td>\n",
       "    </tr>\n",
       "    <tr>\n",
       "      <th>16</th>\n",
       "      <td>11:61583543</td>\n",
       "      <td>FADS2</td>\n",
       "      <td>2KB_upstream_variant</td>\n",
       "      <td>upstream-variant-2KB</td>\n",
       "      <td>4.950396e-08</td>\n",
       "      <td>8.671000e-01</td>\n",
       "    </tr>\n",
       "    <tr>\n",
       "      <th>17</th>\n",
       "      <td>11:67192933</td>\n",
       "      <td>CARNS1</td>\n",
       "      <td>3_prime_UTR_variant</td>\n",
       "      <td>utr-variant-3-prime</td>\n",
       "      <td>2.244029e-08</td>\n",
       "      <td>3.866000e-04</td>\n",
       "    </tr>\n",
       "    <tr>\n",
       "      <th>18</th>\n",
       "      <td>14:24775579</td>\n",
       "      <td>NOP9</td>\n",
       "      <td>3_prime_UTR_variant</td>\n",
       "      <td>utr-variant-3-prime</td>\n",
       "      <td>1.199408e-10</td>\n",
       "      <td>1.199000e-10</td>\n",
       "    </tr>\n",
       "    <tr>\n",
       "      <th>19</th>\n",
       "      <td>14:74075526</td>\n",
       "      <td>HEATR4</td>\n",
       "      <td>intron_variant</td>\n",
       "      <td>intron-variant</td>\n",
       "      <td>4.479761e-08</td>\n",
       "      <td>1.264000e-05</td>\n",
       "    </tr>\n",
       "    <tr>\n",
       "      <th>20</th>\n",
       "      <td>15:74777862</td>\n",
       "      <td>LOC101929333</td>\n",
       "      <td>intron_variant</td>\n",
       "      <td>intron-variant</td>\n",
       "      <td>2.567480e-05</td>\n",
       "      <td>4.555000e-08</td>\n",
       "    </tr>\n",
       "    <tr>\n",
       "      <th>21</th>\n",
       "      <td>19:40117084</td>\n",
       "      <td>NaN</td>\n",
       "      <td>NaN</td>\n",
       "      <td>NaN</td>\n",
       "      <td>4.596146e-01</td>\n",
       "      <td>2.792000e-01</td>\n",
       "    </tr>\n",
       "  </tbody>\n",
       "</table>\n",
       "</div>"
      ],
      "text/plain": [
       "            POS        SYMBOL                   SOTERM  \\\n",
       "0   2:112123775   MIR4435-2HG    nc_transcript_variant   \n",
       "1    3:48248913           NaN                      NaN   \n",
       "2   3:184053802       FAM131A      5_prime_UTR_variant   \n",
       "3   3:184056135       FAM131A           intron_variant   \n",
       "4   3:184088924           NaN                      NaN   \n",
       "5    6:91905187           NaN                      NaN   \n",
       "6    11:5269465          HBG1  500B_downstream_variant   \n",
       "7    11:5271582          HBG1     2KB_upstream_variant   \n",
       "8    11:5273060          HBG1     2KB_upstream_variant   \n",
       "9    11:5276380          HBG2     2KB_upstream_variant   \n",
       "10   11:5281315           NaN                      NaN   \n",
       "11   11:5283903           NaN                      NaN   \n",
       "12   11:5285993           NaN                      NaN   \n",
       "13   11:5287551           NaN                      NaN   \n",
       "14  11:61576265         FADS1           intron_variant   \n",
       "15  11:61579702         FADS1           intron_variant   \n",
       "16  11:61583543         FADS2     2KB_upstream_variant   \n",
       "17  11:67192933        CARNS1      3_prime_UTR_variant   \n",
       "18  14:24775579          NOP9      3_prime_UTR_variant   \n",
       "19  14:74075526        HEATR4           intron_variant   \n",
       "20  15:74777862  LOC101929333           intron_variant   \n",
       "21  19:40117084           NaN                      NaN   \n",
       "\n",
       "                   FXNCLASS         CASEp         METAp  \n",
       "0     nc-transcript-variant  1.354967e-08  1.639000e-02  \n",
       "1                       NaN  1.710605e-08  2.270000e-08  \n",
       "2       utr-variant-5-prime  2.208232e-09  3.141000e-09  \n",
       "3            intron-variant  1.751097e-09  2.504000e-09  \n",
       "4                       NaN  1.762615e-09  2.795000e-09  \n",
       "5                       NaN  2.132913e-08  1.741000e-05  \n",
       "6   downstream-variant-500B  4.332715e-08  3.344000e-01  \n",
       "7      upstream-variant-2KB  3.101716e-08  3.218000e-01  \n",
       "8      upstream-variant-2KB  3.644104e-08  3.157000e-01  \n",
       "9      upstream-variant-2KB  2.715804e-08  2.295000e-01  \n",
       "10                      NaN  3.198702e-08  2.508000e-01  \n",
       "11                      NaN  3.314073e-08  2.380000e-01  \n",
       "12                      NaN  3.589746e-08  2.309000e-01  \n",
       "13                      NaN  3.492719e-08  2.220000e-01  \n",
       "14           intron-variant  4.950396e-08  8.669000e-01  \n",
       "15           intron-variant  4.658218e-08  9.966000e-01  \n",
       "16     upstream-variant-2KB  4.950396e-08  8.671000e-01  \n",
       "17      utr-variant-3-prime  2.244029e-08  3.866000e-04  \n",
       "18      utr-variant-3-prime  1.199408e-10  1.199000e-10  \n",
       "19           intron-variant  4.479761e-08  1.264000e-05  \n",
       "20           intron-variant  2.567480e-05  4.555000e-08  \n",
       "21                      NaN  4.596146e-01  2.792000e-01  "
      ]
     },
     "execution_count": 184,
     "metadata": {},
     "output_type": "execute_result"
    }
   ],
   "source": [
    "df = pd.read_csv(\"detected.csv\")\n",
    "df.iloc[:,[0,12,11,10, 3,6]]"
   ]
  },
  {
   "cell_type": "markdown",
   "metadata": {},
   "source": [
    "CASEp: P-value of the case only analysis    \n",
    "METAp: P-value of the case/control meta-analysis "
   ]
  },
  {
   "cell_type": "code",
   "execution_count": null,
   "metadata": {},
   "outputs": [],
   "source": [
    "## QQplot and MHplot"
   ]
  },
  {
   "cell_type": "code",
   "execution_count": 206,
   "metadata": {},
   "outputs": [
    {
     "name": "stdout",
     "output_type": "stream",
     "text": [
      "null device \n",
      "          1 \n",
      "[1] 0.9701559\n"
     ]
    },
    {
     "name": "stderr",
     "output_type": "stream",
     "text": [
      "[+] Loading gcc  7.2.0  ... \n",
      "[+] Loading GSL 2.4 for GCC 7.2.0 ... \n",
      "[+] Loading openmpi 3.0.0  for GCC 7.2.0 \n",
      "[+] Loading R 3.5.0_build2 \n"
     ]
    }
   ],
   "source": [
    "%%bash\n",
    "cut -f 1,6 /data/LNG/Hirotaka/ASYN/PPMI1_all | sed 's/:/\\t/g' | sed 's/_/\\t/g' | cut -f 1,2,5 |\\\n",
    "    grep -v \"NA\" | grep -v \"SNP\" > PPMI1_all.forMH\n",
    "echo '\n",
    "library(data.table)\n",
    "data <- fread(\"PPMI1_all.forMH\", header=F)\n",
    "names(data)=c(\"CHR\", \"BP\", \"P\")\n",
    "data$P = as.numeric(data$P)\n",
    "observed <- sort(data$P)\n",
    "lobs <- -(log10(observed))\n",
    "expected <- c(1:length(observed)) \n",
    "lexp <- -(log10(expected / (length(expected)+1)))\n",
    "# alternative can also do pdf(\"\")\n",
    "png(\"qqplot_GWAS_RESULT.png\")\n",
    "# optional can change the dimensions of the plot by editing the (0,17) to smaller or bigger numbers\n",
    "plot(c(0,17), c(0,17), col=\"red\", lwd=3, type=\"l\", xlab=\"Expected (-logP)\", ylab=\"Observed (-logP)\", xlim=c(0,15), ylim=c(0,15), las=1, xaxs=\"i\", yaxs=\"i\", bty=\"l\")\n",
    "points(lexp, lobs, pch=23, cex=.4, bg=\"black\") \n",
    "dev.off()\n",
    "chisq <- qchisq(1-data$P,1)\n",
    "lambda = median(chisq)/qchisq(0.5,1)\n",
    "print(lambda)\n",
    "' > _QQplot.R\n",
    "module load R\n",
    "Rscript --vanilla _QQplot.R"
   ]
  },
  {
   "cell_type": "markdown",
   "metadata": {},
   "source": [
    "![QQplot](qqplot_GWAS_RESULT.png)\n",
    "Is this a significant draft that I need to correct or do something for?"
   ]
  },
  {
   "cell_type": "code",
   "execution_count": 205,
   "metadata": {},
   "outputs": [
    {
     "name": "stdout",
     "output_type": "stream",
     "text": [
      "null device \n",
      "          1 \n"
     ]
    },
    {
     "name": "stderr",
     "output_type": "stream",
     "text": [
      "[+] Loading gcc  7.2.0  ... \n",
      "[+] Loading GSL 2.4 for GCC 7.2.0 ... \n",
      "[+] Loading openmpi 3.0.0  for GCC 7.2.0 \n",
      "[+] Loading R 3.5.0_build2 \n",
      "\n",
      "For example usage please run: vignette('qqman')\n",
      "\n",
      "Citation appreciated but not required:\n",
      "Turner, S.D. qqman: an R package for visualizing GWAS results using Q-Q and manhattan plots. biorXiv DOI: 10.1101/005165 (2014).\n",
      "\n",
      "Loading required package: data.table\n",
      "Warning message:\n",
      "In manhattan(my_gwas, col = c(\"blue4\", \"orange3\"), suggestiveline = T,  :\n",
      "  No SNP column found. OK unless you're trying to highlight.\n"
     ]
    }
   ],
   "source": [
    "%%bash\n",
    "cut -f 1,6 /data/LNG/Hirotaka/ASYN/PPMI1_all | sed 's/:/\\t/g' | sed 's/_/\\t/g' | cut -f 1,2,5 |\\\n",
    "    grep -v \"NA\" | grep -v \"SNP\" > PPMI1_all.forMH\n",
    "echo '\n",
    "library(\"qqman\")\n",
    "require(\"data.table\")\n",
    "my_gwas = fread(\"tail -n +2 PPMI1_all.forMH\",header=F)\n",
    "names(my_gwas)=c(\"CHR\", \"BP\", \"P\")\n",
    "my_gwas$CHR=as.numeric(my_gwas$CHR)\n",
    "my_gwas$BP=as.numeric(my_gwas$BP)\n",
    "my_gwas$P=as.numeric(my_gwas$P)\n",
    "png(\"manhattan_plot.png\", width=2000, height=1000, pointsize=18)\n",
    "manhattan(my_gwas,col = c(\"blue4\", \"orange3\"), suggestiveline = T, genomewideline = F, ylab=\"-log(P-value)\", main=\"CSF Alpha-synuclein levels\",cex.axis = 0.6,cex = 0.5)\n",
    "dev.off()\n",
    "' > _MHplot.R\n",
    "module load R\n",
    "Rscript --vanilla _MHplot.R"
   ]
  },
  {
   "cell_type": "markdown",
   "metadata": {},
   "source": [
    "![QQplot](manhattan_plot.png)"
   ]
  }
 ],
 "metadata": {
  "kernelspec": {
   "display_name": "Python 3",
   "language": "python",
   "name": "python3"
  },
  "language_info": {
   "codemirror_mode": {
    "name": "ipython",
    "version": 3
   },
   "file_extension": ".py",
   "mimetype": "text/x-python",
   "name": "python",
   "nbconvert_exporter": "python",
   "pygments_lexer": "ipython3",
   "version": "3.5.5"
  }
 },
 "nbformat": 4,
 "nbformat_minor": 2
}
